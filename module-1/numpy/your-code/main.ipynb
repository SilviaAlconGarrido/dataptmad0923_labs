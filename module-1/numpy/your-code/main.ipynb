{
 "cells": [
  {
   "cell_type": "markdown",
   "metadata": {},
   "source": [
    "# Introduction to NumPy\n",
    "\n",
    "\n",
    "#### 1. Import NumPy under the name np."
   ]
  },
  {
   "cell_type": "code",
   "execution_count": 1,
   "metadata": {},
   "outputs": [],
   "source": [
    "# your code here\n",
    "import numpy as np"
   ]
  },
  {
   "cell_type": "markdown",
   "metadata": {},
   "source": [
    "#### 2. Print your NumPy version."
   ]
  },
  {
   "cell_type": "code",
   "execution_count": 2,
   "metadata": {},
   "outputs": [
    {
     "name": "stdout",
     "output_type": "stream",
     "text": [
      "1.25.2\n"
     ]
    }
   ],
   "source": [
    "# your code here\n",
    "\n",
    "print(np.__version__)"
   ]
  },
  {
   "cell_type": "markdown",
   "metadata": {},
   "source": [
    "#### 3. Generate a 2x3x5 3-dimensional array with random values. Assign the array to variable *a*.\n",
    "**Challenge**: there are at least three easy ways that use numpy to generate random arrays. How many ways can you find?"
   ]
  },
  {
   "cell_type": "code",
   "execution_count": 3,
   "metadata": {},
   "outputs": [],
   "source": [
    "# Method 1\n",
    "a = np.random.randint(1,100,(2,3,5))\n",
    "# array aleatorios entre 1 y 99. de 6 filas y 5 elementos por columna"
   ]
  },
  {
   "cell_type": "code",
   "execution_count": 4,
   "metadata": {},
   "outputs": [
    {
     "data": {
      "text/plain": [
       "array([[[60, 39, 53, 86, 55],\n",
       "        [31,  1, 44, 78, 74],\n",
       "        [ 4, 34, 21, 29,  7]],\n",
       "\n",
       "       [[25, 55, 71, 34,  5],\n",
       "        [67, 79, 21, 34, 70],\n",
       "        [ 3, 16, 53, 25, 43]]])"
      ]
     },
     "execution_count": 4,
     "metadata": {},
     "output_type": "execute_result"
    }
   ],
   "source": [
    "a"
   ]
  },
  {
   "cell_type": "code",
   "execution_count": 5,
   "metadata": {},
   "outputs": [],
   "source": [
    "# Method 2\n",
    "a = np.random.rand(2,3,5)\n",
    "#rellenela con muestras aleatorias de una distribución uniforme sobre [0, 1)"
   ]
  },
  {
   "cell_type": "code",
   "execution_count": 6,
   "metadata": {},
   "outputs": [
    {
     "data": {
      "text/plain": [
       "array([[[0.51795732, 0.51004993, 0.87919793, 0.25379221, 0.4774647 ],\n",
       "        [0.49002443, 0.08466991, 0.67721063, 0.46333661, 0.05489534],\n",
       "        [0.08671659, 0.62504672, 0.23303641, 0.15544298, 0.94064764]],\n",
       "\n",
       "       [[0.50529525, 0.26005835, 0.33551993, 0.32945755, 0.97288121],\n",
       "        [0.45111699, 0.08958034, 0.04670151, 0.47258017, 0.64549579],\n",
       "        [0.61652443, 0.11118797, 0.39806141, 0.11862999, 0.79528814]]])"
      ]
     },
     "execution_count": 6,
     "metadata": {},
     "output_type": "execute_result"
    }
   ],
   "source": [
    "a"
   ]
  },
  {
   "cell_type": "code",
   "execution_count": 7,
   "metadata": {},
   "outputs": [],
   "source": [
    "# Method 3\n",
    "a = np.random.randn(2,3,5)\n",
    "#Devuelve una muestra (o muestras) de la distribución “estándar normal”. A diferencia del rand que es uniforme"
   ]
  },
  {
   "cell_type": "code",
   "execution_count": 8,
   "metadata": {},
   "outputs": [
    {
     "data": {
      "text/plain": [
       "array([[[-1.17117659, -1.21114396, -0.21216065, -0.57962521,\n",
       "          0.40400528],\n",
       "        [ 0.97848513,  1.09333507,  0.76781744,  0.91676405,\n",
       "         -0.22360985],\n",
       "        [ 0.62637517,  0.92426898, -1.05598622,  0.70859167,\n",
       "          0.13149388]],\n",
       "\n",
       "       [[-0.80196831, -1.12879031,  0.19628027,  0.04263611,\n",
       "          1.41937958],\n",
       "        [ 0.59308846, -0.31341795, -2.51974315,  0.28227946,\n",
       "          1.14878493],\n",
       "        [ 2.30001248, -1.08007554, -0.00924123, -0.54098761,\n",
       "         -1.28945106]]])"
      ]
     },
     "execution_count": 8,
     "metadata": {},
     "output_type": "execute_result"
    }
   ],
   "source": [
    "a"
   ]
  },
  {
   "cell_type": "markdown",
   "metadata": {},
   "source": [
    "#### 4. Print *a*.\n"
   ]
  },
  {
   "cell_type": "code",
   "execution_count": 9,
   "metadata": {},
   "outputs": [
    {
     "name": "stdout",
     "output_type": "stream",
     "text": [
      "[[[-1.17117659 -1.21114396 -0.21216065 -0.57962521  0.40400528]\n",
      "  [ 0.97848513  1.09333507  0.76781744  0.91676405 -0.22360985]\n",
      "  [ 0.62637517  0.92426898 -1.05598622  0.70859167  0.13149388]]\n",
      "\n",
      " [[-0.80196831 -1.12879031  0.19628027  0.04263611  1.41937958]\n",
      "  [ 0.59308846 -0.31341795 -2.51974315  0.28227946  1.14878493]\n",
      "  [ 2.30001248 -1.08007554 -0.00924123 -0.54098761 -1.28945106]]]\n"
     ]
    }
   ],
   "source": [
    "# your code here\n",
    "print(a)"
   ]
  },
  {
   "cell_type": "markdown",
   "metadata": {},
   "source": [
    "#### 5. Create a 5x2x3 3-dimensional array with all values equaling 1. Assign the array to variable *b*."
   ]
  },
  {
   "cell_type": "code",
   "execution_count": 10,
   "metadata": {},
   "outputs": [],
   "source": [
    "# your code here\n",
    "b = np.ones((5,2,3))\n"
   ]
  },
  {
   "cell_type": "code",
   "execution_count": 11,
   "metadata": {},
   "outputs": [
    {
     "data": {
      "text/plain": [
       "array([[[1., 1., 1.],\n",
       "        [1., 1., 1.]],\n",
       "\n",
       "       [[1., 1., 1.],\n",
       "        [1., 1., 1.]],\n",
       "\n",
       "       [[1., 1., 1.],\n",
       "        [1., 1., 1.]],\n",
       "\n",
       "       [[1., 1., 1.],\n",
       "        [1., 1., 1.]],\n",
       "\n",
       "       [[1., 1., 1.],\n",
       "        [1., 1., 1.]]])"
      ]
     },
     "execution_count": 11,
     "metadata": {},
     "output_type": "execute_result"
    }
   ],
   "source": [
    "b"
   ]
  },
  {
   "cell_type": "markdown",
   "metadata": {},
   "source": [
    "#### 6. Print *b*.\n"
   ]
  },
  {
   "cell_type": "code",
   "execution_count": 12,
   "metadata": {},
   "outputs": [
    {
     "name": "stdout",
     "output_type": "stream",
     "text": [
      "[[[1. 1. 1.]\n",
      "  [1. 1. 1.]]\n",
      "\n",
      " [[1. 1. 1.]\n",
      "  [1. 1. 1.]]\n",
      "\n",
      " [[1. 1. 1.]\n",
      "  [1. 1. 1.]]\n",
      "\n",
      " [[1. 1. 1.]\n",
      "  [1. 1. 1.]]\n",
      "\n",
      " [[1. 1. 1.]\n",
      "  [1. 1. 1.]]]\n"
     ]
    }
   ],
   "source": [
    "# your code here\n",
    "print(b)"
   ]
  },
  {
   "cell_type": "markdown",
   "metadata": {},
   "source": [
    "#### 7. Do *a* and *b* have the same size? How do you prove that in Python code?"
   ]
  },
  {
   "cell_type": "code",
   "execution_count": 13,
   "metadata": {},
   "outputs": [
    {
     "name": "stdout",
     "output_type": "stream",
     "text": [
      "30\n",
      "(2, 3, 5)\n"
     ]
    }
   ],
   "source": [
    "# your code here\n",
    "print(a.size)\n",
    "print(a.shape)"
   ]
  },
  {
   "cell_type": "code",
   "execution_count": 14,
   "metadata": {},
   "outputs": [
    {
     "name": "stdout",
     "output_type": "stream",
     "text": [
      "30\n",
      "(5, 2, 3)\n"
     ]
    }
   ],
   "source": [
    "print(b.size)\n",
    "print(b.shape)"
   ]
  },
  {
   "cell_type": "code",
   "execution_count": 15,
   "metadata": {},
   "outputs": [
    {
     "data": {
      "text/plain": [
       "True"
      ]
     },
     "execution_count": 15,
     "metadata": {},
     "output_type": "execute_result"
    }
   ],
   "source": [
    "a.size == b.size"
   ]
  },
  {
   "cell_type": "markdown",
   "metadata": {},
   "source": [
    "#### 8. Are you able to add *a* and *b*? Why or why not?\n"
   ]
  },
  {
   "cell_type": "code",
   "execution_count": 17,
   "metadata": {},
   "outputs": [],
   "source": [
    "# your answer here\n",
    "#suma = a + b\n",
    "#suma\n",
    "#no se puede sumar porque las dimensiones del array no tienen el mismo tamaño"
   ]
  },
  {
   "cell_type": "code",
   "execution_count": 18,
   "metadata": {},
   "outputs": [
    {
     "data": {
      "text/plain": [
       "(2, 3, 5)"
      ]
     },
     "execution_count": 18,
     "metadata": {},
     "output_type": "execute_result"
    }
   ],
   "source": [
    "a.shape"
   ]
  },
  {
   "cell_type": "code",
   "execution_count": 19,
   "metadata": {},
   "outputs": [
    {
     "data": {
      "text/plain": [
       "(5, 2, 3)"
      ]
     },
     "execution_count": 19,
     "metadata": {},
     "output_type": "execute_result"
    }
   ],
   "source": [
    "b.shape"
   ]
  },
  {
   "cell_type": "markdown",
   "metadata": {},
   "source": [
    "#### 9. Transpose *b* so that it has the same structure of *a* (i.e. become a 2x3x5 array). Assign the transposed array to variable *c*."
   ]
  },
  {
   "cell_type": "code",
   "execution_count": 20,
   "metadata": {},
   "outputs": [
    {
     "name": "stdout",
     "output_type": "stream",
     "text": [
      "[[[1. 1. 1.]\n",
      "  [1. 1. 1.]]\n",
      "\n",
      " [[1. 1. 1.]\n",
      "  [1. 1. 1.]]\n",
      "\n",
      " [[1. 1. 1.]\n",
      "  [1. 1. 1.]]\n",
      "\n",
      " [[1. 1. 1.]\n",
      "  [1. 1. 1.]]\n",
      "\n",
      " [[1. 1. 1.]\n",
      "  [1. 1. 1.]]]\n"
     ]
    },
    {
     "data": {
      "text/plain": [
       "array([[[1., 1., 1., 1., 1.],\n",
       "        [1., 1., 1., 1., 1.],\n",
       "        [1., 1., 1., 1., 1.]],\n",
       "\n",
       "       [[1., 1., 1., 1., 1.],\n",
       "        [1., 1., 1., 1., 1.],\n",
       "        [1., 1., 1., 1., 1.]]])"
      ]
     },
     "execution_count": 20,
     "metadata": {},
     "output_type": "execute_result"
    }
   ],
   "source": [
    "# your code here\n",
    "print(b)\n",
    "b2 = np.transpose(b)\n",
    "c = b2.reshape((2,3,5))\n",
    "c"
   ]
  },
  {
   "cell_type": "markdown",
   "metadata": {},
   "source": [
    "#### 10. Try to add *a* and *c*. Now it should work. Assign the sum to variable *d*. But why does it work now?"
   ]
  },
  {
   "cell_type": "code",
   "execution_count": 21,
   "metadata": {},
   "outputs": [
    {
     "name": "stdout",
     "output_type": "stream",
     "text": [
      "[[[-1.17117659 -1.21114396 -0.21216065 -0.57962521  0.40400528]\n",
      "  [ 0.97848513  1.09333507  0.76781744  0.91676405 -0.22360985]\n",
      "  [ 0.62637517  0.92426898 -1.05598622  0.70859167  0.13149388]]\n",
      "\n",
      " [[-0.80196831 -1.12879031  0.19628027  0.04263611  1.41937958]\n",
      "  [ 0.59308846 -0.31341795 -2.51974315  0.28227946  1.14878493]\n",
      "  [ 2.30001248 -1.08007554 -0.00924123 -0.54098761 -1.28945106]]]\n",
      "(2, 3, 5)\n",
      "(5, 2, 3)\n",
      "(2, 3, 5)\n"
     ]
    },
    {
     "data": {
      "text/plain": [
       "array([[[-0.17117659, -0.21114396,  0.78783935,  0.42037479,\n",
       "          1.40400528],\n",
       "        [ 1.97848513,  2.09333507,  1.76781744,  1.91676405,\n",
       "          0.77639015],\n",
       "        [ 1.62637517,  1.92426898, -0.05598622,  1.70859167,\n",
       "          1.13149388]],\n",
       "\n",
       "       [[ 0.19803169, -0.12879031,  1.19628027,  1.04263611,\n",
       "          2.41937958],\n",
       "        [ 1.59308846,  0.68658205, -1.51974315,  1.28227946,\n",
       "          2.14878493],\n",
       "        [ 3.30001248, -0.08007554,  0.99075877,  0.45901239,\n",
       "         -0.28945106]]])"
      ]
     },
     "execution_count": 21,
     "metadata": {},
     "output_type": "execute_result"
    }
   ],
   "source": [
    "# your code/answer here\n",
    "print(a)\n",
    "print(a.shape)\n",
    "print(b.shape)\n",
    "print(c.shape)\n",
    "d = a + c\n",
    "d\n",
    "#Ahora ya podemos sumar porque le hemos cambiado a b su estructura (2, 3, 5)"
   ]
  },
  {
   "cell_type": "markdown",
   "metadata": {},
   "source": [
    "#### 11. Print *a* and *d*. Notice the difference and relation of the two array in terms of the values? Explain."
   ]
  },
  {
   "cell_type": "code",
   "execution_count": 22,
   "metadata": {},
   "outputs": [
    {
     "name": "stdout",
     "output_type": "stream",
     "text": [
      "[[[-1.17117659 -1.21114396 -0.21216065 -0.57962521  0.40400528]\n",
      "  [ 0.97848513  1.09333507  0.76781744  0.91676405 -0.22360985]\n",
      "  [ 0.62637517  0.92426898 -1.05598622  0.70859167  0.13149388]]\n",
      "\n",
      " [[-0.80196831 -1.12879031  0.19628027  0.04263611  1.41937958]\n",
      "  [ 0.59308846 -0.31341795 -2.51974315  0.28227946  1.14878493]\n",
      "  [ 2.30001248 -1.08007554 -0.00924123 -0.54098761 -1.28945106]]]\n",
      "[[[-0.17117659 -0.21114396  0.78783935  0.42037479  1.40400528]\n",
      "  [ 1.97848513  2.09333507  1.76781744  1.91676405  0.77639015]\n",
      "  [ 1.62637517  1.92426898 -0.05598622  1.70859167  1.13149388]]\n",
      "\n",
      " [[ 0.19803169 -0.12879031  1.19628027  1.04263611  2.41937958]\n",
      "  [ 1.59308846  0.68658205 -1.51974315  1.28227946  2.14878493]\n",
      "  [ 3.30001248 -0.08007554  0.99075877  0.45901239 -0.28945106]]]\n"
     ]
    }
   ],
   "source": [
    "# your code/answer here\n",
    "print(a)\n",
    "print(d)\n",
    "# d contiene la suma de a + c por eso sus valores son distintos"
   ]
  },
  {
   "cell_type": "markdown",
   "metadata": {},
   "source": [
    "#### 12. Multiply *a* and *c*. Assign the result to *e*."
   ]
  },
  {
   "cell_type": "code",
   "execution_count": 23,
   "metadata": {},
   "outputs": [
    {
     "data": {
      "text/plain": [
       "array([[[-1.17117659, -1.21114396, -0.21216065, -0.57962521,\n",
       "          0.40400528],\n",
       "        [ 0.97848513,  1.09333507,  0.76781744,  0.91676405,\n",
       "         -0.22360985],\n",
       "        [ 0.62637517,  0.92426898, -1.05598622,  0.70859167,\n",
       "          0.13149388]],\n",
       "\n",
       "       [[-0.80196831, -1.12879031,  0.19628027,  0.04263611,\n",
       "          1.41937958],\n",
       "        [ 0.59308846, -0.31341795, -2.51974315,  0.28227946,\n",
       "          1.14878493],\n",
       "        [ 2.30001248, -1.08007554, -0.00924123, -0.54098761,\n",
       "         -1.28945106]]])"
      ]
     },
     "execution_count": 23,
     "metadata": {},
     "output_type": "execute_result"
    }
   ],
   "source": [
    "# your code here\n",
    "e = a * c\n",
    "e"
   ]
  },
  {
   "cell_type": "markdown",
   "metadata": {},
   "source": [
    "#### 13. Does *e* equal to *a*? Why or why not?\n"
   ]
  },
  {
   "cell_type": "code",
   "execution_count": 24,
   "metadata": {},
   "outputs": [
    {
     "data": {
      "text/plain": [
       "array([[[ True,  True,  True,  True,  True],\n",
       "        [ True,  True,  True,  True,  True],\n",
       "        [ True,  True,  True,  True,  True]],\n",
       "\n",
       "       [[ True,  True,  True,  True,  True],\n",
       "        [ True,  True,  True,  True,  True],\n",
       "        [ True,  True,  True,  True,  True]]])"
      ]
     },
     "execution_count": 24,
     "metadata": {},
     "output_type": "execute_result"
    }
   ],
   "source": [
    "# your code/answer here\n",
    "e == a\n",
    "# \"e\" es igual a \"a\" porque en la operacion anterior \"a\" lo hemos multiplicado por 1, por lo tanto no cambia su valor"
   ]
  },
  {
   "cell_type": "code",
   "execution_count": 25,
   "metadata": {},
   "outputs": [
    {
     "name": "stdout",
     "output_type": "stream",
     "text": [
      "[[[1. 1. 1. 1. 1.]\n",
      "  [1. 1. 1. 1. 1.]\n",
      "  [1. 1. 1. 1. 1.]]\n",
      "\n",
      " [[1. 1. 1. 1. 1.]\n",
      "  [1. 1. 1. 1. 1.]\n",
      "  [1. 1. 1. 1. 1.]]]\n"
     ]
    }
   ],
   "source": [
    "print(c)"
   ]
  },
  {
   "cell_type": "code",
   "execution_count": 26,
   "metadata": {},
   "outputs": [
    {
     "name": "stdout",
     "output_type": "stream",
     "text": [
      "[[[-1.17117659 -1.21114396 -0.21216065 -0.57962521  0.40400528]\n",
      "  [ 0.97848513  1.09333507  0.76781744  0.91676405 -0.22360985]\n",
      "  [ 0.62637517  0.92426898 -1.05598622  0.70859167  0.13149388]]\n",
      "\n",
      " [[-0.80196831 -1.12879031  0.19628027  0.04263611  1.41937958]\n",
      "  [ 0.59308846 -0.31341795 -2.51974315  0.28227946  1.14878493]\n",
      "  [ 2.30001248 -1.08007554 -0.00924123 -0.54098761 -1.28945106]]]\n"
     ]
    }
   ],
   "source": [
    "print(e)"
   ]
  },
  {
   "cell_type": "code",
   "execution_count": 27,
   "metadata": {},
   "outputs": [
    {
     "name": "stdout",
     "output_type": "stream",
     "text": [
      "[[[-1.17117659 -1.21114396 -0.21216065 -0.57962521  0.40400528]\n",
      "  [ 0.97848513  1.09333507  0.76781744  0.91676405 -0.22360985]\n",
      "  [ 0.62637517  0.92426898 -1.05598622  0.70859167  0.13149388]]\n",
      "\n",
      " [[-0.80196831 -1.12879031  0.19628027  0.04263611  1.41937958]\n",
      "  [ 0.59308846 -0.31341795 -2.51974315  0.28227946  1.14878493]\n",
      "  [ 2.30001248 -1.08007554 -0.00924123 -0.54098761 -1.28945106]]]\n"
     ]
    }
   ],
   "source": [
    "print(a)"
   ]
  },
  {
   "cell_type": "markdown",
   "metadata": {},
   "source": [
    "#### 14. Identify the max, min, and mean values in *d*. Assign those values to variables *d_max*, *d_min* and *d_mean*."
   ]
  },
  {
   "cell_type": "code",
   "execution_count": 28,
   "metadata": {},
   "outputs": [
    {
     "data": {
      "text/plain": [
       "3.300012482787833"
      ]
     },
     "execution_count": 28,
     "metadata": {},
     "output_type": "execute_result"
    }
   ],
   "source": [
    "# your code here\n",
    "d_max =  d.max()\n",
    "d_max\n"
   ]
  },
  {
   "cell_type": "code",
   "execution_count": 29,
   "metadata": {},
   "outputs": [
    {
     "data": {
      "text/plain": [
       "-1.5197431492765863"
      ]
     },
     "execution_count": 29,
     "metadata": {},
     "output_type": "execute_result"
    }
   ],
   "source": [
    "d_min = d.min()\n",
    "d_min"
   ]
  },
  {
   "cell_type": "code",
   "execution_count": 30,
   "metadata": {},
   "outputs": [
    {
     "data": {
      "text/plain": [
       "1.0132073437869265"
      ]
     },
     "execution_count": 30,
     "metadata": {},
     "output_type": "execute_result"
    }
   ],
   "source": [
    "d_mean = d.mean()\n",
    "d_mean"
   ]
  },
  {
   "cell_type": "markdown",
   "metadata": {},
   "source": [
    "#### 15. Now we want to label the values in *d*. First create an empty array *f* with the same shape (i.e. 2x3x5) as *d* using `np.empty`.\n"
   ]
  },
  {
   "cell_type": "code",
   "execution_count": 31,
   "metadata": {},
   "outputs": [
    {
     "data": {
      "text/plain": [
       "array([[[1.17117659, 1.21114396, 0.21216065, 0.57962521, 0.40400528],\n",
       "        [0.97848513, 1.09333507, 0.76781744, 0.91676405, 0.22360985],\n",
       "        [0.62637517, 0.92426898, 1.05598622, 0.70859167, 0.13149388]],\n",
       "\n",
       "       [[0.80196831, 1.12879031, 0.19628027, 0.04263611, 1.41937958],\n",
       "        [0.59308846, 0.31341795, 2.51974315, 0.28227946, 1.14878493],\n",
       "        [2.30001248, 1.08007554, 0.00924123, 0.54098761, 1.28945106]]])"
      ]
     },
     "execution_count": 31,
     "metadata": {},
     "output_type": "execute_result"
    }
   ],
   "source": [
    "# your code here\n",
    "f = np.empty([2, 3, 5])\n",
    "f"
   ]
  },
  {
   "cell_type": "markdown",
   "metadata": {},
   "source": [
    "#### 16. Populate the values in *f*. \n",
    "\n",
    "For each value in *d*, if it's larger than *d_min* but smaller than *d_mean*, assign 25 to the corresponding value in *f*. If a value in *d* is larger than *d_mean* but smaller than *d_max*, assign 75 to the corresponding value in *f*. If a value equals to *d_mean*, assign 50 to the corresponding value in *f*. Assign 0 to the corresponding value(s) in *f* for *d_min* in *d*. Assign 100 to the corresponding value(s) in *f* for *d_max* in *d*. In the end, f should have only the following values: 0, 25, 50, 75, and 100.\n",
    "\n",
    "**Note**: you don't have to use Numpy in this question."
   ]
  },
  {
   "cell_type": "code",
   "execution_count": 42,
   "metadata": {},
   "outputs": [
    {
     "data": {
      "text/plain": [
       "array([[[ 25.,  25.,  25.,  25.,  75.],\n",
       "        [ 75.,  75.,  75.,  75.,  25.],\n",
       "        [ 75.,  75.,  25.,  75.,  75.]],\n",
       "\n",
       "       [[ 25.,  25.,  75.,  75.,  75.],\n",
       "        [ 75.,  25.,   0.,  75.,  75.],\n",
       "        [100.,  25.,  25.,  25.,  25.]]])"
      ]
     },
     "execution_count": 42,
     "metadata": {},
     "output_type": "execute_result"
    }
   ],
   "source": [
    "mask0 = d == d_min\n",
    "mask25 = (d > d_min) & (d < d_mean)\n",
    "mask75 = (d > d_mean) & (d < d_max)\n",
    "mask50 = d == d_mean\n",
    "mask100 = d == d_max\n",
    "\n",
    "f[mask0]= 0\n",
    "f[mask25]= 25\n",
    "f[mask75]= 75\n",
    "f[mask50]= 50\n",
    "f[mask100]= 100\n",
    "f "
   ]
  },
  {
   "cell_type": "markdown",
   "metadata": {},
   "source": [
    "#### 17. Print *d* and *f*. Do you have your expected *f*?\n",
    "For instance, if your *d* is:\n",
    "```python\n",
    "[[[1.85836099, 1.67064465, 1.62576044, 1.40243961, 1.88454931],\n",
    "[1.75354326, 1.69403643, 1.36729252, 1.61415071, 1.12104981],\n",
    "[1.72201435, 1.1862918 , 1.87078449, 1.7726778 , 1.88180042]],\n",
    "[[1.44747908, 1.31673383, 1.02000951, 1.52218947, 1.97066381],\n",
    "[1.79129243, 1.74983003, 1.96028037, 1.85166831, 1.65450881],\n",
    "[1.18068344, 1.9587381 , 1.00656599, 1.93402165, 1.73514584]]]\n",
    "```\n",
    "Your *f* should be:\n",
    "```python\n",
    "[[[ 75.,  75.,  75.,  25.,  75.],\n",
    "[ 75.,  75.,  25.,  25.,  25.],\n",
    "[ 75.,  25.,  75.,  75.,  75.]],\n",
    "[[ 25.,  25.,  25.,  25., 100.],\n",
    "[ 75.,  75.,  75.,  75.,  75.],\n",
    "[ 25.,  75.,   0.,  75.,  75.]]]\n",
    "```"
   ]
  },
  {
   "cell_type": "code",
   "execution_count": 43,
   "metadata": {},
   "outputs": [
    {
     "name": "stdout",
     "output_type": "stream",
     "text": [
      "[[[-0.17117659 -0.21114396  0.78783935  0.42037479  1.40400528]\n",
      "  [ 1.97848513  2.09333507  1.76781744  1.91676405  0.77639015]\n",
      "  [ 1.62637517  1.92426898 -0.05598622  1.70859167  1.13149388]]\n",
      "\n",
      " [[ 0.19803169 -0.12879031  1.19628027  1.04263611  2.41937958]\n",
      "  [ 1.59308846  0.68658205 -1.51974315  1.28227946  2.14878493]\n",
      "  [ 3.30001248 -0.08007554  0.99075877  0.45901239 -0.28945106]]]\n",
      "[[[ 25.  25.  25.  25.  75.]\n",
      "  [ 75.  75.  75.  75.  25.]\n",
      "  [ 75.  75.  25.  75.  75.]]\n",
      "\n",
      " [[ 25.  25.  75.  75.  75.]\n",
      "  [ 75.  25.   0.  75.  75.]\n",
      "  [100.  25.  25.  25.  25.]]]\n"
     ]
    }
   ],
   "source": [
    "# your code here\n",
    "print(d)\n",
    "print(f)"
   ]
  },
  {
   "cell_type": "markdown",
   "metadata": {},
   "source": [
    "#### 18. Bonus question: instead of using numbers (i.e. 0, 25, 50, 75, and 100), use string values  (\"A\", \"B\", \"C\", \"D\", and \"E\") to label the array elements. For the example above, the expected result is:\n",
    "\n",
    "```python\n",
    "[[[ 'D',  'D',  'D',  'B',  'D'],\n",
    "[ 'D',  'D',  'B',  'B',  'B'],\n",
    "[ 'D',  'B',  'D',  'D',  'D']],\n",
    "[[ 'B',  'B',  'B',  'B',  'E'],\n",
    "[ 'D',  'D',  'D',  'D',  'D'],\n",
    "[ 'B',  'D',   'A',  'D', 'D']]]\n",
    "```\n",
    "**Note**: you don't have to use Numpy in this question."
   ]
  },
  {
   "cell_type": "code",
   "execution_count": 50,
   "metadata": {},
   "outputs": [
    {
     "data": {
      "text/plain": [
       "array([[['25.0', '25.0', '25.0', '25.0', '75.0'],\n",
       "        ['75.0', '75.0', '75.0', '75.0', '25.0'],\n",
       "        ['75.0', '75.0', '25.0', '75.0', '75.0']],\n",
       "\n",
       "       [['25.0', '25.0', '75.0', '75.0', '75.0'],\n",
       "        ['75.0', '25.0', '0.0', '75.0', '75.0'],\n",
       "        ['100.0', '25.0', '25.0', '25.0', '25.0']]], dtype='<U32')"
      ]
     },
     "execution_count": 50,
     "metadata": {},
     "output_type": "execute_result"
    }
   ],
   "source": [
    "# your code here\n",
    "\n",
    "g = f.astype(str)\n",
    "g\n"
   ]
  },
  {
   "cell_type": "code",
   "execution_count": 54,
   "metadata": {},
   "outputs": [
    {
     "data": {
      "text/plain": [
       "array([[['B', 'B', 'B', 'B', 'C'],\n",
       "        ['C', 'C', 'C', 'C', 'B'],\n",
       "        ['C', 'C', 'B', 'C', 'C']],\n",
       "\n",
       "       [['B', 'B', 'C', 'C', 'C'],\n",
       "        ['C', 'B', 'A', 'C', 'C'],\n",
       "        ['E', 'B', 'B', 'B', 'B']]], dtype='<U32')"
      ]
     },
     "execution_count": 54,
     "metadata": {},
     "output_type": "execute_result"
    }
   ],
   "source": [
    "g[g == '0.0'] = 'A'\n",
    "g[g == '25.0']= 'B'\n",
    "g[g == '75.0']= 'C'\n",
    "g[g == '50.0']= 'D'\n",
    "g[g == '100.0']= 'E'\n",
    "g "
   ]
  }
 ],
 "metadata": {
  "kernelspec": {
   "display_name": "Python 3 (ipykernel)",
   "language": "python",
   "name": "python3"
  },
  "language_info": {
   "codemirror_mode": {
    "name": "ipython",
    "version": 3
   },
   "file_extension": ".py",
   "mimetype": "text/x-python",
   "name": "python",
   "nbconvert_exporter": "python",
   "pygments_lexer": "ipython3",
   "version": "3.10.13"
  }
 },
 "nbformat": 4,
 "nbformat_minor": 2
}
