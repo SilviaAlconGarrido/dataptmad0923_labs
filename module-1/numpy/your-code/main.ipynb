{
 "cells": [
  {
   "cell_type": "markdown",
   "metadata": {},
   "source": [
    "# Introduction to NumPy\n",
    "\n",
    "\n",
    "#### 1. Import NumPy under the name np."
   ]
  },
  {
   "cell_type": "code",
   "execution_count": 1,
   "metadata": {},
   "outputs": [],
   "source": [
    "# your code here\n",
    "import numpy as np"
   ]
  },
  {
   "cell_type": "markdown",
   "metadata": {},
   "source": [
    "#### 2. Print your NumPy version."
   ]
  },
  {
   "cell_type": "code",
   "execution_count": 2,
   "metadata": {},
   "outputs": [
    {
     "name": "stdout",
     "output_type": "stream",
     "text": [
      "1.25.2\n"
     ]
    }
   ],
   "source": [
    "# your code here\n",
    "\n",
    "print(np.__version__)"
   ]
  },
  {
   "cell_type": "markdown",
   "metadata": {},
   "source": [
    "#### 3. Generate a 2x3x5 3-dimensional array with random values. Assign the array to variable *a*.\n",
    "**Challenge**: there are at least three easy ways that use numpy to generate random arrays. How many ways can you find?"
   ]
  },
  {
   "cell_type": "code",
   "execution_count": 3,
   "metadata": {},
   "outputs": [],
   "source": [
    "# Method 1\n",
    "a = np.random.randint(1,100,(2,3,5))\n",
    "# array aleatorios entre 1 y 99. de 6 filas y 5 elementos por columna"
   ]
  },
  {
   "cell_type": "code",
   "execution_count": 4,
   "metadata": {},
   "outputs": [
    {
     "data": {
      "text/plain": [
       "array([[[25, 49, 88, 69, 79],\n",
       "        [87, 89, 46, 18, 96],\n",
       "        [97,  5, 61, 40, 69]],\n",
       "\n",
       "       [[25, 49, 14, 36, 88],\n",
       "        [48, 99, 73,  8, 50],\n",
       "        [ 7, 49, 68, 81, 54]]])"
      ]
     },
     "execution_count": 4,
     "metadata": {},
     "output_type": "execute_result"
    }
   ],
   "source": [
    "a"
   ]
  },
  {
   "cell_type": "code",
   "execution_count": 5,
   "metadata": {},
   "outputs": [],
   "source": [
    "# Method 2\n",
    "a = np.random.rand(2,3,5)\n",
    "#rellenela con muestras aleatorias de una distribución uniforme sobre [0, 1)"
   ]
  },
  {
   "cell_type": "code",
   "execution_count": 6,
   "metadata": {},
   "outputs": [
    {
     "data": {
      "text/plain": [
       "array([[[0.81047448, 0.37774079, 0.36828227, 0.00544382, 0.00105822],\n",
       "        [0.68613927, 0.80417687, 0.41995657, 0.40210187, 0.89373819],\n",
       "        [0.95091408, 0.36245654, 0.43605401, 0.73986373, 0.39189771]],\n",
       "\n",
       "       [[0.62090669, 0.3834445 , 0.47946457, 0.03309998, 0.56257032],\n",
       "        [0.86497841, 0.71983998, 0.42687437, 0.47780867, 0.74370026],\n",
       "        [0.02136426, 0.48414318, 0.88542742, 0.06276169, 0.33599132]]])"
      ]
     },
     "execution_count": 6,
     "metadata": {},
     "output_type": "execute_result"
    }
   ],
   "source": [
    "a"
   ]
  },
  {
   "cell_type": "code",
   "execution_count": 7,
   "metadata": {},
   "outputs": [],
   "source": [
    "# Method 3\n",
    "a = np.random.randn(2,3,5)\n",
    "#Devuelve una muestra (o muestras) de la distribución “estándar normal”. A diferencia del rand que es uniforme"
   ]
  },
  {
   "cell_type": "code",
   "execution_count": 8,
   "metadata": {},
   "outputs": [
    {
     "data": {
      "text/plain": [
       "array([[[-0.54840923,  1.31802499, -0.41512778, -0.80452108,\n",
       "         -0.15312505],\n",
       "        [ 0.19915177,  0.7317921 ,  0.62815314,  1.06264667,\n",
       "         -0.7080739 ],\n",
       "        [-1.02989084, -1.60894989, -0.32745814, -0.10263519,\n",
       "          0.24205692]],\n",
       "\n",
       "       [[-0.28054188,  0.39191079,  0.92809878,  2.39127402,\n",
       "          0.22009283],\n",
       "        [-0.65269423, -0.00316136, -0.94535906,  0.66467865,\n",
       "         -1.69494702],\n",
       "        [ 0.84942992,  1.027243  , -1.3509921 , -0.31315723,\n",
       "         -1.46638249]]])"
      ]
     },
     "execution_count": 8,
     "metadata": {},
     "output_type": "execute_result"
    }
   ],
   "source": [
    "a"
   ]
  },
  {
   "cell_type": "markdown",
   "metadata": {},
   "source": [
    "#### 4. Print *a*.\n"
   ]
  },
  {
   "cell_type": "code",
   "execution_count": 9,
   "metadata": {},
   "outputs": [
    {
     "name": "stdout",
     "output_type": "stream",
     "text": [
      "[[[-0.54840923  1.31802499 -0.41512778 -0.80452108 -0.15312505]\n",
      "  [ 0.19915177  0.7317921   0.62815314  1.06264667 -0.7080739 ]\n",
      "  [-1.02989084 -1.60894989 -0.32745814 -0.10263519  0.24205692]]\n",
      "\n",
      " [[-0.28054188  0.39191079  0.92809878  2.39127402  0.22009283]\n",
      "  [-0.65269423 -0.00316136 -0.94535906  0.66467865 -1.69494702]\n",
      "  [ 0.84942992  1.027243   -1.3509921  -0.31315723 -1.46638249]]]\n"
     ]
    }
   ],
   "source": [
    "# your code here\n",
    "print(a)"
   ]
  },
  {
   "cell_type": "markdown",
   "metadata": {},
   "source": [
    "#### 5. Create a 5x2x3 3-dimensional array with all values equaling 1. Assign the array to variable *b*."
   ]
  },
  {
   "cell_type": "code",
   "execution_count": 10,
   "metadata": {},
   "outputs": [],
   "source": [
    "# your code here\n",
    "b = np.ones((5,2,3))\n"
   ]
  },
  {
   "cell_type": "code",
   "execution_count": 11,
   "metadata": {},
   "outputs": [
    {
     "data": {
      "text/plain": [
       "array([[[1., 1., 1.],\n",
       "        [1., 1., 1.]],\n",
       "\n",
       "       [[1., 1., 1.],\n",
       "        [1., 1., 1.]],\n",
       "\n",
       "       [[1., 1., 1.],\n",
       "        [1., 1., 1.]],\n",
       "\n",
       "       [[1., 1., 1.],\n",
       "        [1., 1., 1.]],\n",
       "\n",
       "       [[1., 1., 1.],\n",
       "        [1., 1., 1.]]])"
      ]
     },
     "execution_count": 11,
     "metadata": {},
     "output_type": "execute_result"
    }
   ],
   "source": [
    "b"
   ]
  },
  {
   "cell_type": "markdown",
   "metadata": {},
   "source": [
    "#### 6. Print *b*.\n"
   ]
  },
  {
   "cell_type": "code",
   "execution_count": 12,
   "metadata": {},
   "outputs": [
    {
     "name": "stdout",
     "output_type": "stream",
     "text": [
      "[[[1. 1. 1.]\n",
      "  [1. 1. 1.]]\n",
      "\n",
      " [[1. 1. 1.]\n",
      "  [1. 1. 1.]]\n",
      "\n",
      " [[1. 1. 1.]\n",
      "  [1. 1. 1.]]\n",
      "\n",
      " [[1. 1. 1.]\n",
      "  [1. 1. 1.]]\n",
      "\n",
      " [[1. 1. 1.]\n",
      "  [1. 1. 1.]]]\n"
     ]
    }
   ],
   "source": [
    "# your code here\n",
    "print(b)"
   ]
  },
  {
   "cell_type": "markdown",
   "metadata": {},
   "source": [
    "#### 7. Do *a* and *b* have the same size? How do you prove that in Python code?"
   ]
  },
  {
   "cell_type": "code",
   "execution_count": 13,
   "metadata": {},
   "outputs": [
    {
     "name": "stdout",
     "output_type": "stream",
     "text": [
      "30\n",
      "(2, 3, 5)\n"
     ]
    }
   ],
   "source": [
    "# your code here\n",
    "print(a.size)\n",
    "print(a.shape)"
   ]
  },
  {
   "cell_type": "code",
   "execution_count": 14,
   "metadata": {},
   "outputs": [
    {
     "name": "stdout",
     "output_type": "stream",
     "text": [
      "30\n",
      "(5, 2, 3)\n"
     ]
    }
   ],
   "source": [
    "print(b.size)\n",
    "print(b.shape)"
   ]
  },
  {
   "cell_type": "code",
   "execution_count": 15,
   "metadata": {},
   "outputs": [
    {
     "data": {
      "text/plain": [
       "True"
      ]
     },
     "execution_count": 15,
     "metadata": {},
     "output_type": "execute_result"
    }
   ],
   "source": [
    "a.size == b.size"
   ]
  },
  {
   "cell_type": "markdown",
   "metadata": {},
   "source": [
    "#### 8. Are you able to add *a* and *b*? Why or why not?\n"
   ]
  },
  {
   "cell_type": "code",
   "execution_count": 16,
   "metadata": {},
   "outputs": [
    {
     "ename": "ValueError",
     "evalue": "operands could not be broadcast together with shapes (2,3,5) (5,2,3) ",
     "output_type": "error",
     "traceback": [
      "\u001b[0;31m---------------------------------------------------------------------------\u001b[0m",
      "\u001b[0;31mValueError\u001b[0m                                Traceback (most recent call last)",
      "Input \u001b[0;32mIn [16]\u001b[0m, in \u001b[0;36m<cell line: 2>\u001b[0;34m()\u001b[0m\n\u001b[1;32m      1\u001b[0m \u001b[38;5;66;03m# your answer here\u001b[39;00m\n\u001b[0;32m----> 2\u001b[0m suma \u001b[38;5;241m=\u001b[39m \u001b[43ma\u001b[49m\u001b[43m \u001b[49m\u001b[38;5;241;43m+\u001b[39;49m\u001b[43m \u001b[49m\u001b[43mb\u001b[49m\n\u001b[1;32m      3\u001b[0m suma\n",
      "\u001b[0;31mValueError\u001b[0m: operands could not be broadcast together with shapes (2,3,5) (5,2,3) "
     ]
    }
   ],
   "source": [
    "# your answer here\n",
    "suma = a + b\n",
    "suma\n",
    "#no se puede sumar porque las dimensiones del array no tienen el mismo tamaño"
   ]
  },
  {
   "cell_type": "code",
   "execution_count": 18,
   "metadata": {},
   "outputs": [
    {
     "data": {
      "text/plain": [
       "(2, 3, 5)"
      ]
     },
     "execution_count": 18,
     "metadata": {},
     "output_type": "execute_result"
    }
   ],
   "source": [
    "a.shape"
   ]
  },
  {
   "cell_type": "code",
   "execution_count": 19,
   "metadata": {},
   "outputs": [
    {
     "data": {
      "text/plain": [
       "(5, 2, 3)"
      ]
     },
     "execution_count": 19,
     "metadata": {},
     "output_type": "execute_result"
    }
   ],
   "source": [
    "b.shape"
   ]
  },
  {
   "cell_type": "markdown",
   "metadata": {},
   "source": [
    "#### 9. Transpose *b* so that it has the same structure of *a* (i.e. become a 2x3x5 array). Assign the transposed array to variable *c*."
   ]
  },
  {
   "cell_type": "code",
   "execution_count": 20,
   "metadata": {},
   "outputs": [
    {
     "name": "stdout",
     "output_type": "stream",
     "text": [
      "[[[1. 1. 1.]\n",
      "  [1. 1. 1.]]\n",
      "\n",
      " [[1. 1. 1.]\n",
      "  [1. 1. 1.]]\n",
      "\n",
      " [[1. 1. 1.]\n",
      "  [1. 1. 1.]]\n",
      "\n",
      " [[1. 1. 1.]\n",
      "  [1. 1. 1.]]\n",
      "\n",
      " [[1. 1. 1.]\n",
      "  [1. 1. 1.]]]\n"
     ]
    },
    {
     "data": {
      "text/plain": [
       "array([[[1., 1., 1., 1., 1.],\n",
       "        [1., 1., 1., 1., 1.],\n",
       "        [1., 1., 1., 1., 1.]],\n",
       "\n",
       "       [[1., 1., 1., 1., 1.],\n",
       "        [1., 1., 1., 1., 1.],\n",
       "        [1., 1., 1., 1., 1.]]])"
      ]
     },
     "execution_count": 20,
     "metadata": {},
     "output_type": "execute_result"
    }
   ],
   "source": [
    "# your code here\n",
    "print(b)\n",
    "b2 = np.transpose(b)\n",
    "c = b2.reshape((2,3,5))\n",
    "c"
   ]
  },
  {
   "cell_type": "markdown",
   "metadata": {},
   "source": [
    "#### 10. Try to add *a* and *c*. Now it should work. Assign the sum to variable *d*. But why does it work now?"
   ]
  },
  {
   "cell_type": "code",
   "execution_count": 21,
   "metadata": {},
   "outputs": [
    {
     "name": "stdout",
     "output_type": "stream",
     "text": [
      "[[[-0.54840923  1.31802499 -0.41512778 -0.80452108 -0.15312505]\n",
      "  [ 0.19915177  0.7317921   0.62815314  1.06264667 -0.7080739 ]\n",
      "  [-1.02989084 -1.60894989 -0.32745814 -0.10263519  0.24205692]]\n",
      "\n",
      " [[-0.28054188  0.39191079  0.92809878  2.39127402  0.22009283]\n",
      "  [-0.65269423 -0.00316136 -0.94535906  0.66467865 -1.69494702]\n",
      "  [ 0.84942992  1.027243   -1.3509921  -0.31315723 -1.46638249]]]\n",
      "(2, 3, 5)\n",
      "(5, 2, 3)\n",
      "(2, 3, 5)\n"
     ]
    },
    {
     "data": {
      "text/plain": [
       "array([[[ 0.45159077,  2.31802499,  0.58487222,  0.19547892,\n",
       "          0.84687495],\n",
       "        [ 1.19915177,  1.7317921 ,  1.62815314,  2.06264667,\n",
       "          0.2919261 ],\n",
       "        [-0.02989084, -0.60894989,  0.67254186,  0.89736481,\n",
       "          1.24205692]],\n",
       "\n",
       "       [[ 0.71945812,  1.39191079,  1.92809878,  3.39127402,\n",
       "          1.22009283],\n",
       "        [ 0.34730577,  0.99683864,  0.05464094,  1.66467865,\n",
       "         -0.69494702],\n",
       "        [ 1.84942992,  2.027243  , -0.3509921 ,  0.68684277,\n",
       "         -0.46638249]]])"
      ]
     },
     "execution_count": 21,
     "metadata": {},
     "output_type": "execute_result"
    }
   ],
   "source": [
    "# your code/answer here\n",
    "print(a)\n",
    "print(a.shape)\n",
    "print(b.shape)\n",
    "print(c.shape)\n",
    "d = a + c\n",
    "d\n",
    "#Ahora ya podemos sumar porque le hemos cambiado a b su estructura (2, 3, 5)"
   ]
  },
  {
   "cell_type": "markdown",
   "metadata": {},
   "source": [
    "#### 11. Print *a* and *d*. Notice the difference and relation of the two array in terms of the values? Explain."
   ]
  },
  {
   "cell_type": "code",
   "execution_count": 22,
   "metadata": {},
   "outputs": [
    {
     "name": "stdout",
     "output_type": "stream",
     "text": [
      "[[[-0.54840923  1.31802499 -0.41512778 -0.80452108 -0.15312505]\n",
      "  [ 0.19915177  0.7317921   0.62815314  1.06264667 -0.7080739 ]\n",
      "  [-1.02989084 -1.60894989 -0.32745814 -0.10263519  0.24205692]]\n",
      "\n",
      " [[-0.28054188  0.39191079  0.92809878  2.39127402  0.22009283]\n",
      "  [-0.65269423 -0.00316136 -0.94535906  0.66467865 -1.69494702]\n",
      "  [ 0.84942992  1.027243   -1.3509921  -0.31315723 -1.46638249]]]\n",
      "[[[ 0.45159077  2.31802499  0.58487222  0.19547892  0.84687495]\n",
      "  [ 1.19915177  1.7317921   1.62815314  2.06264667  0.2919261 ]\n",
      "  [-0.02989084 -0.60894989  0.67254186  0.89736481  1.24205692]]\n",
      "\n",
      " [[ 0.71945812  1.39191079  1.92809878  3.39127402  1.22009283]\n",
      "  [ 0.34730577  0.99683864  0.05464094  1.66467865 -0.69494702]\n",
      "  [ 1.84942992  2.027243   -0.3509921   0.68684277 -0.46638249]]]\n"
     ]
    }
   ],
   "source": [
    "# your code/answer here\n",
    "print(a)\n",
    "print(d)\n",
    "# d contiene la suma de a + c por eso sus valores son distintos"
   ]
  },
  {
   "cell_type": "markdown",
   "metadata": {},
   "source": [
    "#### 12. Multiply *a* and *c*. Assign the result to *e*."
   ]
  },
  {
   "cell_type": "code",
   "execution_count": 23,
   "metadata": {},
   "outputs": [
    {
     "data": {
      "text/plain": [
       "array([[[-0.54840923,  1.31802499, -0.41512778, -0.80452108,\n",
       "         -0.15312505],\n",
       "        [ 0.19915177,  0.7317921 ,  0.62815314,  1.06264667,\n",
       "         -0.7080739 ],\n",
       "        [-1.02989084, -1.60894989, -0.32745814, -0.10263519,\n",
       "          0.24205692]],\n",
       "\n",
       "       [[-0.28054188,  0.39191079,  0.92809878,  2.39127402,\n",
       "          0.22009283],\n",
       "        [-0.65269423, -0.00316136, -0.94535906,  0.66467865,\n",
       "         -1.69494702],\n",
       "        [ 0.84942992,  1.027243  , -1.3509921 , -0.31315723,\n",
       "         -1.46638249]]])"
      ]
     },
     "execution_count": 23,
     "metadata": {},
     "output_type": "execute_result"
    }
   ],
   "source": [
    "# your code here\n",
    "e = a * c\n",
    "e"
   ]
  },
  {
   "cell_type": "markdown",
   "metadata": {},
   "source": [
    "#### 13. Does *e* equal to *a*? Why or why not?\n"
   ]
  },
  {
   "cell_type": "code",
   "execution_count": 24,
   "metadata": {},
   "outputs": [
    {
     "data": {
      "text/plain": [
       "array([[[ True,  True,  True,  True,  True],\n",
       "        [ True,  True,  True,  True,  True],\n",
       "        [ True,  True,  True,  True,  True]],\n",
       "\n",
       "       [[ True,  True,  True,  True,  True],\n",
       "        [ True,  True,  True,  True,  True],\n",
       "        [ True,  True,  True,  True,  True]]])"
      ]
     },
     "execution_count": 24,
     "metadata": {},
     "output_type": "execute_result"
    }
   ],
   "source": [
    "# your code/answer here\n",
    "e == a\n",
    "# \"e\" es igual a \"a\" porque en la operacion anterior \"a\" lo hemos multiplicado por 1, por lo tanto no cambia su valor"
   ]
  },
  {
   "cell_type": "code",
   "execution_count": 25,
   "metadata": {},
   "outputs": [
    {
     "name": "stdout",
     "output_type": "stream",
     "text": [
      "[[[1. 1. 1. 1. 1.]\n",
      "  [1. 1. 1. 1. 1.]\n",
      "  [1. 1. 1. 1. 1.]]\n",
      "\n",
      " [[1. 1. 1. 1. 1.]\n",
      "  [1. 1. 1. 1. 1.]\n",
      "  [1. 1. 1. 1. 1.]]]\n"
     ]
    }
   ],
   "source": [
    "print(c)"
   ]
  },
  {
   "cell_type": "code",
   "execution_count": 26,
   "metadata": {},
   "outputs": [
    {
     "name": "stdout",
     "output_type": "stream",
     "text": [
      "[[[-0.54840923  1.31802499 -0.41512778 -0.80452108 -0.15312505]\n",
      "  [ 0.19915177  0.7317921   0.62815314  1.06264667 -0.7080739 ]\n",
      "  [-1.02989084 -1.60894989 -0.32745814 -0.10263519  0.24205692]]\n",
      "\n",
      " [[-0.28054188  0.39191079  0.92809878  2.39127402  0.22009283]\n",
      "  [-0.65269423 -0.00316136 -0.94535906  0.66467865 -1.69494702]\n",
      "  [ 0.84942992  1.027243   -1.3509921  -0.31315723 -1.46638249]]]\n"
     ]
    }
   ],
   "source": [
    "print(e)"
   ]
  },
  {
   "cell_type": "code",
   "execution_count": 27,
   "metadata": {},
   "outputs": [
    {
     "name": "stdout",
     "output_type": "stream",
     "text": [
      "[[[-0.54840923  1.31802499 -0.41512778 -0.80452108 -0.15312505]\n",
      "  [ 0.19915177  0.7317921   0.62815314  1.06264667 -0.7080739 ]\n",
      "  [-1.02989084 -1.60894989 -0.32745814 -0.10263519  0.24205692]]\n",
      "\n",
      " [[-0.28054188  0.39191079  0.92809878  2.39127402  0.22009283]\n",
      "  [-0.65269423 -0.00316136 -0.94535906  0.66467865 -1.69494702]\n",
      "  [ 0.84942992  1.027243   -1.3509921  -0.31315723 -1.46638249]]]\n"
     ]
    }
   ],
   "source": [
    "print(a)"
   ]
  },
  {
   "cell_type": "markdown",
   "metadata": {},
   "source": [
    "#### 14. Identify the max, min, and mean values in *d*. Assign those values to variables *d_max*, *d_min* and *d_mean*."
   ]
  },
  {
   "cell_type": "code",
   "execution_count": 28,
   "metadata": {},
   "outputs": [
    {
     "data": {
      "text/plain": [
       "3.3912740163831505"
      ]
     },
     "execution_count": 28,
     "metadata": {},
     "output_type": "execute_result"
    }
   ],
   "source": [
    "# your code here\n",
    "d_max =  d.max()\n",
    "d_max\n"
   ]
  },
  {
   "cell_type": "code",
   "execution_count": 29,
   "metadata": {},
   "outputs": [
    {
     "data": {
      "text/plain": [
       "-0.6949470163574327"
      ]
     },
     "execution_count": 29,
     "metadata": {},
     "output_type": "execute_result"
    }
   ],
   "source": [
    "d_min = d.min()\n",
    "d_min"
   ]
  },
  {
   "cell_type": "code",
   "execution_count": 30,
   "metadata": {},
   "outputs": [
    {
     "data": {
      "text/plain": [
       "0.9416375697191463"
      ]
     },
     "execution_count": 30,
     "metadata": {},
     "output_type": "execute_result"
    }
   ],
   "source": [
    "d_mean = d.mean()\n",
    "d_mean"
   ]
  },
  {
   "cell_type": "markdown",
   "metadata": {},
   "source": [
    "#### 15. Now we want to label the values in *d*. First create an empty array *f* with the same shape (i.e. 2x3x5) as *d* using `np.empty`.\n"
   ]
  },
  {
   "cell_type": "code",
   "execution_count": 31,
   "metadata": {},
   "outputs": [
    {
     "data": {
      "text/plain": [
       "array([[[0.54840923, 1.31802499, 0.41512778, 0.80452108, 0.15312505],\n",
       "        [0.19915177, 0.7317921 , 0.62815314, 1.06264667, 0.7080739 ],\n",
       "        [1.02989084, 1.60894989, 0.32745814, 0.10263519, 0.24205692]],\n",
       "\n",
       "       [[0.28054188, 0.39191079, 0.92809878, 2.39127402, 0.22009283],\n",
       "        [0.65269423, 0.00316136, 0.94535906, 0.66467865, 1.69494702],\n",
       "        [0.84942992, 1.027243  , 1.3509921 , 0.31315723, 1.46638249]]])"
      ]
     },
     "execution_count": 31,
     "metadata": {},
     "output_type": "execute_result"
    }
   ],
   "source": [
    "# your code here\n",
    "f = np.empty([2, 3, 5])\n",
    "f"
   ]
  },
  {
   "cell_type": "markdown",
   "metadata": {},
   "source": [
    "#### 16. Populate the values in *f*. \n",
    "\n",
    "For each value in *d*, if it's larger than *d_min* but smaller than *d_mean*, assign 25 to the corresponding value in *f*. If a value in *d* is larger than *d_mean* but smaller than *d_max*, assign 75 to the corresponding value in *f*. If a value equals to *d_mean*, assign 50 to the corresponding value in *f*. Assign 0 to the corresponding value(s) in *f* for *d_min* in *d*. Assign 100 to the corresponding value(s) in *f* for *d_max* in *d*. In the end, f should have only the following values: 0, 25, 50, 75, and 100.\n",
    "\n",
    "**Note**: you don't have to use Numpy in this question."
   ]
  },
  {
   "cell_type": "code",
   "execution_count": 32,
   "metadata": {},
   "outputs": [
    {
     "ename": "SyntaxError",
     "evalue": "invalid syntax (1856175972.py, line 2)",
     "output_type": "error",
     "traceback": [
      "\u001b[0;36m  Input \u001b[0;32mIn [32]\u001b[0;36m\u001b[0m\n\u001b[0;31m    def\u001b[0m\n\u001b[0m        ^\u001b[0m\n\u001b[0;31mSyntaxError\u001b[0m\u001b[0;31m:\u001b[0m invalid syntax\n"
     ]
    }
   ],
   "source": [
    "# your code here \n",
    "def \n",
    "if x < d_min and x > d_mean:\n",
    "f=25\n",
    "if x > d_mean and < d_max:\n",
    "f=75\n",
    "if x = d_mean \n",
    "f = 50\n"
   ]
  },
  {
   "cell_type": "code",
   "execution_count": 45,
   "metadata": {},
   "outputs": [
    {
     "data": {
      "text/plain": [
       "array([[[ 2.50000000e+01,  1.31802499e+00,  2.50000000e+01,\n",
       "          2.50000000e+01,  2.50000000e+01],\n",
       "        [ 1.99151766e-01,  7.31792098e-01,  6.28153144e-01,\n",
       "          1.06264667e+00,  2.50000000e+01],\n",
       "        [ 2.50000000e+01,  2.50000000e+01,  2.50000000e+01,\n",
       "          2.50000000e+01,  2.42056921e-01]],\n",
       "\n",
       "       [[ 2.50000000e+01,  3.91910792e-01,  9.28098776e-01,\n",
       "          2.39127402e+00,  2.20092835e-01],\n",
       "        [ 2.50000000e+01, -3.16136001e-03,  2.50000000e+01,\n",
       "          6.64678649e-01,  0.00000000e+00],\n",
       "        [ 8.49429922e-01,  1.02724300e+00,  2.50000000e+01,\n",
       "          2.50000000e+01,  2.50000000e+01]]])"
      ]
     },
     "execution_count": 45,
     "metadata": {},
     "output_type": "execute_result"
    }
   ],
   "source": [
    "mask0 = d == d_min\n",
    "mask25 = (d > d_min) & (d < d_mean)\n",
    "e[mask0]= 0\n",
    "e[mask25]=25\n",
    "e"
   ]
  },
  {
   "cell_type": "markdown",
   "metadata": {},
   "source": [
    "#### 17. Print *d* and *f*. Do you have your expected *f*?\n",
    "For instance, if your *d* is:\n",
    "```python\n",
    "[[[1.85836099, 1.67064465, 1.62576044, 1.40243961, 1.88454931],\n",
    "[1.75354326, 1.69403643, 1.36729252, 1.61415071, 1.12104981],\n",
    "[1.72201435, 1.1862918 , 1.87078449, 1.7726778 , 1.88180042]],\n",
    "[[1.44747908, 1.31673383, 1.02000951, 1.52218947, 1.97066381],\n",
    "[1.79129243, 1.74983003, 1.96028037, 1.85166831, 1.65450881],\n",
    "[1.18068344, 1.9587381 , 1.00656599, 1.93402165, 1.73514584]]]\n",
    "```\n",
    "Your *f* should be:\n",
    "```python\n",
    "[[[ 75.,  75.,  75.,  25.,  75.],\n",
    "[ 75.,  75.,  25.,  25.,  25.],\n",
    "[ 75.,  25.,  75.,  75.,  75.]],\n",
    "[[ 25.,  25.,  25.,  25., 100.],\n",
    "[ 75.,  75.,  75.,  75.,  75.],\n",
    "[ 25.,  75.,   0.,  75.,  75.]]]\n",
    "```"
   ]
  },
  {
   "cell_type": "code",
   "execution_count": null,
   "metadata": {},
   "outputs": [],
   "source": [
    "# your code here"
   ]
  },
  {
   "cell_type": "markdown",
   "metadata": {},
   "source": [
    "#### 18. Bonus question: instead of using numbers (i.e. 0, 25, 50, 75, and 100), use string values  (\"A\", \"B\", \"C\", \"D\", and \"E\") to label the array elements. For the example above, the expected result is:\n",
    "\n",
    "```python\n",
    "[[[ 'D',  'D',  'D',  'B',  'D'],\n",
    "[ 'D',  'D',  'B',  'B',  'B'],\n",
    "[ 'D',  'B',  'D',  'D',  'D']],\n",
    "[[ 'B',  'B',  'B',  'B',  'E'],\n",
    "[ 'D',  'D',  'D',  'D',  'D'],\n",
    "[ 'B',  'D',   'A',  'D', 'D']]]\n",
    "```\n",
    "**Note**: you don't have to use Numpy in this question."
   ]
  },
  {
   "cell_type": "code",
   "execution_count": 17,
   "metadata": {},
   "outputs": [],
   "source": [
    "# your code here"
   ]
  },
  {
   "cell_type": "code",
   "execution_count": null,
   "metadata": {},
   "outputs": [],
   "source": []
  }
 ],
 "metadata": {
  "kernelspec": {
   "display_name": "Python 3 (ipykernel)",
   "language": "python",
   "name": "python3"
  },
  "language_info": {
   "codemirror_mode": {
    "name": "ipython",
    "version": 3
   },
   "file_extension": ".py",
   "mimetype": "text/x-python",
   "name": "python",
   "nbconvert_exporter": "python",
   "pygments_lexer": "ipython3",
   "version": "3.10.13"
  }
 },
 "nbformat": 4,
 "nbformat_minor": 2
}
