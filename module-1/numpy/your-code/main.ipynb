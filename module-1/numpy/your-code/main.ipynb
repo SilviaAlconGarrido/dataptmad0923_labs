{
 "cells": [
  {
   "cell_type": "markdown",
   "metadata": {},
   "source": [
    "# Introduction to NumPy\n",
    "\n",
    "\n",
    "#### 1. Import NumPy under the name np."
   ]
  },
  {
   "cell_type": "code",
   "execution_count": 2,
   "metadata": {},
   "outputs": [],
   "source": [
    "# your code here\n",
    "import numpy as np"
   ]
  },
  {
   "cell_type": "markdown",
   "metadata": {},
   "source": [
    "#### 2. Print your NumPy version."
   ]
  },
  {
   "cell_type": "code",
   "execution_count": 3,
   "metadata": {},
   "outputs": [
    {
     "name": "stdout",
     "output_type": "stream",
     "text": [
      "1.25.2\n"
     ]
    }
   ],
   "source": [
    "# your code here\n",
    "\n",
    "print(np.__version__)"
   ]
  },
  {
   "cell_type": "markdown",
   "metadata": {},
   "source": [
    "#### 3. Generate a 2x3x5 3-dimensional array with random values. Assign the array to variable *a*.\n",
    "**Challenge**: there are at least three easy ways that use numpy to generate random arrays. How many ways can you find?"
   ]
  },
  {
   "cell_type": "code",
   "execution_count": 32,
   "metadata": {},
   "outputs": [],
   "source": [
    "# Method 1\n",
    "a = np.random.randint(1,100,(2,3,5))\n",
    "# array aleatorios entre 1 y 99. de 6 filas y 5 elementos por columna"
   ]
  },
  {
   "cell_type": "code",
   "execution_count": 33,
   "metadata": {},
   "outputs": [
    {
     "data": {
      "text/plain": [
       "array([[[99, 36, 16,  4, 54],\n",
       "        [45,  4, 82, 87, 78],\n",
       "        [50, 12, 96, 96, 13]],\n",
       "\n",
       "       [[17, 65, 10, 79, 88],\n",
       "        [47, 36, 43, 13, 77],\n",
       "        [ 7, 86, 20,  5, 24]]])"
      ]
     },
     "execution_count": 33,
     "metadata": {},
     "output_type": "execute_result"
    }
   ],
   "source": [
    "a"
   ]
  },
  {
   "cell_type": "code",
   "execution_count": 34,
   "metadata": {},
   "outputs": [],
   "source": [
    "# Method 2\n",
    "a = np.random.rand(2,3,5)\n",
    "#rellenela con muestras aleatorias de una distribución uniforme sobre [0, 1)"
   ]
  },
  {
   "cell_type": "code",
   "execution_count": 35,
   "metadata": {},
   "outputs": [
    {
     "data": {
      "text/plain": [
       "array([[[0.9806385 , 0.52271359, 0.85046214, 0.05825887, 0.80714505],\n",
       "        [0.80660611, 0.84298234, 0.17546229, 0.71717393, 0.87960788],\n",
       "        [0.8034707 , 0.6891591 , 0.97214536, 0.68665183, 0.68183682]],\n",
       "\n",
       "       [[0.14786748, 0.62460085, 0.77866019, 0.41709679, 0.81496047],\n",
       "        [0.78688044, 0.05359076, 0.65060577, 0.93980358, 0.7217857 ],\n",
       "        [0.14742949, 0.73261986, 0.74889487, 0.20861649, 0.44559845]]])"
      ]
     },
     "execution_count": 35,
     "metadata": {},
     "output_type": "execute_result"
    }
   ],
   "source": [
    "a"
   ]
  },
  {
   "cell_type": "code",
   "execution_count": 36,
   "metadata": {},
   "outputs": [],
   "source": [
    "# Method 3\n",
    "a = np.random.randn(2,3,5)\n",
    "#Devuelve una muestra (o muestras) de la distribución “estándar normal”. A diferencia del rand que es uniforme"
   ]
  },
  {
   "cell_type": "code",
   "execution_count": 37,
   "metadata": {},
   "outputs": [
    {
     "data": {
      "text/plain": [
       "array([[[-5.94671858e-01, -1.14827141e+00, -1.58583818e+00,\n",
       "         -1.40562059e+00, -4.12376459e-01],\n",
       "        [ 3.36170324e-01, -1.41084640e+00,  7.50565117e-02,\n",
       "         -6.35113059e-01, -3.49178998e-01],\n",
       "        [-8.92344195e-01, -6.01864011e-02, -1.31597270e+00,\n",
       "          1.19970273e-02,  6.11149662e-01]],\n",
       "\n",
       "       [[-7.99599314e-01,  2.05382230e-02, -7.91798172e-01,\n",
       "         -9.15104474e-04, -6.44223234e-01],\n",
       "        [ 2.21479842e+00,  1.35847957e-01,  5.97106793e-01,\n",
       "         -6.40351259e-01,  1.63063181e+00],\n",
       "        [-8.68344480e-01,  9.18000996e-02,  2.49333832e-01,\n",
       "          1.80900313e+00,  1.32590733e+00]]])"
      ]
     },
     "execution_count": 37,
     "metadata": {},
     "output_type": "execute_result"
    }
   ],
   "source": [
    "a"
   ]
  },
  {
   "cell_type": "markdown",
   "metadata": {},
   "source": [
    "#### 4. Print *a*.\n"
   ]
  },
  {
   "cell_type": "code",
   "execution_count": 38,
   "metadata": {},
   "outputs": [
    {
     "name": "stdout",
     "output_type": "stream",
     "text": [
      "[[[-5.94671858e-01 -1.14827141e+00 -1.58583818e+00 -1.40562059e+00\n",
      "   -4.12376459e-01]\n",
      "  [ 3.36170324e-01 -1.41084640e+00  7.50565117e-02 -6.35113059e-01\n",
      "   -3.49178998e-01]\n",
      "  [-8.92344195e-01 -6.01864011e-02 -1.31597270e+00  1.19970273e-02\n",
      "    6.11149662e-01]]\n",
      "\n",
      " [[-7.99599314e-01  2.05382230e-02 -7.91798172e-01 -9.15104474e-04\n",
      "   -6.44223234e-01]\n",
      "  [ 2.21479842e+00  1.35847957e-01  5.97106793e-01 -6.40351259e-01\n",
      "    1.63063181e+00]\n",
      "  [-8.68344480e-01  9.18000996e-02  2.49333832e-01  1.80900313e+00\n",
      "    1.32590733e+00]]]\n"
     ]
    }
   ],
   "source": [
    "# your code here\n",
    "print(a)"
   ]
  },
  {
   "cell_type": "markdown",
   "metadata": {},
   "source": [
    "#### 5. Create a 5x2x3 3-dimensional array with all values equaling 1. Assign the array to variable *b*."
   ]
  },
  {
   "cell_type": "code",
   "execution_count": 39,
   "metadata": {},
   "outputs": [],
   "source": [
    "# your code here\n",
    "b = np.ones((5,2,3))\n"
   ]
  },
  {
   "cell_type": "code",
   "execution_count": 40,
   "metadata": {},
   "outputs": [
    {
     "data": {
      "text/plain": [
       "array([[[1., 1., 1.],\n",
       "        [1., 1., 1.]],\n",
       "\n",
       "       [[1., 1., 1.],\n",
       "        [1., 1., 1.]],\n",
       "\n",
       "       [[1., 1., 1.],\n",
       "        [1., 1., 1.]],\n",
       "\n",
       "       [[1., 1., 1.],\n",
       "        [1., 1., 1.]],\n",
       "\n",
       "       [[1., 1., 1.],\n",
       "        [1., 1., 1.]]])"
      ]
     },
     "execution_count": 40,
     "metadata": {},
     "output_type": "execute_result"
    }
   ],
   "source": [
    "b"
   ]
  },
  {
   "cell_type": "markdown",
   "metadata": {},
   "source": [
    "#### 6. Print *b*.\n"
   ]
  },
  {
   "cell_type": "code",
   "execution_count": 41,
   "metadata": {},
   "outputs": [
    {
     "name": "stdout",
     "output_type": "stream",
     "text": [
      "[[[1. 1. 1.]\n",
      "  [1. 1. 1.]]\n",
      "\n",
      " [[1. 1. 1.]\n",
      "  [1. 1. 1.]]\n",
      "\n",
      " [[1. 1. 1.]\n",
      "  [1. 1. 1.]]\n",
      "\n",
      " [[1. 1. 1.]\n",
      "  [1. 1. 1.]]\n",
      "\n",
      " [[1. 1. 1.]\n",
      "  [1. 1. 1.]]]\n"
     ]
    }
   ],
   "source": [
    "# your code here\n",
    "print(b)"
   ]
  },
  {
   "cell_type": "markdown",
   "metadata": {},
   "source": [
    "#### 7. Do *a* and *b* have the same size? How do you prove that in Python code?"
   ]
  },
  {
   "cell_type": "code",
   "execution_count": 53,
   "metadata": {},
   "outputs": [
    {
     "name": "stdout",
     "output_type": "stream",
     "text": [
      "30\n",
      "(2, 3, 5)\n"
     ]
    }
   ],
   "source": [
    "# your code here\n",
    "print(a.size)\n",
    "print(a.shape)"
   ]
  },
  {
   "cell_type": "code",
   "execution_count": 54,
   "metadata": {},
   "outputs": [
    {
     "name": "stdout",
     "output_type": "stream",
     "text": [
      "30\n",
      "(5, 2, 3)\n"
     ]
    }
   ],
   "source": [
    "print(b.size)\n",
    "print(b.shape)"
   ]
  },
  {
   "cell_type": "code",
   "execution_count": 55,
   "metadata": {},
   "outputs": [
    {
     "data": {
      "text/plain": [
       "True"
      ]
     },
     "execution_count": 55,
     "metadata": {},
     "output_type": "execute_result"
    }
   ],
   "source": [
    "a.size == b.size"
   ]
  },
  {
   "cell_type": "markdown",
   "metadata": {},
   "source": [
    "#### 8. Are you able to add *a* and *b*? Why or why not?\n"
   ]
  },
  {
   "cell_type": "code",
   "execution_count": 56,
   "metadata": {},
   "outputs": [
    {
     "ename": "ValueError",
     "evalue": "operands could not be broadcast together with shapes (2,3,5) (5,2,3) ",
     "output_type": "error",
     "traceback": [
      "\u001b[0;31m---------------------------------------------------------------------------\u001b[0m",
      "\u001b[0;31mValueError\u001b[0m                                Traceback (most recent call last)",
      "Input \u001b[0;32mIn [56]\u001b[0m, in \u001b[0;36m<cell line: 2>\u001b[0;34m()\u001b[0m\n\u001b[1;32m      1\u001b[0m \u001b[38;5;66;03m# your answer here\u001b[39;00m\n\u001b[0;32m----> 2\u001b[0m suma \u001b[38;5;241m=\u001b[39m \u001b[43ma\u001b[49m\u001b[43m \u001b[49m\u001b[38;5;241;43m+\u001b[39;49m\u001b[43m \u001b[49m\u001b[43mb\u001b[49m\n\u001b[1;32m      3\u001b[0m suma\n",
      "\u001b[0;31mValueError\u001b[0m: operands could not be broadcast together with shapes (2,3,5) (5,2,3) "
     ]
    }
   ],
   "source": [
    "# your answer here\n",
    "suma = a + b\n",
    "suma\n",
    "#no se puede sumar porque las dimensiones del array no tienen el mismo tamaño"
   ]
  },
  {
   "cell_type": "code",
   "execution_count": 57,
   "metadata": {},
   "outputs": [
    {
     "data": {
      "text/plain": [
       "(2, 3, 5)"
      ]
     },
     "execution_count": 57,
     "metadata": {},
     "output_type": "execute_result"
    }
   ],
   "source": [
    "a.shape"
   ]
  },
  {
   "cell_type": "code",
   "execution_count": 58,
   "metadata": {},
   "outputs": [
    {
     "data": {
      "text/plain": [
       "(5, 2, 3)"
      ]
     },
     "execution_count": 58,
     "metadata": {},
     "output_type": "execute_result"
    }
   ],
   "source": [
    "b.shape"
   ]
  },
  {
   "cell_type": "markdown",
   "metadata": {},
   "source": [
    "#### 9. Transpose *b* so that it has the same structure of *a* (i.e. become a 2x3x5 array). Assign the transposed array to variable *c*."
   ]
  },
  {
   "cell_type": "code",
   "execution_count": 59,
   "metadata": {},
   "outputs": [
    {
     "name": "stdout",
     "output_type": "stream",
     "text": [
      "[[[1. 1. 1.]\n",
      "  [1. 1. 1.]]\n",
      "\n",
      " [[1. 1. 1.]\n",
      "  [1. 1. 1.]]\n",
      "\n",
      " [[1. 1. 1.]\n",
      "  [1. 1. 1.]]\n",
      "\n",
      " [[1. 1. 1.]\n",
      "  [1. 1. 1.]]\n",
      "\n",
      " [[1. 1. 1.]\n",
      "  [1. 1. 1.]]]\n"
     ]
    },
    {
     "data": {
      "text/plain": [
       "array([[[1., 1., 1., 1., 1.],\n",
       "        [1., 1., 1., 1., 1.],\n",
       "        [1., 1., 1., 1., 1.]],\n",
       "\n",
       "       [[1., 1., 1., 1., 1.],\n",
       "        [1., 1., 1., 1., 1.],\n",
       "        [1., 1., 1., 1., 1.]]])"
      ]
     },
     "execution_count": 59,
     "metadata": {},
     "output_type": "execute_result"
    }
   ],
   "source": [
    "# your code here\n",
    "print(b)\n",
    "b2 = np.transpose(b)\n",
    "c = b2.reshape((2,3,5))\n",
    "c"
   ]
  },
  {
   "cell_type": "markdown",
   "metadata": {},
   "source": [
    "#### 10. Try to add *a* and *c*. Now it should work. Assign the sum to variable *d*. But why does it work now?"
   ]
  },
  {
   "cell_type": "code",
   "execution_count": 64,
   "metadata": {},
   "outputs": [
    {
     "name": "stdout",
     "output_type": "stream",
     "text": [
      "[[[-5.94671858e-01 -1.14827141e+00 -1.58583818e+00 -1.40562059e+00\n",
      "   -4.12376459e-01]\n",
      "  [ 3.36170324e-01 -1.41084640e+00  7.50565117e-02 -6.35113059e-01\n",
      "   -3.49178998e-01]\n",
      "  [-8.92344195e-01 -6.01864011e-02 -1.31597270e+00  1.19970273e-02\n",
      "    6.11149662e-01]]\n",
      "\n",
      " [[-7.99599314e-01  2.05382230e-02 -7.91798172e-01 -9.15104474e-04\n",
      "   -6.44223234e-01]\n",
      "  [ 2.21479842e+00  1.35847957e-01  5.97106793e-01 -6.40351259e-01\n",
      "    1.63063181e+00]\n",
      "  [-8.68344480e-01  9.18000996e-02  2.49333832e-01  1.80900313e+00\n",
      "    1.32590733e+00]]]\n",
      "(2, 3, 5)\n",
      "(5, 2, 3)\n",
      "(2, 3, 5)\n"
     ]
    },
    {
     "data": {
      "text/plain": [
       "array([[[ 0.40532814, -0.14827141, -0.58583818, -0.40562059,\n",
       "          0.58762354],\n",
       "        [ 1.33617032, -0.4108464 ,  1.07505651,  0.36488694,\n",
       "          0.650821  ],\n",
       "        [ 0.10765581,  0.9398136 , -0.3159727 ,  1.01199703,\n",
       "          1.61114966]],\n",
       "\n",
       "       [[ 0.20040069,  1.02053822,  0.20820183,  0.9990849 ,\n",
       "          0.35577677],\n",
       "        [ 3.21479842,  1.13584796,  1.59710679,  0.35964874,\n",
       "          2.63063181],\n",
       "        [ 0.13165552,  1.0918001 ,  1.24933383,  2.80900313,\n",
       "          2.32590733]]])"
      ]
     },
     "execution_count": 64,
     "metadata": {},
     "output_type": "execute_result"
    }
   ],
   "source": [
    "# your code/answer here\n",
    "print(a)\n",
    "print(a.shape)\n",
    "print(b.shape)\n",
    "print(c.shape)\n",
    "d = a + c\n",
    "d\n",
    "#Ahora ya podemos sumar porque le hemos cambiado a b su estructura (2, 3, 5)"
   ]
  },
  {
   "cell_type": "markdown",
   "metadata": {},
   "source": [
    "#### 11. Print *a* and *d*. Notice the difference and relation of the two array in terms of the values? Explain."
   ]
  },
  {
   "cell_type": "code",
   "execution_count": 65,
   "metadata": {},
   "outputs": [
    {
     "name": "stdout",
     "output_type": "stream",
     "text": [
      "[[[-5.94671858e-01 -1.14827141e+00 -1.58583818e+00 -1.40562059e+00\n",
      "   -4.12376459e-01]\n",
      "  [ 3.36170324e-01 -1.41084640e+00  7.50565117e-02 -6.35113059e-01\n",
      "   -3.49178998e-01]\n",
      "  [-8.92344195e-01 -6.01864011e-02 -1.31597270e+00  1.19970273e-02\n",
      "    6.11149662e-01]]\n",
      "\n",
      " [[-7.99599314e-01  2.05382230e-02 -7.91798172e-01 -9.15104474e-04\n",
      "   -6.44223234e-01]\n",
      "  [ 2.21479842e+00  1.35847957e-01  5.97106793e-01 -6.40351259e-01\n",
      "    1.63063181e+00]\n",
      "  [-8.68344480e-01  9.18000996e-02  2.49333832e-01  1.80900313e+00\n",
      "    1.32590733e+00]]]\n",
      "[[[ 0.40532814 -0.14827141 -0.58583818 -0.40562059  0.58762354]\n",
      "  [ 1.33617032 -0.4108464   1.07505651  0.36488694  0.650821  ]\n",
      "  [ 0.10765581  0.9398136  -0.3159727   1.01199703  1.61114966]]\n",
      "\n",
      " [[ 0.20040069  1.02053822  0.20820183  0.9990849   0.35577677]\n",
      "  [ 3.21479842  1.13584796  1.59710679  0.35964874  2.63063181]\n",
      "  [ 0.13165552  1.0918001   1.24933383  2.80900313  2.32590733]]]\n"
     ]
    }
   ],
   "source": [
    "# your code/answer here\n",
    "print(a)\n",
    "print(d)\n",
    "# d contiene la suma de a + c por eso sus valores son distintos"
   ]
  },
  {
   "cell_type": "markdown",
   "metadata": {},
   "source": [
    "#### 12. Multiply *a* and *c*. Assign the result to *e*."
   ]
  },
  {
   "cell_type": "code",
   "execution_count": 66,
   "metadata": {},
   "outputs": [
    {
     "data": {
      "text/plain": [
       "array([[[-5.94671858e-01, -1.14827141e+00, -1.58583818e+00,\n",
       "         -1.40562059e+00, -4.12376459e-01],\n",
       "        [ 3.36170324e-01, -1.41084640e+00,  7.50565117e-02,\n",
       "         -6.35113059e-01, -3.49178998e-01],\n",
       "        [-8.92344195e-01, -6.01864011e-02, -1.31597270e+00,\n",
       "          1.19970273e-02,  6.11149662e-01]],\n",
       "\n",
       "       [[-7.99599314e-01,  2.05382230e-02, -7.91798172e-01,\n",
       "         -9.15104474e-04, -6.44223234e-01],\n",
       "        [ 2.21479842e+00,  1.35847957e-01,  5.97106793e-01,\n",
       "         -6.40351259e-01,  1.63063181e+00],\n",
       "        [-8.68344480e-01,  9.18000996e-02,  2.49333832e-01,\n",
       "          1.80900313e+00,  1.32590733e+00]]])"
      ]
     },
     "execution_count": 66,
     "metadata": {},
     "output_type": "execute_result"
    }
   ],
   "source": [
    "# your code here\n",
    "e = a * c\n",
    "e"
   ]
  },
  {
   "cell_type": "markdown",
   "metadata": {},
   "source": [
    "#### 13. Does *e* equal to *a*? Why or why not?\n"
   ]
  },
  {
   "cell_type": "code",
   "execution_count": 73,
   "metadata": {},
   "outputs": [
    {
     "data": {
      "text/plain": [
       "array([[[ True,  True,  True,  True,  True],\n",
       "        [ True,  True,  True,  True,  True],\n",
       "        [ True,  True,  True,  True,  True]],\n",
       "\n",
       "       [[ True,  True,  True,  True,  True],\n",
       "        [ True,  True,  True,  True,  True],\n",
       "        [ True,  True,  True,  True,  True]]])"
      ]
     },
     "execution_count": 73,
     "metadata": {},
     "output_type": "execute_result"
    }
   ],
   "source": [
    "# your code/answer here\n",
    "e == a\n",
    "# \"e\" es igual a \"a\" porque en la operacion anterior \"a\" lo hemos multiplicado por 1, por lo tanto no cambia su valor"
   ]
  },
  {
   "cell_type": "code",
   "execution_count": 76,
   "metadata": {},
   "outputs": [
    {
     "name": "stdout",
     "output_type": "stream",
     "text": [
      "[[[1. 1. 1. 1. 1.]\n",
      "  [1. 1. 1. 1. 1.]\n",
      "  [1. 1. 1. 1. 1.]]\n",
      "\n",
      " [[1. 1. 1. 1. 1.]\n",
      "  [1. 1. 1. 1. 1.]\n",
      "  [1. 1. 1. 1. 1.]]]\n"
     ]
    }
   ],
   "source": [
    "print(c)"
   ]
  },
  {
   "cell_type": "code",
   "execution_count": 74,
   "metadata": {},
   "outputs": [
    {
     "name": "stdout",
     "output_type": "stream",
     "text": [
      "[[[-5.94671858e-01 -1.14827141e+00 -1.58583818e+00 -1.40562059e+00\n",
      "   -4.12376459e-01]\n",
      "  [ 3.36170324e-01 -1.41084640e+00  7.50565117e-02 -6.35113059e-01\n",
      "   -3.49178998e-01]\n",
      "  [-8.92344195e-01 -6.01864011e-02 -1.31597270e+00  1.19970273e-02\n",
      "    6.11149662e-01]]\n",
      "\n",
      " [[-7.99599314e-01  2.05382230e-02 -7.91798172e-01 -9.15104474e-04\n",
      "   -6.44223234e-01]\n",
      "  [ 2.21479842e+00  1.35847957e-01  5.97106793e-01 -6.40351259e-01\n",
      "    1.63063181e+00]\n",
      "  [-8.68344480e-01  9.18000996e-02  2.49333832e-01  1.80900313e+00\n",
      "    1.32590733e+00]]]\n"
     ]
    }
   ],
   "source": [
    "print(e)"
   ]
  },
  {
   "cell_type": "code",
   "execution_count": 75,
   "metadata": {},
   "outputs": [
    {
     "name": "stdout",
     "output_type": "stream",
     "text": [
      "[[[-5.94671858e-01 -1.14827141e+00 -1.58583818e+00 -1.40562059e+00\n",
      "   -4.12376459e-01]\n",
      "  [ 3.36170324e-01 -1.41084640e+00  7.50565117e-02 -6.35113059e-01\n",
      "   -3.49178998e-01]\n",
      "  [-8.92344195e-01 -6.01864011e-02 -1.31597270e+00  1.19970273e-02\n",
      "    6.11149662e-01]]\n",
      "\n",
      " [[-7.99599314e-01  2.05382230e-02 -7.91798172e-01 -9.15104474e-04\n",
      "   -6.44223234e-01]\n",
      "  [ 2.21479842e+00  1.35847957e-01  5.97106793e-01 -6.40351259e-01\n",
      "    1.63063181e+00]\n",
      "  [-8.68344480e-01  9.18000996e-02  2.49333832e-01  1.80900313e+00\n",
      "    1.32590733e+00]]]\n"
     ]
    }
   ],
   "source": [
    "print(a)"
   ]
  },
  {
   "cell_type": "markdown",
   "metadata": {},
   "source": [
    "#### 14. Identify the max, min, and mean values in *d*. Assign those values to variables *d_max*, *d_min* and *d_mean*."
   ]
  },
  {
   "cell_type": "code",
   "execution_count": 92,
   "metadata": {},
   "outputs": [
    {
     "data": {
      "text/plain": [
       "3.2147984161118055"
      ]
     },
     "execution_count": 92,
     "metadata": {},
     "output_type": "execute_result"
    }
   ],
   "source": [
    "# your code here\n",
    "d_max =  d.max()\n",
    "d_max\n"
   ]
  },
  {
   "cell_type": "code",
   "execution_count": 91,
   "metadata": {},
   "outputs": [
    {
     "data": {
      "text/plain": [
       "-0.5858381766420306"
      ]
     },
     "execution_count": 91,
     "metadata": {},
     "output_type": "execute_result"
    }
   ],
   "source": [
    "d_min = d.min()\n",
    "d_min"
   ]
  },
  {
   "cell_type": "code",
   "execution_count": 90,
   "metadata": {},
   "outputs": [
    {
     "data": {
      "text/plain": [
       "0.8517896432428921"
      ]
     },
     "execution_count": 90,
     "metadata": {},
     "output_type": "execute_result"
    }
   ],
   "source": [
    "d_mean = d.mean()\n",
    "d_mean"
   ]
  },
  {
   "cell_type": "markdown",
   "metadata": {},
   "source": [
    "#### 15. Now we want to label the values in *d*. First create an empty array *f* with the same shape (i.e. 2x3x5) as *d* using `np.empty`.\n"
   ]
  },
  {
   "cell_type": "code",
   "execution_count": 94,
   "metadata": {},
   "outputs": [
    {
     "data": {
      "text/plain": [
       "array([[[1., 1., 1., 1., 1.],\n",
       "        [1., 1., 1., 1., 1.],\n",
       "        [1., 1., 1., 1., 1.]],\n",
       "\n",
       "       [[1., 1., 1., 1., 1.],\n",
       "        [1., 1., 1., 1., 1.],\n",
       "        [1., 1., 1., 1., 1.]]])"
      ]
     },
     "execution_count": 94,
     "metadata": {},
     "output_type": "execute_result"
    }
   ],
   "source": [
    "# your code here\n",
    "f = np.empty([2, 3, 5])\n",
    "f"
   ]
  },
  {
   "cell_type": "markdown",
   "metadata": {},
   "source": [
    "#### 16. Populate the values in *f*. \n",
    "\n",
    "For each value in *d*, if it's larger than *d_min* but smaller than *d_mean*, assign 25 to the corresponding value in *f*. If a value in *d* is larger than *d_mean* but smaller than *d_max*, assign 75 to the corresponding value in *f*. If a value equals to *d_mean*, assign 50 to the corresponding value in *f*. Assign 0 to the corresponding value(s) in *f* for *d_min* in *d*. Assign 100 to the corresponding value(s) in *f* for *d_max* in *d*. In the end, f should have only the following values: 0, 25, 50, 75, and 100.\n",
    "\n",
    "**Note**: you don't have to use Numpy in this question."
   ]
  },
  {
   "cell_type": "code",
   "execution_count": 1,
   "metadata": {},
   "outputs": [],
   "source": [
    "# your code here"
   ]
  },
  {
   "cell_type": "markdown",
   "metadata": {},
   "source": [
    "#### 17. Print *d* and *f*. Do you have your expected *f*?\n",
    "For instance, if your *d* is:\n",
    "```python\n",
    "[[[1.85836099, 1.67064465, 1.62576044, 1.40243961, 1.88454931],\n",
    "[1.75354326, 1.69403643, 1.36729252, 1.61415071, 1.12104981],\n",
    "[1.72201435, 1.1862918 , 1.87078449, 1.7726778 , 1.88180042]],\n",
    "[[1.44747908, 1.31673383, 1.02000951, 1.52218947, 1.97066381],\n",
    "[1.79129243, 1.74983003, 1.96028037, 1.85166831, 1.65450881],\n",
    "[1.18068344, 1.9587381 , 1.00656599, 1.93402165, 1.73514584]]]\n",
    "```\n",
    "Your *f* should be:\n",
    "```python\n",
    "[[[ 75.,  75.,  75.,  25.,  75.],\n",
    "[ 75.,  75.,  25.,  25.,  25.],\n",
    "[ 75.,  25.,  75.,  75.,  75.]],\n",
    "[[ 25.,  25.,  25.,  25., 100.],\n",
    "[ 75.,  75.,  75.,  75.,  75.],\n",
    "[ 25.,  75.,   0.,  75.,  75.]]]\n",
    "```"
   ]
  },
  {
   "cell_type": "code",
   "execution_count": null,
   "metadata": {},
   "outputs": [],
   "source": [
    "# your code here"
   ]
  },
  {
   "cell_type": "markdown",
   "metadata": {},
   "source": [
    "#### 18. Bonus question: instead of using numbers (i.e. 0, 25, 50, 75, and 100), use string values  (\"A\", \"B\", \"C\", \"D\", and \"E\") to label the array elements. For the example above, the expected result is:\n",
    "\n",
    "```python\n",
    "[[[ 'D',  'D',  'D',  'B',  'D'],\n",
    "[ 'D',  'D',  'B',  'B',  'B'],\n",
    "[ 'D',  'B',  'D',  'D',  'D']],\n",
    "[[ 'B',  'B',  'B',  'B',  'E'],\n",
    "[ 'D',  'D',  'D',  'D',  'D'],\n",
    "[ 'B',  'D',   'A',  'D', 'D']]]\n",
    "```\n",
    "**Note**: you don't have to use Numpy in this question."
   ]
  },
  {
   "cell_type": "code",
   "execution_count": null,
   "metadata": {},
   "outputs": [],
   "source": [
    "# your code here"
   ]
  }
 ],
 "metadata": {
  "kernelspec": {
   "display_name": "Python 3 (ipykernel)",
   "language": "python",
   "name": "python3"
  },
  "language_info": {
   "codemirror_mode": {
    "name": "ipython",
    "version": 3
   },
   "file_extension": ".py",
   "mimetype": "text/x-python",
   "name": "python",
   "nbconvert_exporter": "python",
   "pygments_lexer": "ipython3",
   "version": "3.10.13"
  }
 },
 "nbformat": 4,
 "nbformat_minor": 2
}
