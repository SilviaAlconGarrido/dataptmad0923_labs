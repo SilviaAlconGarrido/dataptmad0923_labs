{
 "cells": [
  {
   "cell_type": "markdown",
   "metadata": {},
   "source": [
    "# Web Scraping Lab\n",
    "\n",
    "You will find in this notebook some scrapy exercises to practise your scraping skills.\n",
    "\n",
    "**Tips:**\n",
    "\n",
    "- Check the response status code for each request to ensure you have obtained the intended content.\n",
    "- Print the response text in each request to understand the kind of info you are getting and its format.\n",
    "- Check for patterns in the response text to extract the data/info requested in each question.\n",
    "- Visit the urls below and take a look at their source code through Chrome DevTools. You'll need to identify the html tags, special class names, etc used in the html content you are expected to extract.\n",
    "\n",
    "**Resources**:\n",
    "- [Requests library](http://docs.python-requests.org/en/master/#the-user-guide)\n",
    "- [Beautiful Soup Doc](https://www.crummy.com/software/BeautifulSoup/bs4/doc/)\n",
    "- [Urllib](https://docs.python.org/3/library/urllib.html#module-urllib)\n",
    "- [re lib](https://docs.python.org/3/library/re.html)\n",
    "- [lxml lib](https://lxml.de/)\n",
    "- [Scrapy](https://scrapy.org/)\n",
    "- [List of HTTP status codes](https://en.wikipedia.org/wiki/List_of_HTTP_status_codes)\n",
    "- [HTML basics](http://www.simplehtmlguide.com/cheatsheet.php)\n",
    "- [CSS basics](https://www.cssbasics.com/#page_start)"
   ]
  },
  {
   "cell_type": "markdown",
   "metadata": {},
   "source": [
    "#### Below are the libraries and modules you may need. `requests`,  `BeautifulSoup` and `pandas` are already imported for you. If you prefer to use additional libraries feel free to do it."
   ]
  },
  {
   "cell_type": "code",
   "execution_count": 1,
   "metadata": {},
   "outputs": [],
   "source": [
    "import requests\n",
    "from bs4 import BeautifulSoup\n",
    "import pandas as pd\n",
    "import bs4\n",
    "import re"
   ]
  },
  {
   "cell_type": "markdown",
   "metadata": {},
   "source": [
    "#### Download, parse (using BeautifulSoup), and print the content from the Trending Developers page from GitHub:"
   ]
  },
  {
   "cell_type": "code",
   "execution_count": 3,
   "metadata": {},
   "outputs": [],
   "source": [
    "# This is the url you will scrape in this exercise\n",
    "url = 'https://github.com/trending/developers'"
   ]
  },
  {
   "cell_type": "code",
   "execution_count": 4,
   "metadata": {},
   "outputs": [],
   "source": [
    "# your code here\n",
    "response =requests.get(url) # llamo a la api\n",
    "#type(response)\n"
   ]
  },
  {
   "cell_type": "code",
   "execution_count": 5,
   "metadata": {},
   "outputs": [],
   "source": [
    "#response.status_code\n",
    "#response.content"
   ]
  },
  {
   "cell_type": "code",
   "execution_count": 6,
   "metadata": {},
   "outputs": [
    {
     "data": {
      "text/plain": [
       "463028"
      ]
     },
     "execution_count": 6,
     "metadata": {},
     "output_type": "execute_result"
    }
   ],
   "source": [
    "html = response.content #contenido\n",
    "\n",
    "len(html)#longitud del contenido"
   ]
  },
  {
   "cell_type": "code",
   "execution_count": 7,
   "metadata": {},
   "outputs": [
    {
     "data": {
      "text/plain": [
       "<a class=\"px-2 py-4 color-bg-accent-emphasis color-fg-on-emphasis show-on-focus js-skip-to-content\" href=\"#start-of-content\">Skip to content</a>"
      ]
     },
     "execution_count": 7,
     "metadata": {},
     "output_type": "execute_result"
    }
   ],
   "source": [
    "parsed_html = bs4.BeautifulSoup(html, 'html.parser')#parseo\n",
    "\n",
    "#parsed_html.head\n",
    "#parsed_html.body\n",
    "#parsed_html.title\n",
    "\n",
    "parsed_html.body.a"
   ]
  },
  {
   "cell_type": "code",
   "execution_count": 8,
   "metadata": {},
   "outputs": [
    {
     "data": {
      "text/plain": [
       "25"
      ]
     },
     "execution_count": 8,
     "metadata": {},
     "output_type": "execute_result"
    }
   ],
   "source": [
    "#find 1 'h1' tag:\n",
    "#article = parsed_html.find('h1')\n",
    "#find_all 'h1' tag:\n",
    "article = parsed_html.find_all('h1',{'class':'h3 lh-condensed'})\n",
    "len(article) #25 personas\n",
    "#article[0].contents Esto me da el primer parrafo\n",
    "#article[0].contents[1].string Esto da el primer nombre"
   ]
  },
  {
   "cell_type": "code",
   "execution_count": 9,
   "metadata": {},
   "outputs": [
    {
     "name": "stdout",
     "output_type": "stream",
     "text": [
      "25\n"
     ]
    },
    {
     "data": {
      "text/plain": [
       "['Julien Viet',\n",
       " 'Yifei Zhang',\n",
       " 'Drew Powers',\n",
       " 'enjoy-digital',\n",
       " 'Toby Mao',\n",
       " 'Tom Harvey',\n",
       " 'Yordis Prieto',\n",
       " 'Xuan Huang (黄玄)',\n",
       " 'Klaus Post',\n",
       " 'sudo rm -rf --no-preserve-root /',\n",
       " 'Ariel Mashraki',\n",
       " 'Tobias Klauser',\n",
       " 'pseudometa',\n",
       " 'Nikita Sobolev',\n",
       " 'Lee Robinson',\n",
       " 'Matthew Tancik',\n",
       " 'Yudong Jin',\n",
       " 'Josh Soref',\n",
       " 'Eugene Khvedchenya',\n",
       " 'Martin von Zweigbergk',\n",
       " 'Jarred Sumner',\n",
       " 'Jacob Lee',\n",
       " 'Jason Moiron',\n",
       " 'Robin Andeer',\n",
       " 'Bo-Yi Wu']"
      ]
     },
     "execution_count": 9,
     "metadata": {},
     "output_type": "execute_result"
    }
   ],
   "source": [
    "article = parsed_html.find_all('h1',{'class':'h3 lh-condensed'})\n",
    "\n",
    "article_list = [] #creo una lista vacia\n",
    "for a in article:\n",
    "    a = str(a)\n",
    "    soup_a =bs4.BeautifulSoup(a,'html.parser')\n",
    "    list_a = soup_a.find_all('a')\n",
    "    #print(list_a)\n",
    "    for e in list_a:\n",
    "        article_list.append(e.string.strip())\n",
    "print(len(article_list))\n",
    "\n",
    "article_list"
   ]
  },
  {
   "cell_type": "code",
   "execution_count": 10,
   "metadata": {},
   "outputs": [],
   "source": [
    "article_user = parsed_html.find_all( 'p',{'class':'f4 text-normal mb-1'})\n",
    "#article_user\n"
   ]
  },
  {
   "cell_type": "code",
   "execution_count": 13,
   "metadata": {},
   "outputs": [
    {
     "data": {
      "text/plain": [
       "['vietj',\n",
       " 'Yidadaa',\n",
       " 'drwpow',\n",
       " 'tobymao',\n",
       " 'tombuildsstuff',\n",
       " 'yordis',\n",
       " 'Huxpro',\n",
       " 'klauspost',\n",
       " 'pcaversaccio',\n",
       " 'a8m',\n",
       " 'tklauser',\n",
       " 'chrisgrieser',\n",
       " 'sobolevn',\n",
       " 'leerob',\n",
       " 'tancik',\n",
       " 'krahets',\n",
       " 'jsoref',\n",
       " 'BloodAxe',\n",
       " 'martinvonz',\n",
       " 'Jarred-Sumner',\n",
       " 'jacoblee93',\n",
       " 'jmoiron',\n",
       " 'robinandeer',\n",
       " 'appleboy']"
      ]
     },
     "execution_count": 13,
     "metadata": {},
     "output_type": "execute_result"
    }
   ],
   "source": [
    "article_list_user = [] #creo una lista vacia\n",
    "for a in article_user:\n",
    "    a = str(a)\n",
    "    soup_a_user =bs4.BeautifulSoup(a,'html.parser')\n",
    "    list_a_user = soup_a_user.find_all('a')\n",
    "    #print(list_a_user)\n",
    "    for e in list_a_user:\n",
    "        article_list_user.append(e.string.strip())\n",
    "article_list_user\n",
    "\n"
   ]
  },
  {
   "cell_type": "code",
   "execution_count": 14,
   "metadata": {},
   "outputs": [
    {
     "data": {
      "text/plain": [
       "'Julien Viet (vietj)'"
      ]
     },
     "execution_count": 14,
     "metadata": {},
     "output_type": "execute_result"
    }
   ],
   "source": [
    "trending_developers = article_list[0] +' '+ '('+ article_list_user[0] + ')'\n",
    "trending_developers\n",
    "\n"
   ]
  },
  {
   "cell_type": "code",
   "execution_count": 16,
   "metadata": {},
   "outputs": [
    {
     "name": "stdout",
     "output_type": "stream",
     "text": [
      "Julien Viet (vietj)\n"
     ]
    }
   ],
   "source": [
    "def trending(article_list, article_list_user):\n",
    "    trending_developers = []\n",
    "    for x in range(len(article_list)):\n",
    "        return trending_developers.append(article_list[i]+(article_list_user[i]))\n",
    "print(trending_developers)"
   ]
  },
  {
   "cell_type": "markdown",
   "metadata": {},
   "source": [
    "#### Display the names of the trending developers retrieved in the previous step.\n",
    "\n",
    "Your output should be a Python list of developer names. Each name should not contain any html tag.\n",
    "\n",
    "**Instructions:**\n",
    "\n",
    "1. Find out the html tag and class names used for the developer names. You can achieve this using Chrome DevTools.\n",
    "\n",
    "1. Use BeautifulSoup to extract all the html elements that contain the developer names.\n",
    "\n",
    "1. Use string manipulation techniques to replace whitespaces and linebreaks (i.e. `\\n`) in the *text* of each html element. Use a list to store the clean names.\n",
    "\n",
    "1. Print the list of names.\n",
    "\n",
    "Your output should look like below:\n",
    "\n",
    "```\n",
    "['trimstray (@trimstray)',\n",
    " 'joewalnes (JoeWalnes)',\n",
    " 'charlax (Charles-AxelDein)',\n",
    " 'ForrestKnight (ForrestKnight)',\n",
    " 'revery-ui (revery-ui)',\n",
    " 'alibaba (Alibaba)',\n",
    " 'Microsoft (Microsoft)',\n",
    " 'github (GitHub)',\n",
    " 'facebook (Facebook)',\n",
    " 'boazsegev (Bo)',\n",
    " 'google (Google)',\n",
    " 'cloudfetch',\n",
    " 'sindresorhus (SindreSorhus)',\n",
    " 'tensorflow',\n",
    " 'apache (TheApacheSoftwareFoundation)',\n",
    " 'DevonCrawford (DevonCrawford)',\n",
    " 'ARMmbed (ArmMbed)',\n",
    " 'vuejs (vuejs)',\n",
    " 'fastai (fast.ai)',\n",
    " 'QiShaoXuan (Qi)',\n",
    " 'joelparkerhenderson (JoelParkerHenderson)',\n",
    " 'torvalds (LinusTorvalds)',\n",
    " 'CyC2018',\n",
    " 'komeiji-satori (神楽坂覚々)',\n",
    " 'script-8']\n",
    " ```"
   ]
  },
  {
   "cell_type": "code",
   "execution_count": null,
   "metadata": {},
   "outputs": [],
   "source": [
    "# your code here"
   ]
  },
  {
   "cell_type": "markdown",
   "metadata": {},
   "source": [
    "#### Display the trending Python repositories in GitHub.\n",
    "\n",
    "The steps to solve this problem is similar to the previous one except that you need to find out the repository names instead of developer names."
   ]
  },
  {
   "cell_type": "code",
   "execution_count": 17,
   "metadata": {},
   "outputs": [],
   "source": [
    "# This is the url you will scrape in this exercise\n",
    "url_2 = 'https://github.com/trending/python?since=daily'"
   ]
  },
  {
   "cell_type": "code",
   "execution_count": 19,
   "metadata": {},
   "outputs": [
    {
     "name": "stdout",
     "output_type": "stream",
     "text": [
      "['deepseek-ai /', 'openai /', 'openai /', 'jxnl /', 'dagster-io /', 'xtekky /', 'chtmp223 /', 'locustio /', 'odoo /', 'lukas-blecher /', 'vllm-project /', 'KillianLucas /', 'ultralytics /', 'tinygrad /', 'THUDM /', 'roboflow /', 'karfly /', 'openai /', '0-8-4 /', '01-ai /', 'Azure-Samples /', 'tiangolo /', 'tobymao /', 'MrSaighnal /', 'binary-husky /']\n"
     ]
    }
   ],
   "source": [
    "# your code here\n",
    "response_2 =requests.get(url_2)\n",
    "html_2 = response_2.content\n",
    "\n",
    "len(html_2)\n",
    "\n",
    "parsed_html_2 = bs4.BeautifulSoup(html_2, 'html.parser')\n",
    "\n",
    "parsed_html_2.body.h2\n",
    "\n",
    "\n",
    "\n",
    "article_2 = parsed_html_2.find_all('span',{'class':'text-normal'})#hacer un for y por para iterar dentro de la lista\n",
    "#article_2\n",
    "\n",
    "len(article_2)\n",
    "\n",
    "article_list_2 = [] #creo una lista vacia\n",
    "for a in article_2:\n",
    "    a = str(a)\n",
    "    soup_a_2 = bs4.BeautifulSoup(a,'html.parser')\n",
    "    #print(soup_a_2)\n",
    "    list_a_2 = soup_a_2.find_all('span')\n",
    "    #print(list_a_2)\n",
    "    \n",
    "    for e in list_a_2:\n",
    "        article_list_2.append(e.string.strip())\n",
    "print(article_list_2)\n",
    "\n"
   ]
  },
  {
   "cell_type": "markdown",
   "metadata": {},
   "source": [
    "#### Display all the image links from Walt Disney wikipedia page."
   ]
  },
  {
   "cell_type": "code",
   "execution_count": 20,
   "metadata": {},
   "outputs": [],
   "source": [
    "# This is the url you will scrape in this exercise\n",
    "url = 'https://en.wikipedia.org/wiki/Walt_Disney'"
   ]
  },
  {
   "cell_type": "code",
   "execution_count": 36,
   "metadata": {},
   "outputs": [
    {
     "data": {
      "text/plain": [
       "[<span class=\"mw-default-size\" typeof=\"mw:File/Frameless\"><a class=\"mw-file-description\" href=\"/wiki/File:Walt_Disney_1946.JPG\"><img class=\"mw-file-element\" data-file-height=\"675\" data-file-width=\"450\" decoding=\"async\" height=\"330\" src=\"//upload.wikimedia.org/wikipedia/commons/thumb/d/df/Walt_Disney_1946.JPG/220px-Walt_Disney_1946.JPG\" srcset=\"//upload.wikimedia.org/wikipedia/commons/thumb/d/df/Walt_Disney_1946.JPG/330px-Walt_Disney_1946.JPG 1.5x, //upload.wikimedia.org/wikipedia/commons/thumb/d/df/Walt_Disney_1946.JPG/440px-Walt_Disney_1946.JPG 2x\" width=\"220\"/></a></span>]"
      ]
     },
     "execution_count": 36,
     "metadata": {},
     "output_type": "execute_result"
    }
   ],
   "source": [
    "# your code here\n",
    "response_disney =requests.get(url)\n",
    "\n",
    "html_disney = response_disney.content\n",
    "len(html_disney)\n",
    "\n",
    "parsed_html_disney = bs4.BeautifulSoup(html_disney, 'html.parser')\n",
    "#parsed_html_disney\n",
    "\n",
    "first_photo_disney = parsed_html_disney.find_all('span',{'class':'mw-default-size'})\n",
    "first_photo_disney\n",
    "\n"
   ]
  },
  {
   "cell_type": "code",
   "execution_count": 43,
   "metadata": {},
   "outputs": [
    {
     "data": {
      "text/plain": [
       "'//upload.wikimedia.org/wikipedia/commons/thumb/d/df/Walt_Disney_1946.JPG/220px-Walt_Disney_1946.JPG'"
      ]
     },
     "execution_count": 43,
     "metadata": {},
     "output_type": "execute_result"
    }
   ],
   "source": [
    "#first_photo_disney[0].a\n",
    "first_photo_disney[0].a.img['src']"
   ]
  },
  {
   "cell_type": "code",
   "execution_count": 45,
   "metadata": {},
   "outputs": [],
   "source": [
    "article_disney = parsed_html_disney.find_all('figure', {'class': 'mw-default-size'})\n",
    "#article_disney"
   ]
  },
  {
   "cell_type": "code",
   "execution_count": 48,
   "metadata": {},
   "outputs": [
    {
     "data": {
      "text/plain": [
       "['//upload.wikimedia.org/wikipedia/commons/thumb/d/df/Walt_Disney_1946.JPG/220px-Walt_Disney_1946.JPG',\n",
       " '//upload.wikimedia.org/wikipedia/commons/thumb/3/3a/Walt_Disney_Birthplace_Exterior_Hermosa_Chicago_Illinois.jpg/220px-Walt_Disney_Birthplace_Exterior_Hermosa_Chicago_Illinois.jpg',\n",
       " '//upload.wikimedia.org/wikipedia/commons/thumb/c/c4/Walt_Disney_envelope_ca._1921.jpg/220px-Walt_Disney_envelope_ca._1921.jpg',\n",
       " '//upload.wikimedia.org/wikipedia/en/thumb/4/4e/Steamboat-willie.jpg/220px-Steamboat-willie.jpg',\n",
       " '//upload.wikimedia.org/wikipedia/commons/thumb/c/cd/Walt_Disney_Snow_white_1937_trailer_screenshot_%2813%29.jpg/220px-Walt_Disney_Snow_white_1937_trailer_screenshot_%2813%29.jpg',\n",
       " '//upload.wikimedia.org/wikipedia/commons/thumb/1/15/Disney_drawing_goofy.jpg/170px-Disney_drawing_goofy.jpg',\n",
       " '//upload.wikimedia.org/wikipedia/commons/thumb/8/8c/WaltDisneyplansDisneylandDec1954.jpg/220px-WaltDisneyplansDisneylandDec1954.jpg',\n",
       " '//upload.wikimedia.org/wikipedia/commons/thumb/f/ff/Walt_disney_portrait_right.jpg/170px-Walt_disney_portrait_right.jpg',\n",
       " '//upload.wikimedia.org/wikipedia/commons/thumb/1/1a/Walt_Disney_Grave.JPG/170px-Walt_Disney_Grave.JPG',\n",
       " '//upload.wikimedia.org/wikipedia/commons/thumb/1/13/DisneySchiphol1951.jpg/220px-DisneySchiphol1951.jpg',\n",
       " '//upload.wikimedia.org/wikipedia/commons/thumb/6/6c/Disney1968.jpg/170px-Disney1968.jpg',\n",
       " '//upload.wikimedia.org/wikipedia/commons/thumb/b/b0/Disney_Oscar_1953_%28cropped%29.jpg/170px-Disney_Oscar_1953_%28cropped%29.jpg']"
      ]
     },
     "execution_count": 48,
     "metadata": {},
     "output_type": "execute_result"
    }
   ],
   "source": [
    "article_list_disney = [] #creo una lista vacia\n",
    "first_photo_disney[0].a.img['src']# This is the first photo\n",
    "article_list_disney.append(first_photo_disney[0].a.img['src'])#append first photo\n",
    "\n",
    "for a_disney in article_disney:#all the photos\n",
    "    a_disney = str(a_disney.a.img['src'])\n",
    "    article_list_disney.append(a_disney)\n",
    "article_list_disney"
   ]
  },
  {
   "cell_type": "markdown",
   "metadata": {},
   "source": [
    "#### Retrieve an arbitary Wikipedia page of \"Python\" and create a list of links on that page."
   ]
  },
  {
   "cell_type": "code",
   "execution_count": 66,
   "metadata": {},
   "outputs": [],
   "source": [
    "# This is the url you will scrape in this exercise\n",
    "url ='https://en.wikipedia.org/wiki/Python' "
   ]
  },
  {
   "cell_type": "code",
   "execution_count": 93,
   "metadata": {},
   "outputs": [
    {
     "data": {
      "text/plain": [
       "64146"
      ]
     },
     "execution_count": 93,
     "metadata": {},
     "output_type": "execute_result"
    }
   ],
   "source": [
    "# your code here\n",
    "response_wiki =requests.get(url) \n",
    "\n",
    "html_wiki = response_wiki.content\n",
    "len(html_wiki)"
   ]
  },
  {
   "cell_type": "code",
   "execution_count": 99,
   "metadata": {},
   "outputs": [],
   "source": [
    "parsed_html_wiki = bs4.BeautifulSoup(html_wiki, 'html.parser')\n",
    "#parsed_html_disney\n",
    "#print(parsed_html_wiki.body)\n",
    "article_wiki = parsed_html_wiki.find_all('li')\n",
    "#article_wiki\n"
   ]
  },
  {
   "cell_type": "code",
   "execution_count": 135,
   "metadata": {},
   "outputs": [
    {
     "data": {
      "text/plain": [
       "[[<a accesskey=\"z\" href=\"/wiki/Main_Page\" title=\"Visit the main page [z]\"><span>Main page</span></a>],\n",
       " [<a href=\"/wiki/Wikipedia:Contents\" title=\"Guides to browsing Wikipedia\"><span>Contents</span></a>],\n",
       " [<a href=\"/wiki/Portal:Current_events\" title=\"Articles related to current events\"><span>Current events</span></a>],\n",
       " [<a accesskey=\"x\" href=\"/wiki/Special:Random\" title=\"Visit a randomly selected article [x]\"><span>Random article</span></a>],\n",
       " [<a href=\"/wiki/Wikipedia:About\" title=\"Learn about Wikipedia and how it works\"><span>About Wikipedia</span></a>],\n",
       " [<a href=\"//en.wikipedia.org/wiki/Wikipedia:Contact_us\" title=\"How to contact Wikipedia\"><span>Contact us</span></a>],\n",
       " [<a href=\"https://donate.wikimedia.org/wiki/Special:FundraiserRedirector?utm_source=donate&amp;utm_medium=sidebar&amp;utm_campaign=C13_en.wikipedia.org&amp;uselang=en\" title=\"Support us by donating to the Wikimedia Foundation\"><span>Donate</span></a>],\n",
       " [<a href=\"/wiki/Help:Contents\" title=\"Guidance on how to use and edit Wikipedia\"><span>Help</span></a>],\n",
       " [<a href=\"/wiki/Help:Introduction\" title=\"Learn how to edit Wikipedia\"><span>Learn to edit</span></a>],\n",
       " [<a href=\"/wiki/Wikipedia:Community_portal\" title=\"The hub for editors\"><span>Community portal</span></a>],\n",
       " [<a accesskey=\"r\" href=\"/wiki/Special:RecentChanges\" title=\"A list of recent changes to Wikipedia [r]\"><span>Recent changes</span></a>],\n",
       " [<a href=\"/wiki/Wikipedia:File_upload_wizard\" title=\"Add images or other media for use on Wikipedia\"><span>Upload file</span></a>],\n",
       " [<a href=\"/w/index.php?title=Special:CreateAccount&amp;returnto=Python\" title=\"You are encouraged to create an account and log in; however, it is not mandatory\"><span>Create account</span></a>],\n",
       " [<a accesskey=\"o\" href=\"/w/index.php?title=Special:UserLogin&amp;returnto=Python\" title=\"You're encouraged to log in; however, it's not mandatory. [o]\"><span>Log in</span></a>],\n",
       " [<a href=\"/w/index.php?title=Special:CreateAccount&amp;returnto=Python\" title=\"You are encouraged to create an account and log in; however, it is not mandatory\"><span class=\"vector-icon mw-ui-icon-userAdd mw-ui-icon-wikimedia-userAdd\"></span> <span>Create account</span></a>],\n",
       " [<a accesskey=\"o\" href=\"/w/index.php?title=Special:UserLogin&amp;returnto=Python\" title=\"You're encouraged to log in; however, it's not mandatory. [o]\"><span class=\"vector-icon mw-ui-icon-logIn mw-ui-icon-wikimedia-logIn\"></span> <span>Log in</span></a>],\n",
       " [<a accesskey=\"y\" href=\"/wiki/Special:MyContributions\" title=\"A list of edits made from this IP address [y]\"><span>Contributions</span></a>],\n",
       " [<a accesskey=\"n\" href=\"/wiki/Special:MyTalk\" title=\"Discussion about edits from this IP address [n]\"><span>Talk</span></a>],\n",
       " [<a class=\"vector-toc-link\" href=\"#\">\n",
       "  <div class=\"vector-toc-text\">(Top)</div>\n",
       "  </a>],\n",
       " [<a class=\"vector-toc-link\" href=\"#Snakes\">\n",
       "  <div class=\"vector-toc-text\">\n",
       "  <span class=\"vector-toc-numb\">1</span>Snakes</div>\n",
       "  </a>],\n",
       " [<a class=\"vector-toc-link\" href=\"#Computing\">\n",
       "  <div class=\"vector-toc-text\">\n",
       "  <span class=\"vector-toc-numb\">2</span>Computing</div>\n",
       "  </a>],\n",
       " [<a class=\"vector-toc-link\" href=\"#People\">\n",
       "  <div class=\"vector-toc-text\">\n",
       "  <span class=\"vector-toc-numb\">3</span>People</div>\n",
       "  </a>],\n",
       " [<a class=\"vector-toc-link\" href=\"#Roller_coasters\">\n",
       "  <div class=\"vector-toc-text\">\n",
       "  <span class=\"vector-toc-numb\">4</span>Roller coasters</div>\n",
       "  </a>],\n",
       " [<a class=\"vector-toc-link\" href=\"#Vehicles\">\n",
       "  <div class=\"vector-toc-text\">\n",
       "  <span class=\"vector-toc-numb\">5</span>Vehicles</div>\n",
       "  </a>],\n",
       " [<a class=\"vector-toc-link\" href=\"#Weaponry\">\n",
       "  <div class=\"vector-toc-text\">\n",
       "  <span class=\"vector-toc-numb\">6</span>Weaponry</div>\n",
       "  </a>],\n",
       " [<a class=\"vector-toc-link\" href=\"#Other_uses\">\n",
       "  <div class=\"vector-toc-text\">\n",
       "  <span class=\"vector-toc-numb\">7</span>Other uses</div>\n",
       "  </a>],\n",
       " [<a class=\"vector-toc-link\" href=\"#See_also\">\n",
       "  <div class=\"vector-toc-text\">\n",
       "  <span class=\"vector-toc-numb\">8</span>See also</div>\n",
       "  </a>],\n",
       " [<a class=\"interlanguage-link-target\" href=\"https://af.wikipedia.org/wiki/Python\" hreflang=\"af\" lang=\"af\" title=\"Python – Afrikaans\"><span>Afrikaans</span></a>],\n",
       " [<a class=\"interlanguage-link-target\" href=\"https://als.wikipedia.org/wiki/Python\" hreflang=\"gsw\" lang=\"gsw\" title=\"Python – Alemannic\"><span>Alemannisch</span></a>],\n",
       " [<a class=\"interlanguage-link-target\" href=\"https://ar.wikipedia.org/wiki/%D8%A8%D8%A7%D9%8A%D8%AB%D9%88%D9%86_(%D8%AA%D9%88%D8%B6%D9%8A%D8%AD)\" hreflang=\"ar\" lang=\"ar\" title=\"بايثون (توضيح) – Arabic\"><span>العربية</span></a>],\n",
       " [<a class=\"interlanguage-link-target\" href=\"https://az.wikipedia.org/wiki/Python_(d%C9%99qiql%C9%99%C5%9Fdirm%C9%99)\" hreflang=\"az\" lang=\"az\" title=\"Python (dəqiqləşdirmə) – Azerbaijani\"><span>Azərbaycanca</span></a>],\n",
       " [<a class=\"interlanguage-link-target\" href=\"https://bn.wikipedia.org/wiki/%E0%A6%AA%E0%A6%BE%E0%A6%87%E0%A6%A5%E0%A6%A8_(%E0%A6%A6%E0%A7%8D%E0%A6%AC%E0%A7%8D%E0%A6%AF%E0%A6%B0%E0%A7%8D%E0%A6%A5%E0%A6%A4%E0%A6%BE_%E0%A6%A8%E0%A6%BF%E0%A6%B0%E0%A6%B8%E0%A6%A8)\" hreflang=\"bn\" lang=\"bn\" title=\"পাইথন (দ্ব্যর্থতা নিরসন) – Bangla\"><span>বাংলা</span></a>],\n",
       " [<a class=\"interlanguage-link-target\" href=\"https://be.wikipedia.org/wiki/Python\" hreflang=\"be\" lang=\"be\" title=\"Python – Belarusian\"><span>Беларуская</span></a>],\n",
       " [<a class=\"interlanguage-link-target\" href=\"https://bg.wikipedia.org/wiki/%D0%9F%D0%B8%D1%82%D0%BE%D0%BD_(%D0%BF%D0%BE%D1%8F%D1%81%D0%BD%D0%B5%D0%BD%D0%B8%D0%B5)\" hreflang=\"bg\" lang=\"bg\" title=\"Питон (пояснение) – Bulgarian\"><span>Български</span></a>],\n",
       " [<a class=\"interlanguage-link-target\" href=\"https://cs.wikipedia.org/wiki/Python_(rozcestn%C3%ADk)\" hreflang=\"cs\" lang=\"cs\" title=\"Python (rozcestník) – Czech\"><span>Čeština</span></a>],\n",
       " [<a class=\"interlanguage-link-target\" href=\"https://da.wikipedia.org/wiki/Python\" hreflang=\"da\" lang=\"da\" title=\"Python – Danish\"><span>Dansk</span></a>],\n",
       " [<a class=\"interlanguage-link-target\" href=\"https://de.wikipedia.org/wiki/Python\" hreflang=\"de\" lang=\"de\" title=\"Python – German\"><span>Deutsch</span></a>],\n",
       " [<a class=\"interlanguage-link-target\" href=\"https://eo.wikipedia.org/wiki/Pitono_(apartigilo)\" hreflang=\"eo\" lang=\"eo\" title=\"Pitono (apartigilo) – Esperanto\"><span>Esperanto</span></a>],\n",
       " [<a class=\"interlanguage-link-target\" href=\"https://eu.wikipedia.org/wiki/Python_(argipena)\" hreflang=\"eu\" lang=\"eu\" title=\"Python (argipena) – Basque\"><span>Euskara</span></a>],\n",
       " [<a class=\"interlanguage-link-target\" href=\"https://fa.wikipedia.org/wiki/%D9%BE%D8%A7%DB%8C%D8%AA%D9%88%D9%86\" hreflang=\"fa\" lang=\"fa\" title=\"پایتون – Persian\"><span>فارسی</span></a>],\n",
       " [<a class=\"interlanguage-link-target\" href=\"https://fr.wikipedia.org/wiki/Python\" hreflang=\"fr\" lang=\"fr\" title=\"Python – French\"><span>Français</span></a>],\n",
       " [<a class=\"interlanguage-link-target\" href=\"https://ko.wikipedia.org/wiki/%ED%8C%8C%EC%9D%B4%EC%84%A0\" hreflang=\"ko\" lang=\"ko\" title=\"파이선 – Korean\"><span>한국어</span></a>],\n",
       " [<a class=\"interlanguage-link-target\" href=\"https://hr.wikipedia.org/wiki/Python_(razdvojba)\" hreflang=\"hr\" lang=\"hr\" title=\"Python (razdvojba) – Croatian\"><span>Hrvatski</span></a>],\n",
       " [<a class=\"interlanguage-link-target\" href=\"https://io.wikipedia.org/wiki/Pitono\" hreflang=\"io\" lang=\"io\" title=\"Pitono – Ido\"><span>Ido</span></a>],\n",
       " [<a class=\"interlanguage-link-target\" href=\"https://id.wikipedia.org/wiki/Python\" hreflang=\"id\" lang=\"id\" title=\"Python – Indonesian\"><span>Bahasa Indonesia</span></a>],\n",
       " [<a class=\"interlanguage-link-target\" href=\"https://ia.wikipedia.org/wiki/Python_(disambiguation)\" hreflang=\"ia\" lang=\"ia\" title=\"Python (disambiguation) – Interlingua\"><span>Interlingua</span></a>],\n",
       " [<a class=\"interlanguage-link-target\" href=\"https://is.wikipedia.org/wiki/Python_(a%C3%B0greining)\" hreflang=\"is\" lang=\"is\" title=\"Python (aðgreining) – Icelandic\"><span>Íslenska</span></a>],\n",
       " [<a class=\"interlanguage-link-target\" href=\"https://it.wikipedia.org/wiki/Python_(disambigua)\" hreflang=\"it\" lang=\"it\" title=\"Python (disambigua) – Italian\"><span>Italiano</span></a>],\n",
       " [<a class=\"interlanguage-link-target\" href=\"https://he.wikipedia.org/wiki/%D7%A4%D7%99%D7%AA%D7%95%D7%9F\" hreflang=\"he\" lang=\"he\" title=\"פיתון – Hebrew\"><span>עברית</span></a>],\n",
       " [<a class=\"interlanguage-link-target\" href=\"https://ka.wikipedia.org/wiki/%E1%83%9E%E1%83%98%E1%83%97%E1%83%9D%E1%83%9C%E1%83%98_(%E1%83%9B%E1%83%A0%E1%83%90%E1%83%95%E1%83%90%E1%83%9A%E1%83%9B%E1%83%9C%E1%83%98%E1%83%A8%E1%83%95%E1%83%9C%E1%83%94%E1%83%9A%E1%83%9D%E1%83%95%E1%83%90%E1%83%9C%E1%83%98)\" hreflang=\"ka\" lang=\"ka\" title=\"პითონი (მრავალმნიშვნელოვანი) – Georgian\"><span>ქართული</span></a>],\n",
       " [<a class=\"interlanguage-link-target\" href=\"https://kg.wikipedia.org/wiki/Mboma_(nyoka)\" hreflang=\"kg\" lang=\"kg\" title=\"Mboma (nyoka) – Kongo\"><span>Kongo</span></a>],\n",
       " [<a class=\"interlanguage-link-target\" href=\"https://la.wikipedia.org/wiki/Python_(discretiva)\" hreflang=\"la\" lang=\"la\" title=\"Python (discretiva) – Latin\"><span>Latina</span></a>],\n",
       " [<a class=\"interlanguage-link-target\" href=\"https://lb.wikipedia.org/wiki/Python\" hreflang=\"lb\" lang=\"lb\" title=\"Python – Luxembourgish\"><span>Lëtzebuergesch</span></a>],\n",
       " [<a class=\"interlanguage-link-target\" href=\"https://hu.wikipedia.org/wiki/Python_(egy%C3%A9rtelm%C5%B1s%C3%ADt%C5%91_lap)\" hreflang=\"hu\" lang=\"hu\" title=\"Python (egyértelműsítő lap) – Hungarian\"><span>Magyar</span></a>],\n",
       " [<a class=\"interlanguage-link-target\" href=\"https://mr.wikipedia.org/wiki/%E0%A4%AA%E0%A4%BE%E0%A4%AF%E0%A4%A5%E0%A5%89%E0%A4%A8_(%E0%A4%86%E0%A4%9C%E0%A5%8D%E0%A4%9E%E0%A4%BE%E0%A4%B5%E0%A4%B2%E0%A5%80_%E0%A4%AD%E0%A4%BE%E0%A4%B7%E0%A4%BE)\" hreflang=\"mr\" lang=\"mr\" title=\"पायथॉन (आज्ञावली भाषा) – Marathi\"><span>मराठी</span></a>],\n",
       " [<a class=\"interlanguage-link-target\" href=\"https://nl.wikipedia.org/wiki/Python\" hreflang=\"nl\" lang=\"nl\" title=\"Python – Dutch\"><span>Nederlands</span></a>],\n",
       " [<a class=\"interlanguage-link-target\" href=\"https://ja.wikipedia.org/wiki/%E3%83%91%E3%82%A4%E3%82%BD%E3%83%B3\" hreflang=\"ja\" lang=\"ja\" title=\"パイソン – Japanese\"><span>日本語</span></a>],\n",
       " [<a class=\"interlanguage-link-target\" href=\"https://no.wikipedia.org/wiki/Pyton\" hreflang=\"nb\" lang=\"nb\" title=\"Pyton – Norwegian Bokmål\"><span>Norsk bokmål</span></a>],\n",
       " [<a class=\"interlanguage-link-target\" href=\"https://pl.wikipedia.org/wiki/Pyton\" hreflang=\"pl\" lang=\"pl\" title=\"Pyton – Polish\"><span>Polski</span></a>],\n",
       " [<a class=\"interlanguage-link-target\" href=\"https://pt.wikipedia.org/wiki/Python_(desambigua%C3%A7%C3%A3o)\" hreflang=\"pt\" lang=\"pt\" title=\"Python (desambiguação) – Portuguese\"><span>Português</span></a>],\n",
       " [<a class=\"interlanguage-link-target\" href=\"https://ru.wikipedia.org/wiki/Python_(%D0%B7%D0%BD%D0%B0%D1%87%D0%B5%D0%BD%D0%B8%D1%8F)\" hreflang=\"ru\" lang=\"ru\" title=\"Python (значения) – Russian\"><span>Русский</span></a>],\n",
       " [<a class=\"interlanguage-link-target\" href=\"https://sk.wikipedia.org/wiki/Python\" hreflang=\"sk\" lang=\"sk\" title=\"Python – Slovak\"><span>Slovenčina</span></a>],\n",
       " [<a class=\"interlanguage-link-target\" href=\"https://sr.wikipedia.org/wiki/%D0%9F%D0%B8%D1%82%D0%BE%D0%BD_(%D0%B2%D0%B8%D1%88%D0%B5%D0%B7%D0%BD%D0%B0%D1%87%D0%BD%D0%B0_%D0%BE%D0%B4%D1%80%D0%B5%D0%B4%D0%BD%D0%B8%D1%86%D0%B0)\" hreflang=\"sr\" lang=\"sr\" title=\"Питон (вишезначна одредница) – Serbian\"><span>Српски / srpski</span></a>],\n",
       " [<a class=\"interlanguage-link-target\" href=\"https://sh.wikipedia.org/wiki/Python\" hreflang=\"sh\" lang=\"sh\" title=\"Python – Serbo-Croatian\"><span>Srpskohrvatski / српскохрватски</span></a>],\n",
       " [<a class=\"interlanguage-link-target\" href=\"https://fi.wikipedia.org/wiki/Python\" hreflang=\"fi\" lang=\"fi\" title=\"Python – Finnish\"><span>Suomi</span></a>],\n",
       " [<a class=\"interlanguage-link-target\" href=\"https://sv.wikipedia.org/wiki/Pyton\" hreflang=\"sv\" lang=\"sv\" title=\"Pyton – Swedish\"><span>Svenska</span></a>],\n",
       " [<a class=\"interlanguage-link-target\" href=\"https://th.wikipedia.org/wiki/%E0%B9%84%E0%B8%9E%E0%B8%97%E0%B8%AD%E0%B8%99\" hreflang=\"th\" lang=\"th\" title=\"ไพทอน – Thai\"><span>ไทย</span></a>],\n",
       " [<a class=\"interlanguage-link-target\" href=\"https://tr.wikipedia.org/wiki/Python_(anlam_ayr%C4%B1m%C4%B1)\" hreflang=\"tr\" lang=\"tr\" title=\"Python (anlam ayrımı) – Turkish\"><span>Türkçe</span></a>],\n",
       " [<a class=\"interlanguage-link-target\" href=\"https://uk.wikipedia.org/wiki/%D0%9F%D1%96%D1%84%D0%BE%D0%BD\" hreflang=\"uk\" lang=\"uk\" title=\"Піфон – Ukrainian\"><span>Українська</span></a>],\n",
       " [<a class=\"interlanguage-link-target\" href=\"https://ur.wikipedia.org/wiki/%D9%BE%D8%A7%D8%A6%DB%8C%D8%AA%DA%BE%D9%88%D9%86\" hreflang=\"ur\" lang=\"ur\" title=\"پائیتھون – Urdu\"><span>اردو</span></a>],\n",
       " [<a class=\"interlanguage-link-target\" href=\"https://vi.wikipedia.org/wiki/Python\" hreflang=\"vi\" lang=\"vi\" title=\"Python – Vietnamese\"><span>Tiếng Việt</span></a>],\n",
       " [<a class=\"interlanguage-link-target\" href=\"https://zh.wikipedia.org/wiki/Python_(%E6%B6%88%E6%AD%A7%E4%B9%89)\" hreflang=\"zh\" lang=\"zh\" title=\"Python (消歧义) – Chinese\"><span>中文</span></a>],\n",
       " [<a accesskey=\"c\" href=\"/wiki/Python\" title=\"View the content page [c]\"><span>Article</span></a>],\n",
       " [<a accesskey=\"t\" href=\"/wiki/Talk:Python\" rel=\"discussion\" title=\"Discuss improvements to the content page [t]\"><span>Talk</span></a>],\n",
       " [<a href=\"/wiki/Python\"><span>Read</span></a>],\n",
       " [<a accesskey=\"e\" href=\"/w/index.php?title=Python&amp;action=edit\" title=\"Edit this page [e]\"><span>Edit</span></a>],\n",
       " [<a accesskey=\"h\" href=\"/w/index.php?title=Python&amp;action=history\" title=\"Past revisions of this page [h]\"><span>View history</span></a>],\n",
       " [<a href=\"/wiki/Python\"><span>Read</span></a>],\n",
       " [<a accesskey=\"e\" href=\"/w/index.php?title=Python&amp;action=edit\" title=\"Edit this page [e]\"><span>Edit</span></a>],\n",
       " [<a href=\"/w/index.php?title=Python&amp;action=history\"><span>View history</span></a>],\n",
       " [<a accesskey=\"j\" href=\"/wiki/Special:WhatLinksHere/Python\" title=\"List of all English Wikipedia pages containing links to this page [j]\"><span>What links here</span></a>],\n",
       " [<a accesskey=\"k\" href=\"/wiki/Special:RecentChangesLinked/Python\" rel=\"nofollow\" title=\"Recent changes in pages linked from this page [k]\"><span>Related changes</span></a>],\n",
       " [<a accesskey=\"u\" href=\"/wiki/Wikipedia:File_Upload_Wizard\" title=\"Upload files [u]\"><span>Upload file</span></a>],\n",
       " [<a accesskey=\"q\" href=\"/wiki/Special:SpecialPages\" title=\"A list of all special pages [q]\"><span>Special pages</span></a>],\n",
       " [<a href=\"/w/index.php?title=Python&amp;oldid=1183114882\" title=\"Permanent link to this revision of this page\"><span>Permanent link</span></a>],\n",
       " [<a href=\"/w/index.php?title=Python&amp;action=info\" title=\"More information about this page\"><span>Page information</span></a>],\n",
       " [<a href=\"/w/index.php?title=Special:CiteThisPage&amp;page=Python&amp;id=1183114882&amp;wpFormIdentifier=titleform\" title=\"Information on how to cite this page\"><span>Cite this page</span></a>],\n",
       " [<a href=\"/w/index.php?title=Special:UrlShortener&amp;url=https%3A%2F%2Fen.wikipedia.org%2Fwiki%2FPython\"><span>Get shortened URL</span></a>],\n",
       " [<a accesskey=\"g\" href=\"https://www.wikidata.org/wiki/Special:EntityPage/Q747452\" title=\"Structured data on this page hosted by Wikidata [g]\"><span>Wikidata item</span></a>],\n",
       " [<a href=\"/w/index.php?title=Special:DownloadAsPdf&amp;page=Python&amp;action=show-download-screen\" title=\"Download this page as a PDF file\"><span>Download as PDF</span></a>],\n",
       " [<a accesskey=\"p\" href=\"/w/index.php?title=Python&amp;printable=yes\" title=\"Printable version of this page [p]\"><span>Printable version</span></a>],\n",
       " [<a href=\"https://commons.wikimedia.org/wiki/Category:Python\" hreflang=\"en\"><span>Wikimedia Commons</span></a>],\n",
       " [<a href=\"/wiki/Pythonidae\" title=\"Pythonidae\">Pythonidae</a>,\n",
       "  <a href=\"/wiki/Python_(genus)\" title=\"Python (genus)\"><i>Python</i> (genus)</a>],\n",
       " [<a href=\"/wiki/Python_(genus)\" title=\"Python (genus)\"><i>Python</i> (genus)</a>],\n",
       " [<a href=\"/wiki/Python_(mythology)\" title=\"Python (mythology)\">Python (mythology)</a>],\n",
       " [<a href=\"/wiki/Python_(programming_language)\" title=\"Python (programming language)\">Python (programming language)</a>],\n",
       " [<a href=\"/wiki/CMU_Common_Lisp\" title=\"CMU Common Lisp\">CMU Common Lisp</a>],\n",
       " [<a href=\"/wiki/PERQ#PERQ_3\" title=\"PERQ\">PERQ 3</a>],\n",
       " [<a href=\"/wiki/Python_of_Aenus\" title=\"Python of Aenus\">Python of Aenus</a>],\n",
       " [<a href=\"/wiki/Python_(painter)\" title=\"Python (painter)\">Python (painter)</a>],\n",
       " [<a href=\"/wiki/Python_of_Byzantium\" title=\"Python of Byzantium\">Python of Byzantium</a>],\n",
       " [<a href=\"/wiki/Python_of_Catana\" title=\"Python of Catana\">Python of Catana</a>],\n",
       " [<a href=\"/wiki/Python_Anghelo\" title=\"Python Anghelo\">Python Anghelo</a>],\n",
       " [<a href=\"/wiki/Python_(Efteling)\" title=\"Python (Efteling)\">Python (Efteling)</a>],\n",
       " [<a href=\"/wiki/Python_(Busch_Gardens_Tampa_Bay)\" title=\"Python (Busch Gardens Tampa Bay)\">Python (Busch Gardens Tampa Bay)</a>],\n",
       " [<a href=\"/wiki/Python_(Coney_Island,_Cincinnati,_Ohio)\" title=\"Python (Coney Island, Cincinnati, Ohio)\">Python (Coney Island, Cincinnati, Ohio)</a>],\n",
       " [<a href=\"/wiki/Python_(automobile_maker)\" title=\"Python (automobile maker)\">Python (automobile maker)</a>],\n",
       " [<a href=\"/wiki/Python_(Ford_prototype)\" title=\"Python (Ford prototype)\">Python (Ford prototype)</a>],\n",
       " [<a href=\"/wiki/Python_(missile)\" title=\"Python (missile)\">Python (missile)</a>],\n",
       " [<a href=\"/wiki/Python_(nuclear_primary)\" title=\"Python (nuclear primary)\">Python (nuclear primary)</a>],\n",
       " [<a href=\"/wiki/Colt_Python\" title=\"Colt Python\">Colt Python</a>],\n",
       " [<a href=\"/wiki/Python_(codename)\" title=\"Python (codename)\">Python (codename)</a>],\n",
       " [<a href=\"/wiki/Python_(film)\" title=\"Python (film)\"><i>Python</i> (film)</a>],\n",
       " [<a href=\"/wiki/Monty_Python\" title=\"Monty Python\">Monty Python</a>,\n",
       "  <a href=\"/wiki/Python_(Monty)_Pictures\" title=\"Python (Monty) Pictures\">Python (Monty) Pictures</a>],\n",
       " [<a href=\"/wiki/Python_(Monty)_Pictures\" title=\"Python (Monty) Pictures\">Python (Monty) Pictures</a>],\n",
       " [<a href=\"/wiki/Timon_of_Phlius\" title=\"Timon of Phlius\">Timon of Phlius</a>],\n",
       " [<a href=\"/wiki/Pyton\" title=\"Pyton\">Pyton</a>],\n",
       " [<a href=\"/wiki/Pithon\" title=\"Pithon\">Pithon</a>],\n",
       " [<a href=\"/wiki/Category:Disambiguation_pages\" title=\"Category:Disambiguation pages\">Disambiguation pages</a>],\n",
       " [<a href=\"/wiki/Category:Human_name_disambiguation_pages\" title=\"Category:Human name disambiguation pages\">Human name disambiguation pages</a>],\n",
       " [<a href=\"/wiki/Category:Disambiguation_pages_with_given-name-holder_lists\" title=\"Category:Disambiguation pages with given-name-holder lists\">Disambiguation pages with given-name-holder lists</a>],\n",
       " [<a href=\"/wiki/Category:Short_description_is_different_from_Wikidata\" title=\"Category:Short description is different from Wikidata\">Short description is different from Wikidata</a>],\n",
       " [<a href=\"/wiki/Category:All_article_disambiguation_pages\" title=\"Category:All article disambiguation pages\">All article disambiguation pages</a>],\n",
       " [<a href=\"/wiki/Category:All_disambiguation_pages\" title=\"Category:All disambiguation pages\">All disambiguation pages</a>],\n",
       " [<a href=\"/wiki/Category:Animal_common_name_disambiguation_pages\" title=\"Category:Animal common name disambiguation pages\">Animal common name disambiguation pages</a>],\n",
       " [],\n",
       " [<a href=\"//en.wikipedia.org/wiki/Wikipedia:Text_of_the_Creative_Commons_Attribution-ShareAlike_4.0_International_License\" rel=\"license\">Creative Commons Attribution-ShareAlike License 4.0</a>,\n",
       "  <a href=\"//en.wikipedia.org/wiki/Wikipedia:Text_of_the_Creative_Commons_Attribution-ShareAlike_4.0_International_License\" rel=\"license\" style=\"display:none;\"></a>,\n",
       "  <a href=\"//foundation.wikimedia.org/wiki/Terms_of_Use\">Terms of Use</a>,\n",
       "  <a href=\"//foundation.wikimedia.org/wiki/Privacy_policy\">Privacy Policy</a>,\n",
       "  <a href=\"//www.wikimediafoundation.org/\">Wikimedia Foundation, Inc.</a>],\n",
       " [<a href=\"https://foundation.wikimedia.org/wiki/Special:MyLanguage/Policy:Privacy_policy\">Privacy policy</a>],\n",
       " [<a href=\"/wiki/Wikipedia:About\">About Wikipedia</a>],\n",
       " [<a href=\"/wiki/Wikipedia:General_disclaimer\">Disclaimers</a>],\n",
       " [<a href=\"//en.wikipedia.org/wiki/Wikipedia:Contact_us\">Contact Wikipedia</a>],\n",
       " [<a href=\"https://foundation.wikimedia.org/wiki/Special:MyLanguage/Universal_Code_of_Conduct\">Code of Conduct</a>],\n",
       " [<a href=\"https://developer.wikimedia.org\">Developers</a>],\n",
       " [<a href=\"https://stats.wikimedia.org/#/en.wikipedia.org\">Statistics</a>],\n",
       " [<a href=\"https://foundation.wikimedia.org/wiki/Special:MyLanguage/Policy:Cookie_statement\">Cookie statement</a>],\n",
       " [<a class=\"noprint stopMobileRedirectToggle\" href=\"//en.m.wikipedia.org/w/index.php?title=Python&amp;mobileaction=toggle_view_mobile\">Mobile view</a>],\n",
       " [<a href=\"https://wikimediafoundation.org/\"><img alt=\"Wikimedia Foundation\" height=\"31\" loading=\"lazy\" src=\"/static/images/footer/wikimedia-button.png\" srcset=\"/static/images/footer/wikimedia-button-1.5x.png 1.5x, /static/images/footer/wikimedia-button-2x.png 2x\" width=\"88\"/></a>],\n",
       " [<a href=\"https://www.mediawiki.org/\"><img alt=\"Powered by MediaWiki\" height=\"31\" loading=\"lazy\" src=\"/static/images/footer/poweredby_mediawiki_88x31.png\" srcset=\"/static/images/footer/poweredby_mediawiki_132x47.png 1.5x, /static/images/footer/poweredby_mediawiki_176x62.png 2x\" width=\"88\"/></a>],\n",
       " []]"
      ]
     },
     "execution_count": 135,
     "metadata": {},
     "output_type": "execute_result"
    }
   ],
   "source": [
    "article_list_wiki = [] #creo una lista vacia\n",
    "for a_wiki in article_wiki:\n",
    "    a_wiki = str(a_wiki)\n",
    "    soup_a_wiki =bs4.BeautifulSoup(a_wiki,'html.parser')\n",
    "    list_a_wiki = soup_a_wiki.find_all('a')\n",
    "    article_list_wiki.append(list_a_wiki)\n",
    "\n",
    "article_list_wiki"
   ]
  },
  {
   "cell_type": "markdown",
   "metadata": {},
   "source": [
    "#### Find the number of titles that have changed in the United States Code since its last release point."
   ]
  },
  {
   "cell_type": "code",
   "execution_count": 119,
   "metadata": {},
   "outputs": [],
   "source": [
    "# This is the url you will scrape in this exercise\n",
    "url_ = 'http://uscode.house.gov/download/download.shtml'"
   ]
  },
  {
   "cell_type": "code",
   "execution_count": 120,
   "metadata": {},
   "outputs": [
    {
     "data": {
      "text/plain": [
       "83039"
      ]
     },
     "execution_count": 120,
     "metadata": {},
     "output_type": "execute_result"
    }
   ],
   "source": [
    "# your code here\n",
    "response_titles = requests.get(url) \n",
    "html_titles = rsponse_titles.content\n",
    "len(html_titles)\n"
   ]
  },
  {
   "cell_type": "code",
   "execution_count": 124,
   "metadata": {},
   "outputs": [],
   "source": [
    "parsed_html_titles = bs4.BeautifulSoup(html_titles, 'html.parser')\n",
    "#print(parsed_html_titles.prettify())"
   ]
  },
  {
   "cell_type": "code",
   "execution_count": 126,
   "metadata": {},
   "outputs": [
    {
     "data": {
      "text/plain": [
       "[<div class=\"usctitlechanged\" id=\"us/usc/t20\">\n",
       " \n",
       "           Title 20 - Education\n",
       " \n",
       "         </div>,\n",
       " <div class=\"usctitlechanged\" id=\"us/usc/t38\">\n",
       " \n",
       "           Title 38 - Veterans' Benefits <span class=\"footnote\"><a class=\"fn\" href=\"#fn\">٭</a></span>\n",
       " </div>]"
      ]
     },
     "execution_count": 126,
     "metadata": {},
     "output_type": "execute_result"
    }
   ],
   "source": [
    "article_titles = parsed_html_titles.find_all('div',{'class':'usctitlechanged'})\n",
    "article_titles\n"
   ]
  },
  {
   "cell_type": "code",
   "execution_count": 174,
   "metadata": {},
   "outputs": [
    {
     "data": {
      "text/plain": [
       "[\"Title 38 - Veterans' Benefits ٭\", \"Title 38 - Veterans' Benefits ٭\"]"
      ]
     },
     "execution_count": 174,
     "metadata": {},
     "output_type": "execute_result"
    }
   ],
   "source": [
    "article_list_titles = [] #creo una lista vacia\n",
    "\n",
    "for a in article_titles:\n",
    "    a = str(a_titles)\n",
    "    soup_a_titles =bs4.BeautifulSoup(a_titles,'html.parser')\n",
    "    #print(soup_a_titles)\n",
    "    list_a_titles = soup_a_titles.find_all('div')\n",
    "    #print(list_a_titles)\n",
    "    for e in list_a_titles:\n",
    "        article_list_titles.append(e.text.strip())\n",
    "article_list_titles"
   ]
  },
  {
   "cell_type": "markdown",
   "metadata": {},
   "source": [
    "#### Find a Python list with the top ten FBI's Most Wanted names."
   ]
  },
  {
   "cell_type": "code",
   "execution_count": 195,
   "metadata": {},
   "outputs": [],
   "source": [
    "# This is the url you will scrape in this exercise\n",
    "url = 'https://www.fbi.gov/wanted/topten'"
   ]
  },
  {
   "cell_type": "code",
   "execution_count": 196,
   "metadata": {},
   "outputs": [
    {
     "data": {
      "text/plain": [
       "213686"
      ]
     },
     "execution_count": 196,
     "metadata": {},
     "output_type": "execute_result"
    }
   ],
   "source": [
    "# your code here\n",
    "response_wanted =requests.get(url)\n",
    "\n",
    "html_wanted = response_wanted.content\n",
    "len(html_wanted)"
   ]
  },
  {
   "cell_type": "code",
   "execution_count": 203,
   "metadata": {},
   "outputs": [],
   "source": [
    "parsed_html_wanted = BeautifulSoup(html_wanted, 'html.parser')\n",
    "#print(parsed_html_titles.prettify())\n",
    "#len(parsed_html_wanted)\n",
    "#print(parsed_html_wanted.body)\n",
    "#Me sale error_page..."
   ]
  },
  {
   "cell_type": "code",
   "execution_count": 201,
   "metadata": {},
   "outputs": [
    {
     "data": {
      "text/plain": [
       "[]"
      ]
     },
     "execution_count": 201,
     "metadata": {},
     "output_type": "execute_result"
    }
   ],
   "source": [
    "article_wanted = parsed_html_wanted.find_all('h3', {'class': 'title'})\n",
    "article_wanted"
   ]
  },
  {
   "cell_type": "code",
   "execution_count": null,
   "metadata": {},
   "outputs": [],
   "source": [
    "#me da un error y no me saca informacion..."
   ]
  },
  {
   "cell_type": "markdown",
   "metadata": {},
   "source": [
    "####  Display the 20 latest earthquakes info (date, time, latitude, longitude and region name) by the EMSC as a pandas dataframe."
   ]
  },
  {
   "cell_type": "code",
   "execution_count": 3,
   "metadata": {},
   "outputs": [],
   "source": [
    "# This is the url you will scrape in this exercise\n",
    "url_earthquakes = 'https://www.emsc-csem.org/Earthquake/'"
   ]
  },
  {
   "cell_type": "code",
   "execution_count": 4,
   "metadata": {},
   "outputs": [
    {
     "data": {
      "text/plain": [
       "14347"
      ]
     },
     "execution_count": 4,
     "metadata": {},
     "output_type": "execute_result"
    }
   ],
   "source": [
    "# your code here\n",
    "response_earthquakes =requests.get(url_earthquakes)\n",
    "html_earthquakes = response_earthquakes.content\n",
    "len(html_earthquakes)"
   ]
  },
  {
   "cell_type": "code",
   "execution_count": 5,
   "metadata": {},
   "outputs": [],
   "source": [
    "parsed_html_earthquakes = bs4.BeautifulSoup(html_earthquakes, 'html.parser')\n",
    "#parsed_html_earthquakes.body"
   ]
  },
  {
   "cell_type": "code",
   "execution_count": 6,
   "metadata": {},
   "outputs": [
    {
     "data": {
      "text/plain": [
       "[<table class=\"eqs table-scroll\">\n",
       " <thead><tr><th class=\"thico\"><th class=\"citiz\" colspan=\"2\"><div>Citizen<br/>response</div><div><div class=\"dm comm\"></div><div class=\"dm pic\"></div></div></th>\n",
       " </th><th class=\"tbdat\">Date &amp; Time<div>UTC</div></th><th class=\"tblat\">Lat.<div>degrees</div></th><th class=\"tblon\">Lon.<div>degrees</div></th><th class=\"tbdep\">Depth<div>km</div></th><th class=\"tbmag\">Mag.<span>[+]</span></th><th class=\"tbreg\">Region</th></tr></thead>\n",
       " <tbody></tbody>\n",
       " </table>]"
      ]
     },
     "execution_count": 6,
     "metadata": {},
     "output_type": "execute_result"
    }
   ],
   "source": [
    "article_earthquakes = parsed_html_earthquakes.find_all('table',{'class':'eqs table-scroll'})\n",
    "article_earthquakes\n"
   ]
  },
  {
   "cell_type": "code",
   "execution_count": 7,
   "metadata": {},
   "outputs": [
    {
     "data": {
      "text/plain": [
       "['Citizenresponse\\n',\n",
       " 'Citizenresponse',\n",
       " 'Date & TimeUTC',\n",
       " 'Lat.degrees',\n",
       " 'Lon.degrees',\n",
       " 'Depthkm',\n",
       " 'Mag.[+]',\n",
       " 'Region']"
      ]
     },
     "execution_count": 7,
     "metadata": {},
     "output_type": "execute_result"
    }
   ],
   "source": [
    "article_list_earthquakes = [] #creo una lista vacia\n",
    "\n",
    "for th in article_earthquakes:\n",
    "    th = str(th)\n",
    "    soup_a_earthquakes =bs4.BeautifulSoup(th,'html.parser')\n",
    "    #print(soup_a_earthquakes)\n",
    "    list_a_earthquakes = soup_a_earthquakes.find_all('th')\n",
    "    #print(list_a_earthquakes)\n",
    "    for e in list_a_earthquakes:\n",
    "        article_list_earthquakes.append(e.text)\n",
    "article_list_earthquakes # Aqui tenemos los titulos de las columnas"
   ]
  },
  {
   "cell_type": "code",
   "execution_count": null,
   "metadata": {},
   "outputs": [],
   "source": [
    "df_earthquakes = pd.DataFrame(article_earthquakes_data, columns=article_list_earthquakes)\n",
    "df_earthquakes"
   ]
  },
  {
   "cell_type": "code",
   "execution_count": 9,
   "metadata": {},
   "outputs": [
    {
     "data": {
      "text/plain": [
       "[<tbody></tbody>]"
      ]
     },
     "execution_count": 9,
     "metadata": {},
     "output_type": "execute_result"
    }
   ],
   "source": [
    "article_earthquakes_data = parsed_html_earthquakes.find_all('tbody')\n",
    "article_earthquakes_data\n"
   ]
  },
  {
   "cell_type": "code",
   "execution_count": null,
   "metadata": {},
   "outputs": [],
   "source": [
    "#consigo sacar los titulos pero al sacar la informacion de la tabla me sale vacio..."
   ]
  },
  {
   "cell_type": "markdown",
   "metadata": {},
   "source": [
    "#### Count the number of tweets by a given Twitter account.\n",
    "Ask the user for the handle (@handle) of a twitter account. You will need to include a ***try/except block*** for account names not found. \n",
    "<br>***Hint:*** the program should count the number of tweets for any provided account."
   ]
  },
  {
   "cell_type": "code",
   "execution_count": null,
   "metadata": {},
   "outputs": [],
   "source": [
    "# This is the url you will scrape in this exercise \n",
    "# You will need to add the account credentials to this url\n",
    "url = 'https://twitter.com/'\n",
    "url_handle = input('Write your X account: ')\n",
    "url_final = url + url_handle"
   ]
  },
  {
   "cell_type": "code",
   "execution_count": null,
   "metadata": {},
   "outputs": [],
   "source": [
    "# your code here\n",
    "response_x =requests.get(url_final)\n",
    "html_x = response_x.content\n"
   ]
  },
  {
   "cell_type": "code",
   "execution_count": 15,
   "metadata": {},
   "outputs": [],
   "source": [
    "parsed_html_x = bs4.BeautifulSoup(html_x, 'html.parser')\n"
   ]
  },
  {
   "cell_type": "code",
   "execution_count": 19,
   "metadata": {},
   "outputs": [
    {
     "data": {
      "text/plain": [
       "6"
      ]
     },
     "execution_count": 19,
     "metadata": {},
     "output_type": "execute_result"
    }
   ],
   "source": [
    "try:\n",
    "    article_x = parsed_html_x.find_all('div',{'class':'css-1dbjc4n'})\n",
    "    tweet = tag['article']\n",
    "    print('The number of tweets is :' len(tweet))\n",
    "except:\n",
    "    print('Account names not found')\n"
   ]
  },
  {
   "cell_type": "code",
   "execution_count": 22,
   "metadata": {},
   "outputs": [
    {
     "name": "stdout",
     "output_type": "stream",
     "text": [
      "27\n"
     ]
    },
    {
     "data": {
      "text/plain": [
       "['Something went wrong, but don’t fret — let’s give it another shot.Try again',\n",
       " 'Something went wrong, but don’t fret — let’s give it another shot.Try again',\n",
       " '',\n",
       " 'Something went wrong, but don’t fret — let’s give it another shot.Try again',\n",
       " 'Something went wrong, but don’t fret — let’s give it another shot.Try again',\n",
       " 'Something went wrong, but don’t fret — let’s give it another shot.',\n",
       " 'Try again',\n",
       " 'Try again',\n",
       " 'Something went wrong, but don’t fret — let’s give it another shot.Try again',\n",
       " '',\n",
       " 'Something went wrong, but don’t fret — let’s give it another shot.Try again',\n",
       " 'Something went wrong, but don’t fret — let’s give it another shot.Try again',\n",
       " 'Something went wrong, but don’t fret — let’s give it another shot.',\n",
       " 'Try again',\n",
       " 'Try again',\n",
       " '',\n",
       " 'Something went wrong, but don’t fret — let’s give it another shot.Try again',\n",
       " 'Something went wrong, but don’t fret — let’s give it another shot.Try again',\n",
       " 'Something went wrong, but don’t fret — let’s give it another shot.',\n",
       " 'Try again',\n",
       " 'Try again',\n",
       " 'Something went wrong, but don’t fret — let’s give it another shot.Try again',\n",
       " 'Something went wrong, but don’t fret — let’s give it another shot.',\n",
       " 'Try again',\n",
       " 'Try again',\n",
       " 'Try again',\n",
       " 'Try again']"
      ]
     },
     "execution_count": 22,
     "metadata": {},
     "output_type": "execute_result"
    }
   ],
   "source": [
    "article_list_x = [] #creo una lista vacia\n",
    "for div in article_galgos:\n",
    "    div = str(div)\n",
    "    soup_a_galgo =bs4.BeautifulSoup(div,'html.parser')\n",
    "    list_a_galgo = soup_a_galgo.find_all('div')\n",
    "    #print(list_a)\n",
    "    for e in list_a_galgo:\n",
    "        article_list_x.append(e.text.strip())\n",
    "print(len(article_list_x))\n",
    "article_list_x"
   ]
  },
  {
   "cell_type": "markdown",
   "metadata": {},
   "source": [
    "#### Number of followers of a given twitter account\n",
    "Ask the user for the handle (@handle) of a twitter account. You will need to include a ***try/except block*** for account names not found. \n",
    "<br>***Hint:*** the program should count the followers for any provided account."
   ]
  },
  {
   "cell_type": "code",
   "execution_count": null,
   "metadata": {},
   "outputs": [],
   "source": [
    "# This is the url you will scrape in this exercise \n",
    "# You will need to add the account credentials to this url\n",
    "url = 'https://twitter.com/'\n",
    "url_handle_2 = input('Write your X account: ')\n",
    "url_final_2 = url + url_handle_2"
   ]
  },
  {
   "cell_type": "code",
   "execution_count": null,
   "metadata": {},
   "outputs": [],
   "source": [
    "# your code here\n",
    "response_account =requests.get(url_final_2)\n",
    "html_followers = response_account.content\n",
    "parsed_html_follow = bs4.BeautifulSoup(html_followers, 'html.parser')\n"
   ]
  },
  {
   "cell_type": "code",
   "execution_count": null,
   "metadata": {},
   "outputs": [],
   "source": [
    "try:\n",
    "    article_follow = parsed_html_follow.find_all('div',{'class':'css-1dbjc4n r-1mf7evn'})\n",
    "    followers = tag['span']\n",
    "    print('The number of followers is :' len(followers))\n",
    "except:\n",
    "    print('Account names not found')"
   ]
  },
  {
   "cell_type": "markdown",
   "metadata": {},
   "source": [
    "#### List all language names and number of related articles in the order they appear in wikipedia.org."
   ]
  },
  {
   "cell_type": "code",
   "execution_count": 2,
   "metadata": {},
   "outputs": [],
   "source": [
    "# This is the url you will scrape in this exercise\n",
    "url_lang = 'https://www.wikipedia.org/'"
   ]
  },
  {
   "cell_type": "code",
   "execution_count": 3,
   "metadata": {},
   "outputs": [
    {
     "data": {
      "text/plain": [
       "98036"
      ]
     },
     "execution_count": 3,
     "metadata": {},
     "output_type": "execute_result"
    }
   ],
   "source": [
    "# your code here\n",
    "response_lang =requests.get(url_lang)\n",
    "html_lang = response_lang.content\n",
    "len(html_lang)"
   ]
  },
  {
   "cell_type": "code",
   "execution_count": 5,
   "metadata": {},
   "outputs": [],
   "source": [
    "parsed_html_lang = bs4.BeautifulSoup(html_lang, 'html.parser')\n",
    "#parsed_html_lang"
   ]
  },
  {
   "cell_type": "code",
   "execution_count": 7,
   "metadata": {},
   "outputs": [
    {
     "data": {
      "text/plain": [
       "1"
      ]
     },
     "execution_count": 7,
     "metadata": {},
     "output_type": "execute_result"
    }
   ],
   "source": [
    "article_lang = parsed_html_lang.find_all('div',{'class':'central-featured'})\n",
    "len(article_lang)\n"
   ]
  },
  {
   "cell_type": "code",
   "execution_count": 11,
   "metadata": {},
   "outputs": [
    {
     "data": {
      "text/plain": [
       "['English\\n6\\xa0740\\xa0000+ articles',\n",
       " 'Русский\\n1\\xa0946\\xa0000+ статей',\n",
       " 'Español\\n1\\xa0904\\xa0000+ artículos',\n",
       " '日本語\\n1\\xa0392\\xa0000+ 記事',\n",
       " 'Deutsch\\n2\\xa0850\\xa0000+ Artikel',\n",
       " 'Français\\n2\\xa0566\\xa0000+ articles',\n",
       " 'Italiano\\n1\\xa0834\\xa0000+ voci',\n",
       " 'العربية\\n1\\xa0221\\xa0000+ مقالة',\n",
       " 'Português\\n1\\xa0112\\xa0000+ artigos',\n",
       " 'فارسی\\n980\\xa0000+ مقاله']"
      ]
     },
     "execution_count": 11,
     "metadata": {},
     "output_type": "execute_result"
    }
   ],
   "source": [
    "article_list_lang = [] #creo una lista vacia\n",
    "for div in article_lang:\n",
    "    div = str(div)\n",
    "    soup_a_lag =bs4.BeautifulSoup(div,'html.parser')\n",
    "    list_a_lang = soup_a_lag.find_all('a')\n",
    "    #print(list_a_lang)\n",
    "    for e in list_a_lang:\n",
    "        article_list_lang.append(e.text.strip())\n",
    "article_list_lang"
   ]
  },
  {
   "cell_type": "code",
   "execution_count": null,
   "metadata": {},
   "outputs": [],
   "source": [
    "#los numeros creo que hay que convertirlos?"
   ]
  },
  {
   "cell_type": "markdown",
   "metadata": {},
   "source": [
    "#### A list with the different kind of datasets available in data.gov.uk."
   ]
  },
  {
   "cell_type": "code",
   "execution_count": 13,
   "metadata": {},
   "outputs": [],
   "source": [
    "# This is the url you will scrape in this exercise\n",
    "url_datasets = 'https://data.gov.uk/'"
   ]
  },
  {
   "cell_type": "code",
   "execution_count": 14,
   "metadata": {},
   "outputs": [
    {
     "data": {
      "text/plain": [
       "14187"
      ]
     },
     "execution_count": 14,
     "metadata": {},
     "output_type": "execute_result"
    }
   ],
   "source": [
    "# your code here\n",
    "response_datasets =requests.get(url_datasets)\n",
    "html_datasets = response_datasets.content\n",
    "len(html_datasets)"
   ]
  },
  {
   "cell_type": "code",
   "execution_count": 16,
   "metadata": {},
   "outputs": [],
   "source": [
    "parsed_html_datasets = bs4.BeautifulSoup(html_datasets, 'html.parser')\n",
    "#parsed_html_datasets"
   ]
  },
  {
   "cell_type": "code",
   "execution_count": 17,
   "metadata": {},
   "outputs": [
    {
     "data": {
      "text/plain": [
       "1"
      ]
     },
     "execution_count": 17,
     "metadata": {},
     "output_type": "execute_result"
    }
   ],
   "source": [
    "article_datasets = parsed_html_datasets.find_all('ul',{'class':'govuk-list dgu-topics__list'})\n",
    "len(article_datasets)"
   ]
  },
  {
   "cell_type": "code",
   "execution_count": 20,
   "metadata": {},
   "outputs": [
    {
     "data": {
      "text/plain": [
       "['Business and economy',\n",
       " 'Crime and justice',\n",
       " 'Defence',\n",
       " 'Education',\n",
       " 'Environment',\n",
       " 'Government',\n",
       " 'Government spending',\n",
       " 'Health',\n",
       " 'Mapping',\n",
       " 'Society',\n",
       " 'Towns and cities',\n",
       " 'Transport',\n",
       " 'Digital service performance',\n",
       " 'Government reference data']"
      ]
     },
     "execution_count": 20,
     "metadata": {},
     "output_type": "execute_result"
    }
   ],
   "source": [
    "article_list_datasets = [] #creo una lista vacia\n",
    "for a in article_datasets:\n",
    "    a = str(a)\n",
    "    soup_a_datasets =bs4.BeautifulSoup(a,'html.parser')\n",
    "    list_a_data = soup_a_datasets.find_all('a')\n",
    "    #print(list_a_data)\n",
    "    for e in list_a_data:\n",
    "        article_list_datasets.append(e.text.strip())\n",
    "article_list_datasets"
   ]
  },
  {
   "cell_type": "markdown",
   "metadata": {},
   "source": [
    "#### Display the top 10 languages by number of native speakers stored in a pandas dataframe."
   ]
  },
  {
   "cell_type": "code",
   "execution_count": 21,
   "metadata": {},
   "outputs": [],
   "source": [
    "# This is the url you will scrape in this exercise\n",
    "url_top = 'https://en.wikipedia.org/wiki/List_of_languages_by_number_of_native_speakers'"
   ]
  },
  {
   "cell_type": "code",
   "execution_count": 22,
   "metadata": {},
   "outputs": [
    {
     "data": {
      "text/plain": [
       "129750"
      ]
     },
     "execution_count": 22,
     "metadata": {},
     "output_type": "execute_result"
    }
   ],
   "source": [
    "# your code here\n",
    "response_top =requests.get(url_top)\n",
    "html_top = response_top.content\n",
    "len(html_top)"
   ]
  },
  {
   "cell_type": "code",
   "execution_count": 25,
   "metadata": {},
   "outputs": [],
   "source": [
    "parsed_html_top = bs4.BeautifulSoup(html_top, 'html.parser')\n",
    "#parsed_html_top"
   ]
  },
  {
   "cell_type": "code",
   "execution_count": 29,
   "metadata": {},
   "outputs": [],
   "source": [
    "article_top = parsed_html_top.find_all('table')\n",
    "#article_top"
   ]
  },
  {
   "cell_type": "code",
   "execution_count": 65,
   "metadata": {},
   "outputs": [
    {
     "name": "stdout",
     "output_type": "stream",
     "text": [
      "[<tbody><tr>\n",
      "<th>Language\n",
      "</th>\n",
      "<th data-sort-type=\"number\">Native speakers<br/><small>(millions)</small>\n",
      "</th>\n",
      "<th>Language family\n",
      "</th>\n",
      "<th>Branch\n",
      "</th></tr>\n",
      "<tr>\n",
      "<td><a class=\"mw-redirect\" href=\"/wiki/ISO_639:cmn\" title=\"ISO 639:cmn\">Mandarin Chinese</a><br/>(incl. <a href=\"/wiki/Standard_Chinese\" title=\"Standard Chinese\">Standard Chinese</a>, but excl. <a href=\"/wiki/Varieties_of_Chinese\" title=\"Varieties of Chinese\">other varieties</a>)\n",
      "</td>\n",
      "<td>939\n",
      "</td>\n",
      "<td><a href=\"/wiki/Sino-Tibetan_languages\" title=\"Sino-Tibetan languages\">Sino-Tibetan</a>\n",
      "</td>\n",
      "<td><a href=\"/wiki/Sinitic_languages\" title=\"Sinitic languages\">Sinitic</a>\n",
      "</td></tr>\n",
      "<tr>\n",
      "<td><a class=\"mw-redirect\" href=\"/wiki/ISO_639:spa\" title=\"ISO 639:spa\">Spanish</a>\n",
      "</td>\n",
      "<td>485\n",
      "</td>\n",
      "<td><a href=\"/wiki/Indo-European_languages\" title=\"Indo-European languages\">Indo-European</a>\n",
      "</td>\n",
      "<td><a href=\"/wiki/Romance_languages\" title=\"Romance languages\">Romance</a>\n",
      "</td></tr>\n",
      "<tr>\n",
      "<td><a class=\"mw-redirect\" href=\"/wiki/ISO_639:eng\" title=\"ISO 639:eng\">English</a>\n",
      "</td>\n",
      "<td>380\n",
      "</td>\n",
      "<td><a href=\"/wiki/Indo-European_languages\" title=\"Indo-European languages\">Indo-European</a>\n",
      "</td>\n",
      "<td><a href=\"/wiki/Germanic_languages\" title=\"Germanic languages\">Germanic</a>\n",
      "</td></tr>\n",
      "<tr>\n",
      "<td><a class=\"mw-redirect\" href=\"/wiki/ISO_639:hin\" title=\"ISO 639:hin\">Hindi</a><br/>(excl. <a href=\"/wiki/Urdu\" title=\"Urdu\">Urdu</a>, and <a href=\"/wiki/Hindi_Belt\" title=\"Hindi Belt\">other languages</a>)\n",
      "</td>\n",
      "<td>345\n",
      "</td>\n",
      "<td><a href=\"/wiki/Indo-European_languages\" title=\"Indo-European languages\">Indo-European</a>\n",
      "</td>\n",
      "<td><a href=\"/wiki/Indo-Aryan_languages\" title=\"Indo-Aryan languages\">Indo-Aryan</a>\n",
      "</td></tr>\n",
      "<tr>\n",
      "<td><a class=\"mw-redirect\" href=\"/wiki/ISO_639:por\" title=\"ISO 639:por\">Portuguese</a>\n",
      "</td>\n",
      "<td>236\n",
      "</td>\n",
      "<td><a href=\"/wiki/Indo-European_languages\" title=\"Indo-European languages\">Indo-European</a>\n",
      "</td>\n",
      "<td><a href=\"/wiki/Romance_languages\" title=\"Romance languages\">Romance</a>\n",
      "</td></tr>\n",
      "<tr>\n",
      "<td><a class=\"mw-redirect\" href=\"/wiki/ISO_639:ben\" title=\"ISO 639:ben\">Bengali</a>\n",
      "</td>\n",
      "<td>234\n",
      "</td>\n",
      "<td><a href=\"/wiki/Indo-European_languages\" title=\"Indo-European languages\">Indo-European</a>\n",
      "</td>\n",
      "<td><a href=\"/wiki/Indo-Aryan_languages\" title=\"Indo-Aryan languages\">Indo-Aryan</a>\n",
      "</td></tr>\n",
      "<tr>\n",
      "<td><a class=\"mw-redirect\" href=\"/wiki/ISO_639:rus\" title=\"ISO 639:rus\">Russian</a>\n",
      "</td>\n",
      "<td>147\n",
      "</td>\n",
      "<td><a href=\"/wiki/Indo-European_languages\" title=\"Indo-European languages\">Indo-European</a>\n",
      "</td>\n",
      "<td><a href=\"/wiki/Balto-Slavic_languages\" title=\"Balto-Slavic languages\">Balto-Slavic</a>\n",
      "</td></tr>\n",
      "<tr>\n",
      "<td><a class=\"mw-redirect\" href=\"/wiki/ISO_639:jpn\" title=\"ISO 639:jpn\">Japanese</a>\n",
      "</td>\n",
      "<td>123\n",
      "</td>\n",
      "<td><a href=\"/wiki/Japonic_languages\" title=\"Japonic languages\">Japonic</a>\n",
      "</td>\n",
      "<td><a href=\"/wiki/Japanese_language\" title=\"Japanese language\">Japanese</a>\n",
      "</td></tr>\n",
      "<tr>\n",
      "<td><a class=\"mw-redirect\" href=\"/wiki/ISO_639:yue\" title=\"ISO 639:yue\">Yue Chinese</a><br/>(incl. <a href=\"/wiki/Cantonese\" title=\"Cantonese\">Cantonese</a>)\n",
      "</td>\n",
      "<td>86.1\n",
      "</td>\n",
      "<td><a href=\"/wiki/Sino-Tibetan_languages\" title=\"Sino-Tibetan languages\">Sino-Tibetan</a>\n",
      "</td>\n",
      "<td><a href=\"/wiki/Sinitic_languages\" title=\"Sinitic languages\">Sinitic</a>\n",
      "</td></tr>\n",
      "<tr>\n",
      "<td><a class=\"mw-redirect\" href=\"/wiki/ISO_639:vie\" title=\"ISO 639:vie\">Vietnamese</a>\n",
      "</td>\n",
      "<td>85.0\n",
      "</td>\n",
      "<td><a href=\"/wiki/Austroasiatic_languages\" title=\"Austroasiatic languages\">Austroasiatic</a>\n",
      "</td>\n",
      "<td><a href=\"/wiki/Vietic_languages\" title=\"Vietic languages\">Vietic</a>\n",
      "</td></tr>\n",
      "<tr>\n",
      "<td><a class=\"mw-redirect\" href=\"/wiki/ISO_639:tur\" title=\"ISO 639:tur\">Turkish</a>\n",
      "</td>\n",
      "<td>84.0\n",
      "</td>\n",
      "<td><a href=\"/wiki/Turkic_languages\" title=\"Turkic languages\">Turkic</a>\n",
      "</td>\n",
      "<td><a href=\"/wiki/Oghuz_languages\" title=\"Oghuz languages\">Oghuz</a>\n",
      "</td></tr>\n",
      "<tr>\n",
      "<td><a class=\"mw-redirect\" href=\"/wiki/ISO_639:wuu\" title=\"ISO 639:wuu\">Wu Chinese</a><br/>(incl. <a href=\"/wiki/Shanghainese\" title=\"Shanghainese\">Shanghainese</a>)\n",
      "</td>\n",
      "<td>83.4\n",
      "</td>\n",
      "<td><a href=\"/wiki/Sino-Tibetan_languages\" title=\"Sino-Tibetan languages\">Sino-Tibetan</a>\n",
      "</td>\n",
      "<td><a href=\"/wiki/Sinitic_languages\" title=\"Sinitic languages\">Sinitic</a>\n",
      "</td></tr>\n",
      "<tr>\n",
      "<td><a class=\"mw-redirect\" href=\"/wiki/ISO_639:mar\" title=\"ISO 639:mar\">Marathi</a>\n",
      "</td>\n",
      "<td>83.2\n",
      "</td>\n",
      "<td><a href=\"/wiki/Indo-European_languages\" title=\"Indo-European languages\">Indo-European</a>\n",
      "</td>\n",
      "<td><a href=\"/wiki/Indo-Aryan_languages\" title=\"Indo-Aryan languages\">Indo-Aryan</a>\n",
      "</td></tr>\n",
      "<tr>\n",
      "<td><a class=\"mw-redirect\" href=\"/wiki/ISO_639:tel\" title=\"ISO 639:tel\">Telugu</a>\n",
      "</td>\n",
      "<td>83.0\n",
      "</td>\n",
      "<td><a href=\"/wiki/Dravidian_languages\" title=\"Dravidian languages\">Dravidian</a>\n",
      "</td>\n",
      "<td>South-Central\n",
      "</td></tr>\n",
      "<tr>\n",
      "<td><a class=\"mw-redirect\" href=\"/wiki/ISO_639:kor\" title=\"ISO 639:kor\">Korean</a>\n",
      "</td>\n",
      "<td>81.7\n",
      "</td>\n",
      "<td><a href=\"/wiki/Koreanic_languages\" title=\"Koreanic languages\">Koreanic</a>\n",
      "</td>\n",
      "<td class=\"table-na\" data-sort-value=\"\" style=\"background: #ececec; color: #2C2C2C; vertical-align: middle; text-align: center;\">—\n",
      "</td></tr>\n",
      "<tr>\n",
      "<td><a class=\"mw-redirect\" href=\"/wiki/ISO_639:fra\" title=\"ISO 639:fra\">French</a>\n",
      "</td>\n",
      "<td>80.8\n",
      "</td>\n",
      "<td><a href=\"/wiki/Indo-European_languages\" title=\"Indo-European languages\">Indo-European</a>\n",
      "</td>\n",
      "<td><a href=\"/wiki/Romance_languages\" title=\"Romance languages\">Romance</a>\n",
      "</td></tr>\n",
      "<tr>\n",
      "<td><a class=\"mw-redirect\" href=\"/wiki/ISO_639:tam\" title=\"ISO 639:tam\">Tamil</a>\n",
      "</td>\n",
      "<td>78.6\n",
      "</td>\n",
      "<td><a href=\"/wiki/Dravidian_languages\" title=\"Dravidian languages\">Dravidian</a>\n",
      "</td>\n",
      "<td>South\n",
      "</td></tr>\n",
      "<tr>\n",
      "<td><a class=\"mw-redirect\" href=\"/wiki/ISO_639:arz\" title=\"ISO 639:arz\">Egyptian Spoken Arabic</a><br/>(excl. <a href=\"/wiki/Sa%CA%BDidi_Arabic\" title=\"Saʽidi Arabic\">Saʽidi Arabic</a>)\n",
      "</td>\n",
      "<td>77.4\n",
      "</td>\n",
      "<td><a href=\"/wiki/Afroasiatic_languages\" title=\"Afroasiatic languages\">Afroasiatic</a>\n",
      "</td>\n",
      "<td><a href=\"/wiki/Semitic_languages\" title=\"Semitic languages\">Semitic</a>\n",
      "</td></tr>\n",
      "<tr>\n",
      "<td><a class=\"mw-redirect\" href=\"/wiki/ISO_639:deu\" title=\"ISO 639:deu\">Standard German</a>\n",
      "</td>\n",
      "<td>75.3\n",
      "</td>\n",
      "<td><a href=\"/wiki/Indo-European_languages\" title=\"Indo-European languages\">Indo-European</a>\n",
      "</td>\n",
      "<td><a href=\"/wiki/Germanic_languages\" title=\"Germanic languages\">Germanic</a>\n",
      "</td></tr>\n",
      "<tr>\n",
      "<td><a class=\"mw-redirect\" href=\"/wiki/ISO_639:urd\" title=\"ISO 639:urd\">Urdu</a><br/>(excl. <a href=\"/wiki/Hindi\" title=\"Hindi\">Hindi</a>)\n",
      "</td>\n",
      "<td>70.6\n",
      "</td>\n",
      "<td><a href=\"/wiki/Indo-European_languages\" title=\"Indo-European languages\">Indo-European</a>\n",
      "</td>\n",
      "<td><a href=\"/wiki/Indo-Aryan_languages\" title=\"Indo-Aryan languages\">Indo-Aryan</a>\n",
      "</td></tr>\n",
      "<tr>\n",
      "<td><a class=\"mw-redirect\" href=\"/wiki/ISO_639:jav\" title=\"ISO 639:jav\">Javanese</a>\n",
      "</td>\n",
      "<td>68.3\n",
      "</td>\n",
      "<td><a href=\"/wiki/Austronesian_languages\" title=\"Austronesian languages\">Austronesian</a>\n",
      "</td>\n",
      "<td><a href=\"/wiki/Malayo-Polynesian_languages\" title=\"Malayo-Polynesian languages\">Malayo-Polynesian</a>\n",
      "</td></tr>\n",
      "<tr>\n",
      "<td><a class=\"mw-redirect\" href=\"/wiki/ISO_639:pnb\" title=\"ISO 639:pnb\">Western Punjabi</a><br/>(excl. <a class=\"mw-redirect\" href=\"/wiki/Eastern_Punjabi_language\" title=\"Eastern Punjabi language\">Eastern Punjabi</a>)\n",
      "</td>\n",
      "<td>66.7\n",
      "</td>\n",
      "<td><a href=\"/wiki/Indo-European_languages\" title=\"Indo-European languages\">Indo-European</a>\n",
      "</td>\n",
      "<td><a href=\"/wiki/Indo-Aryan_languages\" title=\"Indo-Aryan languages\">Indo-Aryan</a>\n",
      "</td></tr>\n",
      "<tr>\n",
      "<td><a class=\"mw-redirect\" href=\"/wiki/ISO_639:ita\" title=\"ISO 639:ita\">Italian</a>\n",
      "</td>\n",
      "<td>64.6\n",
      "</td>\n",
      "<td><a href=\"/wiki/Indo-European_languages\" title=\"Indo-European languages\">Indo-European</a>\n",
      "</td>\n",
      "<td><a href=\"/wiki/Romance_languages\" title=\"Romance languages\">Romance</a>\n",
      "</td></tr>\n",
      "<tr>\n",
      "<td><a class=\"mw-redirect\" href=\"/wiki/ISO_639:guj\" title=\"ISO 639:guj\">Gujarati</a>\n",
      "</td>\n",
      "<td>57.1\n",
      "</td>\n",
      "<td><a href=\"/wiki/Indo-European_languages\" title=\"Indo-European languages\">Indo-European</a>\n",
      "</td>\n",
      "<td><a href=\"/wiki/Indo-Aryan_languages\" title=\"Indo-Aryan languages\">Indo-Aryan</a>\n",
      "</td></tr>\n",
      "<tr>\n",
      "<td><a class=\"mw-redirect\" href=\"/wiki/ISO_639:pes\" title=\"ISO 639:pes\">Iranian Persian</a><br/>(excl. <a href=\"/wiki/Dari\" title=\"Dari\">Dari</a> and <a href=\"/wiki/Tajik_language\" title=\"Tajik language\">Tajik</a>)\n",
      "</td>\n",
      "<td>57.2\n",
      "</td>\n",
      "<td><a href=\"/wiki/Indo-European_languages\" title=\"Indo-European languages\">Indo-European</a>\n",
      "</td>\n",
      "<td><a href=\"/wiki/Iranian_languages\" title=\"Iranian languages\">Iranian</a>\n",
      "</td></tr>\n",
      "<tr>\n",
      "<td><a class=\"mw-redirect\" href=\"/wiki/ISO_639:bho\" title=\"ISO 639:bho\">Bhojpuri</a>\n",
      "</td>\n",
      "<td>52.3\n",
      "</td>\n",
      "<td><a href=\"/wiki/Indo-European_languages\" title=\"Indo-European languages\">Indo-European</a>\n",
      "</td>\n",
      "<td><a href=\"/wiki/Indo-Aryan_languages\" title=\"Indo-Aryan languages\">Indo-Aryan</a>\n",
      "</td></tr>\n",
      "<tr>\n",
      "<td><a class=\"mw-redirect\" href=\"/wiki/ISO_639:hau\" title=\"ISO 639:hau\">Hausa</a>\n",
      "</td>\n",
      "<td>51.7\n",
      "</td>\n",
      "<td><a href=\"/wiki/Afroasiatic_languages\" title=\"Afroasiatic languages\">Afroasiatic</a>\n",
      "</td>\n",
      "<td><a href=\"/wiki/Chadic_languages\" title=\"Chadic languages\">Chadic</a>\n",
      "</td></tr></tbody>]\n",
      "[<tbody><tr>\n",
      "<th>Rank\n",
      "</th>\n",
      "<th>Language\n",
      "</th>\n",
      "<th>Percentage<br/>of world<br/>population<br/>(2018)\n",
      "</th></tr>\n",
      "<tr>\n",
      "<td>1</td>\n",
      "<td><a href=\"/wiki/Mandarin_Chinese\" title=\"Mandarin Chinese\">Mandarin Chinese</a></td>\n",
      "<td>12.3%\n",
      "</td></tr>\n",
      "<tr>\n",
      "<td>2</td>\n",
      "<td><a href=\"/wiki/Spanish_language\" title=\"Spanish language\">Spanish</a></td>\n",
      "<td>6.0%\n",
      "</td></tr>\n",
      "<tr>\n",
      "<td>3</td>\n",
      "<td><a href=\"/wiki/English_language\" title=\"English language\">English</a></td>\n",
      "<td>5.1%\n",
      "</td></tr>\n",
      "<tr>\n",
      "<td>3</td>\n",
      "<td><a class=\"mw-redirect\" href=\"/wiki/Arabic_language\" title=\"Arabic language\">Arabic</a></td>\n",
      "<td>5.1%\n",
      "</td></tr>\n",
      "<tr>\n",
      "<td>5</td>\n",
      "<td><a class=\"mw-redirect\" href=\"/wiki/Hindi_language\" title=\"Hindi language\">Hindi</a></td>\n",
      "<td>3.5%\n",
      "</td></tr>\n",
      "<tr>\n",
      "<td>6</td>\n",
      "<td><a href=\"/wiki/Bengali_language\" title=\"Bengali language\">Bengali</a></td>\n",
      "<td>3.3%\n",
      "</td></tr>\n",
      "<tr>\n",
      "<td>7</td>\n",
      "<td><a href=\"/wiki/Portuguese_language\" title=\"Portuguese language\">Portuguese</a></td>\n",
      "<td>3.0%\n",
      "</td></tr>\n",
      "<tr>\n",
      "<td>8</td>\n",
      "<td><a href=\"/wiki/Russian_language\" title=\"Russian language\">Russian</a></td>\n",
      "<td>2.1%\n",
      "</td></tr>\n",
      "<tr>\n",
      "<td>9</td>\n",
      "<td><a href=\"/wiki/Japanese_language\" title=\"Japanese language\">Japanese</a></td>\n",
      "<td>1.7%\n",
      "</td></tr>\n",
      "<tr>\n",
      "<td>10</td>\n",
      "<td><a href=\"/wiki/Lahnda\" title=\"Lahnda\">Western Punjabi</a></td>\n",
      "<td>1.3%\n",
      "</td></tr>\n",
      "<tr>\n",
      "<td>11</td>\n",
      "<td><a href=\"/wiki/Javanese_language\" title=\"Javanese language\">Javanese</a></td>\n",
      "<td>1.1%\n",
      "</td></tr></tbody>]\n",
      "[<tbody><tr><th class=\"navbox-title\" colspan=\"2\" scope=\"col\"><link href=\"mw-data:TemplateStyles:r1129693374\" rel=\"mw-deduplicated-inline-style\"/><style data-mw-deduplicate=\"TemplateStyles:r1063604349\">.mw-parser-output .navbar{display:inline;font-size:88%;font-weight:normal}.mw-parser-output .navbar-collapse{float:left;text-align:left}.mw-parser-output .navbar-boxtext{word-spacing:0}.mw-parser-output .navbar ul{display:inline-block;white-space:nowrap;line-height:inherit}.mw-parser-output .navbar-brackets::before{margin-right:-0.125em;content:\"[ \"}.mw-parser-output .navbar-brackets::after{margin-left:-0.125em;content:\" ]\"}.mw-parser-output .navbar li{word-spacing:-0.125em}.mw-parser-output .navbar a>span,.mw-parser-output .navbar a>abbr{text-decoration:inherit}.mw-parser-output .navbar-mini abbr{font-variant:small-caps;border-bottom:none;text-decoration:none;cursor:inherit}.mw-parser-output .navbar-ct-full{font-size:114%;margin:0 7em}.mw-parser-output .navbar-ct-mini{font-size:114%;margin:0 4em}</style><div class=\"navbar plainlinks hlist navbar-mini\"><ul><li class=\"nv-view\"><a href=\"/wiki/Template:Countries_and_languages_lists\" title=\"Template:Countries and languages lists\"><abbr style=\";;background:none transparent;border:none;box-shadow:none;padding:0;\" title=\"View this template\">v</abbr></a></li><li class=\"nv-talk\"><a href=\"/wiki/Template_talk:Countries_and_languages_lists\" title=\"Template talk:Countries and languages lists\"><abbr style=\";;background:none transparent;border:none;box-shadow:none;padding:0;\" title=\"Discuss this template\">t</abbr></a></li><li class=\"nv-edit\"><a href=\"/wiki/Special:EditPage/Template:Countries_and_languages_lists\" title=\"Special:EditPage/Template:Countries and languages lists\"><abbr style=\";;background:none transparent;border:none;box-shadow:none;padding:0;\" title=\"Edit this template\">e</abbr></a></li></ul></div><div id=\"Countries_and_languages_lists\" style=\"font-size:114%;margin:0 4em\"><a class=\"mw-redirect\" href=\"/wiki/Lists_of_countries_and_territories\" title=\"Lists of countries and territories\">Countries</a> and <a href=\"/wiki/Lists_of_languages\" title=\"Lists of languages\">languages</a> lists</div></th></tr><tr><td class=\"navbox-list navbox-odd\" colspan=\"2\" style=\"width:100%;padding:0\"><div style=\"padding:0 0.25em\"></div><table class=\"nowraplinks mw-collapsible expanded navbox-subgroup\" style=\"border-spacing:0\"><tbody><tr><th class=\"navbox-title\" colspan=\"2\" scope=\"col\"><div id=\"Countries\" style=\"font-size:114%;margin:0 4em\">Countries</div></th></tr><tr><td class=\"navbox-list navbox-odd\" colspan=\"2\" style=\"width:100%;padding:0\"><div style=\"padding:0 0.25em\"></div><table class=\"nowraplinks navbox-subgroup\" style=\"border-spacing:0\"><tbody><tr><th class=\"navbox-group\" scope=\"row\" style=\"width:1%\">By languages</th><td class=\"navbox-list-with-group navbox-list navbox-odd\" style=\"width:100%;padding:0\"><div style=\"padding:0 0.25em\"></div><table class=\"nowraplinks navbox-subgroup\" style=\"border-spacing:0\"><tbody><tr><th class=\"navbox-group\" scope=\"row\" style=\"width:1%;font-weight:normal;\"><a href=\"/wiki/Official_language\" title=\"Official language\">Official</a></th><td class=\"navbox-list-with-group navbox-list navbox-odd\" style=\"width:100%;padding:0\"><div style=\"padding:0 0.25em\">\n",
      "<ul><li><a href=\"/wiki/List_of_countries_by_the_number_of_recognized_official_languages\" title=\"List of countries by the number of recognized official languages\">Countries by the number of recognized official languages</a></li>\n",
      "<li><a class=\"mw-redirect\" href=\"/wiki/List_of_countries_where_Arabic_is_an_official_language\" title=\"List of countries where Arabic is an official language\">Arabic</a></li>\n",
      "<li><a href=\"/wiki/List_of_countries_and_territories_where_Chinese_is_an_official_language\" title=\"List of countries and territories where Chinese is an official language\">Chinese</a></li>\n",
      "<li><a href=\"/wiki/List_of_countries_and_territories_where_Afrikaans_or_Dutch_are_official_languages\" title=\"List of countries and territories where Afrikaans or Dutch are official languages\">Dutch/Afrikaans</a></li>\n",
      "<li><a href=\"/wiki/List_of_countries_and_territories_where_English_is_an_official_language\" title=\"List of countries and territories where English is an official language\">English</a></li>\n",
      "<li><a href=\"/wiki/List_of_countries_and_territories_where_French_is_an_official_language\" title=\"List of countries and territories where French is an official language\">French</a></li>\n",
      "<li><a href=\"/wiki/List_of_countries_and_territories_where_German_is_an_official_language\" title=\"List of countries and territories where German is an official language\">German</a></li>\n",
      "<li><a href=\"/wiki/List_of_countries_and_territories_where_Hindustani_is_an_official_language\" title=\"List of countries and territories where Hindustani is an official language\">Hindustani</a></li>\n",
      "<li><a href=\"/wiki/List_of_countries_and_territories_where_Italian_is_an_official_language\" title=\"List of countries and territories where Italian is an official language\">Italian</a></li>\n",
      "<li><a href=\"/wiki/List_of_countries_and_territories_where_Malay_is_an_official_language\" title=\"List of countries and territories where Malay is an official language\">Malay</a></li>\n",
      "<li><a href=\"/wiki/List_of_countries_and_territories_where_Persian_is_an_official_language\" title=\"List of countries and territories where Persian is an official language\">Persian</a></li>\n",
      "<li><a href=\"/wiki/List_of_countries_and_territories_where_Portuguese_is_an_official_language\" title=\"List of countries and territories where Portuguese is an official language\">Portuguese</a></li>\n",
      "<li><a href=\"/wiki/List_of_countries_and_territories_where_Romanian_is_an_official_language\" title=\"List of countries and territories where Romanian is an official language\">Romanian</a></li>\n",
      "<li><a href=\"/wiki/List_of_countries_and_territories_where_Russian_is_an_official_language\" title=\"List of countries and territories where Russian is an official language\">Russian</a></li>\n",
      "<li><a class=\"mw-redirect\" href=\"/wiki/List_of_countries_where_Spanish_is_an_official_language\" title=\"List of countries where Spanish is an official language\">Spanish</a></li>\n",
      "<li><a href=\"/wiki/List_of_countries_and_territories_where_Tamil_is_an_official_language\" title=\"List of countries and territories where Tamil is an official language\">Tamil</a></li></ul>\n",
      "</div></td></tr></tbody></table><div></div></td></tr><tr><th class=\"navbox-group\" scope=\"row\" style=\"width:1%\"><a href=\"/wiki/Endonym_and_exonym\" title=\"Endonym and exonym\">Endonyms</a></th><td class=\"navbox-list-with-group navbox-list navbox-even\" style=\"width:100%;padding:0\"><div style=\"padding:0 0.25em\">\n",
      "<ul><li><a href=\"/wiki/List_of_countries_and_dependencies_and_their_capitals_in_native_languages\" title=\"List of countries and dependencies and their capitals in native languages\">Countries and capitals in native languages</a></li></ul>\n",
      "</div></td></tr><tr><th class=\"navbox-group\" scope=\"row\" style=\"width:1%\"><a href=\"/wiki/Endonym_and_exonym\" title=\"Endonym and exonym\">Exonyms</a></th><td class=\"navbox-list-with-group navbox-list navbox-odd\" style=\"width:100%;padding:0\"><div style=\"padding:0 0.25em\">\n",
      "<ul><li><a href=\"/wiki/List_of_country_names_in_various_languages\" title=\"List of country names in various languages\">Country names in various languages</a>\n",
      "<ul><li><a href=\"/wiki/List_of_country_names_in_various_languages_(A%E2%80%93C)\" title=\"List of country names in various languages (A–C)\">A–C</a></li>\n",
      "<li><a href=\"/wiki/List_of_country_names_in_various_languages_(D%E2%80%93I)\" title=\"List of country names in various languages (D–I)\">D–I</a></li>\n",
      "<li><a href=\"/wiki/List_of_country_names_in_various_languages_(J%E2%80%93P)\" title=\"List of country names in various languages (J–P)\">J–P</a></li>\n",
      "<li><a href=\"/wiki/List_of_country_names_in_various_languages_(Q%E2%80%93Z)\" title=\"List of country names in various languages (Q–Z)\">Q–Z</a></li>\n",
      "<li><a href=\"/wiki/Names_of_Cambodia\" title=\"Names of Cambodia\">Cambodia</a></li>\n",
      "<li><a href=\"/wiki/Names_of_China\" title=\"Names of China\">China</a></li>\n",
      "<li><a href=\"/wiki/Names_of_Germany\" title=\"Names of Germany\">Germany</a></li>\n",
      "<li><a href=\"/wiki/Names_of_Iceland\" title=\"Names of Iceland\">Iceland</a></li>\n",
      "<li><a href=\"/wiki/Names_for_India\" title=\"Names for India\">India</a></li>\n",
      "<li><a href=\"/wiki/Names_of_Indonesia\" title=\"Names of Indonesia\">Indonesia</a></li>\n",
      "<li><a href=\"/wiki/Names_of_Japan\" title=\"Names of Japan\">Japan</a></li>\n",
      "<li><a href=\"/wiki/Names_of_Korea\" title=\"Names of Korea\">Korea</a></li>\n",
      "<li><a href=\"/wiki/Names_of_Kosovo\" title=\"Names of Kosovo\">Kosovo</a></li>\n",
      "<li><a href=\"/wiki/Names_of_Myanmar\" title=\"Names of Myanmar\">Myanmar</a></li>\n",
      "<li><a href=\"/wiki/Names_of_Singapore\" title=\"Names of Singapore\">Singapore</a></li>\n",
      "<li><a href=\"/wiki/Names_of_Sri_Lanka\" title=\"Names of Sri Lanka\">Sri Lanka</a></li>\n",
      "<li><a href=\"/wiki/Names_of_Vietnam\" title=\"Names of Vietnam\">Vietnam</a></li></ul></li>\n",
      "<li><a href=\"/wiki/Languages_of_the_European_Union\" title=\"Languages of the European Union\">Languages of the European Union</a></li></ul>\n",
      "</div></td></tr></tbody></table><div></div></td></tr></tbody></table><div></div></td></tr><tr><td class=\"navbox-list navbox-odd\" colspan=\"2\" style=\"width:100%;padding:0\"><div style=\"padding:0 0.25em\"></div><table class=\"nowraplinks mw-collapsible expanded navbox-subgroup\" style=\"border-spacing:0\"><tbody><tr><th class=\"navbox-title\" colspan=\"2\" scope=\"col\"><div id=\"Languages\" style=\"font-size:114%;margin:0 4em\">Languages</div></th></tr><tr><td class=\"navbox-list navbox-odd\" colspan=\"2\" style=\"width:100%;padding:0\"><div style=\"padding:0 0.25em\"></div><table class=\"nowraplinks navbox-subgroup\" style=\"border-spacing:0\"><tbody><tr><th class=\"navbox-group\" scope=\"row\" style=\"width:1%\">By continent</th><td class=\"navbox-list-with-group navbox-list navbox-odd\" style=\"width:100%;padding:0\"><div style=\"padding:0 0.25em\">\n",
      "<ul><li><a href=\"/wiki/Languages_of_Africa\" title=\"Languages of Africa\">Africa</a></li>\n",
      "<li><a href=\"/wiki/Indigenous_languages_of_the_Americas\" title=\"Indigenous languages of the Americas\">Americas</a>\n",
      "<ul><li><a href=\"/wiki/Languages_of_North_America\" title=\"Languages of North America\">North</a></li>\n",
      "<li><a href=\"/wiki/Languages_of_South_America\" title=\"Languages of South America\">South</a></li></ul></li>\n",
      "<li><a href=\"/wiki/Languages_of_Asia\" title=\"Languages of Asia\">Asia</a>\n",
      "<ul><li><a href=\"/wiki/Languages_of_East_Asia\" title=\"Languages of East Asia\">East</a></li>\n",
      "<li><a href=\"/wiki/Languages_of_South_Asia\" title=\"Languages of South Asia\">South</a></li></ul></li>\n",
      "<li><a href=\"/wiki/Languages_of_Europe\" title=\"Languages of Europe\">Europe</a></li>\n",
      "<li><a href=\"/wiki/Languages_of_Oceania\" title=\"Languages of Oceania\">Oceania</a></li></ul>\n",
      "</div></td></tr><tr><th class=\"navbox-group\" scope=\"row\" style=\"width:1%\">By country</th><td class=\"navbox-list-with-group navbox-list navbox-even\" style=\"width:100%;padding:0\"><div style=\"padding:0 0.25em\">\n",
      "<ul><li><a href=\"/wiki/List_of_official_languages\" title=\"List of official languages\">Official languages</a>\n",
      "<ul><li><a href=\"/wiki/List_of_official_languages_by_country_and_territory\" title=\"List of official languages by country and territory\">by country and territory</a></li></ul></li>\n",
      "<li><a class=\"new\" href=\"/w/index.php?title=List_of_languages_without_official_status&amp;action=edit&amp;redlink=1\" title=\"List of languages without official status (page does not exist)\">List of languages without official status</a></li>\n",
      "<li><a href=\"/wiki/List_of_countries_by_the_number_of_recognized_official_languages\" title=\"List of countries by the number of recognized official languages\">Countries by the number of recognized official languages</a></li>\n",
      "<li><a href=\"/wiki/List_of_languages_by_the_number_of_countries_in_which_they_are_recognized_as_an_official_language\" title=\"List of languages by the number of countries in which they are recognized as an official language\">Languages by the number of countries in which they are recognized as an official language</a></li>\n",
      "<li><a href=\"/wiki/Number_of_languages_by_country\" title=\"Number of languages by country\">Number of languages</a></li></ul>\n",
      "</div></td></tr><tr><th class=\"navbox-group\" scope=\"row\" style=\"width:1%\">By population</th><td class=\"navbox-list-with-group navbox-list navbox-odd\" style=\"width:100%;padding:0\"><div style=\"padding:0 0.25em\">\n",
      "<ul><li><a class=\"mw-selflink selflink\">By number of native speakers</a>\n",
      "<ul><li><a class=\"mw-redirect\" href=\"/wiki/List_of_European_languages_by_number_of_speakers\" title=\"List of European languages by number of speakers\">Europe</a></li></ul></li>\n",
      "<li><a href=\"/wiki/List_of_languages_by_total_number_of_speakers\" title=\"List of languages by total number of speakers\">By number of total speakers</a></li>\n",
      "<li><a href=\"/wiki/Languages_in_censuses\" title=\"Languages in censuses\">Languages in censuses</a></li></ul>\n",
      "</div></td></tr><tr><th class=\"navbox-group\" scope=\"row\" style=\"width:1%\">By <a href=\"/wiki/Language_family\" title=\"Language family\">family</a></th><td class=\"navbox-list-with-group navbox-list navbox-even\" style=\"width:100%;padding:0\"><div style=\"padding:0 0.25em\">\n",
      "<ul><li><a href=\"/wiki/List_of_language_families\" title=\"List of language families\">Language families</a>\n",
      "<ul><li><a class=\"mw-redirect\" href=\"/wiki/List_of_Afro-Asiatic_languages\" title=\"List of Afro-Asiatic languages\">List of Afro-Asiatic languages</a></li>\n",
      "<li><a class=\"mw-redirect\" href=\"/wiki/List_of_Austronesian_languages\" title=\"List of Austronesian languages\">List of Austronesian languages</a></li>\n",
      "<li><a href=\"/wiki/List_of_Indo-European_languages\" title=\"List of Indo-European languages\">List of Indo-European languages</a></li>\n",
      "<li><a href=\"/wiki/List_of_Mongolic_languages\" title=\"List of Mongolic languages\">List of Mongolic languages</a></li>\n",
      "<li><a class=\"mw-redirect\" href=\"/wiki/List_of_Tungusic_languages\" title=\"List of Tungusic languages\">List of Tungusic languages</a></li>\n",
      "<li><a href=\"/wiki/List_of_Turkic_languages\" title=\"List of Turkic languages\">List of Turkic languages</a></li>\n",
      "<li><a href=\"/wiki/List_of_Uralic_languages\" title=\"List of Uralic languages\">List of Uralic languages</a></li></ul></li></ul>\n",
      "</div></td></tr><tr><th class=\"navbox-group\" scope=\"row\" style=\"width:1%\"><div style=\"display: inline-block; line-height: 1.2em; padding: .1em 0;\">Language-based<br/><a href=\"/wiki/Geopolitics\" title=\"Geopolitics\">geopolitical</a><br/>organizations</div></th><td class=\"navbox-list-with-group navbox-list navbox-odd\" style=\"width:100%;padding:0\"><div style=\"padding:0 0.25em\">\n",
      "<ul><li><a href=\"/wiki/Arab_League\" title=\"Arab League\">Arab League <span style=\"font-size:85%;\">(Arabic)</span></a></li>\n",
      "<li><a href=\"/wiki/Dutch_Language_Union\" title=\"Dutch Language Union\">Dutch Language Union <span style=\"font-size:85%;\">(Dutch)</span></a></li>\n",
      "<li><a href=\"/wiki/Commonwealth_of_Nations\" title=\"Commonwealth of Nations\">Commonwealth of Nations <span style=\"font-size:85%;\">(English)</span></a></li>\n",
      "<li><a href=\"/wiki/Latin_Union\" title=\"Latin Union\">Latin Union</a> <span style=\"font-size:85%;\">(<a href=\"/wiki/Romance_languages\" title=\"Romance languages\">Romance</a>)</span></li>\n",
      "<li><a href=\"/wiki/Three_Linguistic_Spaces\" title=\"Three Linguistic Spaces\">Three Linguistic Spaces</a>\n",
      "<ul><li><a href=\"/wiki/Organisation_internationale_de_la_Francophonie\" title=\"Organisation internationale de la Francophonie\">Francophonie <span style=\"font-size:85%;\">(French)</span></a></li>\n",
      "<li><a href=\"/wiki/Community_of_Portuguese_Language_Countries\" title=\"Community of Portuguese Language Countries\">Community of Portuguese Language Countries</a>\n",
      "<ul><li><a href=\"/wiki/Portuguese-speaking_African_countries\" title=\"Portuguese-speaking African countries\"><i>Países Africanos de Língua Oficial Portuguesa</i> <span style=\"font-size:85%;\">(Portuguese)</span></a></li></ul></li>\n",
      "<li><a href=\"/wiki/Hispanidad\" title=\"Hispanidad\">Hispanidad <span style=\"font-size:85%;\">(Spanish)</span></a></li></ul></li>\n",
      "<li><a href=\"/wiki/Organization_of_Turkic_States\" title=\"Organization of Turkic States\">Organization of Turkic States</a> <span style=\"font-size:85%;\">(<a href=\"/wiki/Turkic_languages\" title=\"Turkic languages\">Turkic</a>)</span></li>\n",
      "<li><a href=\"/wiki/International_Organization_of_Turkic_Culture\" title=\"International Organization of Turkic Culture\">International Organization of Turkic Culture</a> <span style=\"font-size:85%;\">(<a href=\"/wiki/Turkic_languages\" title=\"Turkic languages\">Turkic</a>)</span></li></ul>\n",
      "</div></td></tr><tr><th class=\"navbox-group\" scope=\"row\" style=\"width:1%\">See also</th><td class=\"navbox-list-with-group navbox-list navbox-even\" style=\"width:100%;padding:0\"><div style=\"padding:0 0.25em\">\n",
      "<ul><li><a href=\"/wiki/Category:Lists_of_languages\" title=\"Category:Lists of languages\">Lists of languages</a></li>\n",
      "<li><a href=\"/wiki/Category:Languages\" title=\"Category:Languages\">Category:Languages</a></li></ul>\n",
      "</div></td></tr></tbody></table><div></div></td></tr></tbody></table><div></div></td></tr></tbody>, <tbody><tr><th class=\"navbox-title\" colspan=\"2\" scope=\"col\"><div id=\"Countries\" style=\"font-size:114%;margin:0 4em\">Countries</div></th></tr><tr><td class=\"navbox-list navbox-odd\" colspan=\"2\" style=\"width:100%;padding:0\"><div style=\"padding:0 0.25em\"></div><table class=\"nowraplinks navbox-subgroup\" style=\"border-spacing:0\"><tbody><tr><th class=\"navbox-group\" scope=\"row\" style=\"width:1%\">By languages</th><td class=\"navbox-list-with-group navbox-list navbox-odd\" style=\"width:100%;padding:0\"><div style=\"padding:0 0.25em\"></div><table class=\"nowraplinks navbox-subgroup\" style=\"border-spacing:0\"><tbody><tr><th class=\"navbox-group\" scope=\"row\" style=\"width:1%;font-weight:normal;\"><a href=\"/wiki/Official_language\" title=\"Official language\">Official</a></th><td class=\"navbox-list-with-group navbox-list navbox-odd\" style=\"width:100%;padding:0\"><div style=\"padding:0 0.25em\">\n",
      "<ul><li><a href=\"/wiki/List_of_countries_by_the_number_of_recognized_official_languages\" title=\"List of countries by the number of recognized official languages\">Countries by the number of recognized official languages</a></li>\n",
      "<li><a class=\"mw-redirect\" href=\"/wiki/List_of_countries_where_Arabic_is_an_official_language\" title=\"List of countries where Arabic is an official language\">Arabic</a></li>\n",
      "<li><a href=\"/wiki/List_of_countries_and_territories_where_Chinese_is_an_official_language\" title=\"List of countries and territories where Chinese is an official language\">Chinese</a></li>\n",
      "<li><a href=\"/wiki/List_of_countries_and_territories_where_Afrikaans_or_Dutch_are_official_languages\" title=\"List of countries and territories where Afrikaans or Dutch are official languages\">Dutch/Afrikaans</a></li>\n",
      "<li><a href=\"/wiki/List_of_countries_and_territories_where_English_is_an_official_language\" title=\"List of countries and territories where English is an official language\">English</a></li>\n",
      "<li><a href=\"/wiki/List_of_countries_and_territories_where_French_is_an_official_language\" title=\"List of countries and territories where French is an official language\">French</a></li>\n",
      "<li><a href=\"/wiki/List_of_countries_and_territories_where_German_is_an_official_language\" title=\"List of countries and territories where German is an official language\">German</a></li>\n",
      "<li><a href=\"/wiki/List_of_countries_and_territories_where_Hindustani_is_an_official_language\" title=\"List of countries and territories where Hindustani is an official language\">Hindustani</a></li>\n",
      "<li><a href=\"/wiki/List_of_countries_and_territories_where_Italian_is_an_official_language\" title=\"List of countries and territories where Italian is an official language\">Italian</a></li>\n",
      "<li><a href=\"/wiki/List_of_countries_and_territories_where_Malay_is_an_official_language\" title=\"List of countries and territories where Malay is an official language\">Malay</a></li>\n",
      "<li><a href=\"/wiki/List_of_countries_and_territories_where_Persian_is_an_official_language\" title=\"List of countries and territories where Persian is an official language\">Persian</a></li>\n",
      "<li><a href=\"/wiki/List_of_countries_and_territories_where_Portuguese_is_an_official_language\" title=\"List of countries and territories where Portuguese is an official language\">Portuguese</a></li>\n",
      "<li><a href=\"/wiki/List_of_countries_and_territories_where_Romanian_is_an_official_language\" title=\"List of countries and territories where Romanian is an official language\">Romanian</a></li>\n",
      "<li><a href=\"/wiki/List_of_countries_and_territories_where_Russian_is_an_official_language\" title=\"List of countries and territories where Russian is an official language\">Russian</a></li>\n",
      "<li><a class=\"mw-redirect\" href=\"/wiki/List_of_countries_where_Spanish_is_an_official_language\" title=\"List of countries where Spanish is an official language\">Spanish</a></li>\n",
      "<li><a href=\"/wiki/List_of_countries_and_territories_where_Tamil_is_an_official_language\" title=\"List of countries and territories where Tamil is an official language\">Tamil</a></li></ul>\n",
      "</div></td></tr></tbody></table><div></div></td></tr><tr><th class=\"navbox-group\" scope=\"row\" style=\"width:1%\"><a href=\"/wiki/Endonym_and_exonym\" title=\"Endonym and exonym\">Endonyms</a></th><td class=\"navbox-list-with-group navbox-list navbox-even\" style=\"width:100%;padding:0\"><div style=\"padding:0 0.25em\">\n",
      "<ul><li><a href=\"/wiki/List_of_countries_and_dependencies_and_their_capitals_in_native_languages\" title=\"List of countries and dependencies and their capitals in native languages\">Countries and capitals in native languages</a></li></ul>\n",
      "</div></td></tr><tr><th class=\"navbox-group\" scope=\"row\" style=\"width:1%\"><a href=\"/wiki/Endonym_and_exonym\" title=\"Endonym and exonym\">Exonyms</a></th><td class=\"navbox-list-with-group navbox-list navbox-odd\" style=\"width:100%;padding:0\"><div style=\"padding:0 0.25em\">\n",
      "<ul><li><a href=\"/wiki/List_of_country_names_in_various_languages\" title=\"List of country names in various languages\">Country names in various languages</a>\n",
      "<ul><li><a href=\"/wiki/List_of_country_names_in_various_languages_(A%E2%80%93C)\" title=\"List of country names in various languages (A–C)\">A–C</a></li>\n",
      "<li><a href=\"/wiki/List_of_country_names_in_various_languages_(D%E2%80%93I)\" title=\"List of country names in various languages (D–I)\">D–I</a></li>\n",
      "<li><a href=\"/wiki/List_of_country_names_in_various_languages_(J%E2%80%93P)\" title=\"List of country names in various languages (J–P)\">J–P</a></li>\n",
      "<li><a href=\"/wiki/List_of_country_names_in_various_languages_(Q%E2%80%93Z)\" title=\"List of country names in various languages (Q–Z)\">Q–Z</a></li>\n",
      "<li><a href=\"/wiki/Names_of_Cambodia\" title=\"Names of Cambodia\">Cambodia</a></li>\n",
      "<li><a href=\"/wiki/Names_of_China\" title=\"Names of China\">China</a></li>\n",
      "<li><a href=\"/wiki/Names_of_Germany\" title=\"Names of Germany\">Germany</a></li>\n",
      "<li><a href=\"/wiki/Names_of_Iceland\" title=\"Names of Iceland\">Iceland</a></li>\n",
      "<li><a href=\"/wiki/Names_for_India\" title=\"Names for India\">India</a></li>\n",
      "<li><a href=\"/wiki/Names_of_Indonesia\" title=\"Names of Indonesia\">Indonesia</a></li>\n",
      "<li><a href=\"/wiki/Names_of_Japan\" title=\"Names of Japan\">Japan</a></li>\n",
      "<li><a href=\"/wiki/Names_of_Korea\" title=\"Names of Korea\">Korea</a></li>\n",
      "<li><a href=\"/wiki/Names_of_Kosovo\" title=\"Names of Kosovo\">Kosovo</a></li>\n",
      "<li><a href=\"/wiki/Names_of_Myanmar\" title=\"Names of Myanmar\">Myanmar</a></li>\n",
      "<li><a href=\"/wiki/Names_of_Singapore\" title=\"Names of Singapore\">Singapore</a></li>\n",
      "<li><a href=\"/wiki/Names_of_Sri_Lanka\" title=\"Names of Sri Lanka\">Sri Lanka</a></li>\n",
      "<li><a href=\"/wiki/Names_of_Vietnam\" title=\"Names of Vietnam\">Vietnam</a></li></ul></li>\n",
      "<li><a href=\"/wiki/Languages_of_the_European_Union\" title=\"Languages of the European Union\">Languages of the European Union</a></li></ul>\n",
      "</div></td></tr></tbody></table><div></div></td></tr></tbody>, <tbody><tr><th class=\"navbox-group\" scope=\"row\" style=\"width:1%\">By languages</th><td class=\"navbox-list-with-group navbox-list navbox-odd\" style=\"width:100%;padding:0\"><div style=\"padding:0 0.25em\"></div><table class=\"nowraplinks navbox-subgroup\" style=\"border-spacing:0\"><tbody><tr><th class=\"navbox-group\" scope=\"row\" style=\"width:1%;font-weight:normal;\"><a href=\"/wiki/Official_language\" title=\"Official language\">Official</a></th><td class=\"navbox-list-with-group navbox-list navbox-odd\" style=\"width:100%;padding:0\"><div style=\"padding:0 0.25em\">\n",
      "<ul><li><a href=\"/wiki/List_of_countries_by_the_number_of_recognized_official_languages\" title=\"List of countries by the number of recognized official languages\">Countries by the number of recognized official languages</a></li>\n",
      "<li><a class=\"mw-redirect\" href=\"/wiki/List_of_countries_where_Arabic_is_an_official_language\" title=\"List of countries where Arabic is an official language\">Arabic</a></li>\n",
      "<li><a href=\"/wiki/List_of_countries_and_territories_where_Chinese_is_an_official_language\" title=\"List of countries and territories where Chinese is an official language\">Chinese</a></li>\n",
      "<li><a href=\"/wiki/List_of_countries_and_territories_where_Afrikaans_or_Dutch_are_official_languages\" title=\"List of countries and territories where Afrikaans or Dutch are official languages\">Dutch/Afrikaans</a></li>\n",
      "<li><a href=\"/wiki/List_of_countries_and_territories_where_English_is_an_official_language\" title=\"List of countries and territories where English is an official language\">English</a></li>\n",
      "<li><a href=\"/wiki/List_of_countries_and_territories_where_French_is_an_official_language\" title=\"List of countries and territories where French is an official language\">French</a></li>\n",
      "<li><a href=\"/wiki/List_of_countries_and_territories_where_German_is_an_official_language\" title=\"List of countries and territories where German is an official language\">German</a></li>\n",
      "<li><a href=\"/wiki/List_of_countries_and_territories_where_Hindustani_is_an_official_language\" title=\"List of countries and territories where Hindustani is an official language\">Hindustani</a></li>\n",
      "<li><a href=\"/wiki/List_of_countries_and_territories_where_Italian_is_an_official_language\" title=\"List of countries and territories where Italian is an official language\">Italian</a></li>\n",
      "<li><a href=\"/wiki/List_of_countries_and_territories_where_Malay_is_an_official_language\" title=\"List of countries and territories where Malay is an official language\">Malay</a></li>\n",
      "<li><a href=\"/wiki/List_of_countries_and_territories_where_Persian_is_an_official_language\" title=\"List of countries and territories where Persian is an official language\">Persian</a></li>\n",
      "<li><a href=\"/wiki/List_of_countries_and_territories_where_Portuguese_is_an_official_language\" title=\"List of countries and territories where Portuguese is an official language\">Portuguese</a></li>\n",
      "<li><a href=\"/wiki/List_of_countries_and_territories_where_Romanian_is_an_official_language\" title=\"List of countries and territories where Romanian is an official language\">Romanian</a></li>\n",
      "<li><a href=\"/wiki/List_of_countries_and_territories_where_Russian_is_an_official_language\" title=\"List of countries and territories where Russian is an official language\">Russian</a></li>\n",
      "<li><a class=\"mw-redirect\" href=\"/wiki/List_of_countries_where_Spanish_is_an_official_language\" title=\"List of countries where Spanish is an official language\">Spanish</a></li>\n",
      "<li><a href=\"/wiki/List_of_countries_and_territories_where_Tamil_is_an_official_language\" title=\"List of countries and territories where Tamil is an official language\">Tamil</a></li></ul>\n",
      "</div></td></tr></tbody></table><div></div></td></tr><tr><th class=\"navbox-group\" scope=\"row\" style=\"width:1%\"><a href=\"/wiki/Endonym_and_exonym\" title=\"Endonym and exonym\">Endonyms</a></th><td class=\"navbox-list-with-group navbox-list navbox-even\" style=\"width:100%;padding:0\"><div style=\"padding:0 0.25em\">\n",
      "<ul><li><a href=\"/wiki/List_of_countries_and_dependencies_and_their_capitals_in_native_languages\" title=\"List of countries and dependencies and their capitals in native languages\">Countries and capitals in native languages</a></li></ul>\n",
      "</div></td></tr><tr><th class=\"navbox-group\" scope=\"row\" style=\"width:1%\"><a href=\"/wiki/Endonym_and_exonym\" title=\"Endonym and exonym\">Exonyms</a></th><td class=\"navbox-list-with-group navbox-list navbox-odd\" style=\"width:100%;padding:0\"><div style=\"padding:0 0.25em\">\n",
      "<ul><li><a href=\"/wiki/List_of_country_names_in_various_languages\" title=\"List of country names in various languages\">Country names in various languages</a>\n",
      "<ul><li><a href=\"/wiki/List_of_country_names_in_various_languages_(A%E2%80%93C)\" title=\"List of country names in various languages (A–C)\">A–C</a></li>\n",
      "<li><a href=\"/wiki/List_of_country_names_in_various_languages_(D%E2%80%93I)\" title=\"List of country names in various languages (D–I)\">D–I</a></li>\n",
      "<li><a href=\"/wiki/List_of_country_names_in_various_languages_(J%E2%80%93P)\" title=\"List of country names in various languages (J–P)\">J–P</a></li>\n",
      "<li><a href=\"/wiki/List_of_country_names_in_various_languages_(Q%E2%80%93Z)\" title=\"List of country names in various languages (Q–Z)\">Q–Z</a></li>\n",
      "<li><a href=\"/wiki/Names_of_Cambodia\" title=\"Names of Cambodia\">Cambodia</a></li>\n",
      "<li><a href=\"/wiki/Names_of_China\" title=\"Names of China\">China</a></li>\n",
      "<li><a href=\"/wiki/Names_of_Germany\" title=\"Names of Germany\">Germany</a></li>\n",
      "<li><a href=\"/wiki/Names_of_Iceland\" title=\"Names of Iceland\">Iceland</a></li>\n",
      "<li><a href=\"/wiki/Names_for_India\" title=\"Names for India\">India</a></li>\n",
      "<li><a href=\"/wiki/Names_of_Indonesia\" title=\"Names of Indonesia\">Indonesia</a></li>\n",
      "<li><a href=\"/wiki/Names_of_Japan\" title=\"Names of Japan\">Japan</a></li>\n",
      "<li><a href=\"/wiki/Names_of_Korea\" title=\"Names of Korea\">Korea</a></li>\n",
      "<li><a href=\"/wiki/Names_of_Kosovo\" title=\"Names of Kosovo\">Kosovo</a></li>\n",
      "<li><a href=\"/wiki/Names_of_Myanmar\" title=\"Names of Myanmar\">Myanmar</a></li>\n",
      "<li><a href=\"/wiki/Names_of_Singapore\" title=\"Names of Singapore\">Singapore</a></li>\n",
      "<li><a href=\"/wiki/Names_of_Sri_Lanka\" title=\"Names of Sri Lanka\">Sri Lanka</a></li>\n",
      "<li><a href=\"/wiki/Names_of_Vietnam\" title=\"Names of Vietnam\">Vietnam</a></li></ul></li>\n",
      "<li><a href=\"/wiki/Languages_of_the_European_Union\" title=\"Languages of the European Union\">Languages of the European Union</a></li></ul>\n",
      "</div></td></tr></tbody>, <tbody><tr><th class=\"navbox-group\" scope=\"row\" style=\"width:1%;font-weight:normal;\"><a href=\"/wiki/Official_language\" title=\"Official language\">Official</a></th><td class=\"navbox-list-with-group navbox-list navbox-odd\" style=\"width:100%;padding:0\"><div style=\"padding:0 0.25em\">\n",
      "<ul><li><a href=\"/wiki/List_of_countries_by_the_number_of_recognized_official_languages\" title=\"List of countries by the number of recognized official languages\">Countries by the number of recognized official languages</a></li>\n",
      "<li><a class=\"mw-redirect\" href=\"/wiki/List_of_countries_where_Arabic_is_an_official_language\" title=\"List of countries where Arabic is an official language\">Arabic</a></li>\n",
      "<li><a href=\"/wiki/List_of_countries_and_territories_where_Chinese_is_an_official_language\" title=\"List of countries and territories where Chinese is an official language\">Chinese</a></li>\n",
      "<li><a href=\"/wiki/List_of_countries_and_territories_where_Afrikaans_or_Dutch_are_official_languages\" title=\"List of countries and territories where Afrikaans or Dutch are official languages\">Dutch/Afrikaans</a></li>\n",
      "<li><a href=\"/wiki/List_of_countries_and_territories_where_English_is_an_official_language\" title=\"List of countries and territories where English is an official language\">English</a></li>\n",
      "<li><a href=\"/wiki/List_of_countries_and_territories_where_French_is_an_official_language\" title=\"List of countries and territories where French is an official language\">French</a></li>\n",
      "<li><a href=\"/wiki/List_of_countries_and_territories_where_German_is_an_official_language\" title=\"List of countries and territories where German is an official language\">German</a></li>\n",
      "<li><a href=\"/wiki/List_of_countries_and_territories_where_Hindustani_is_an_official_language\" title=\"List of countries and territories where Hindustani is an official language\">Hindustani</a></li>\n",
      "<li><a href=\"/wiki/List_of_countries_and_territories_where_Italian_is_an_official_language\" title=\"List of countries and territories where Italian is an official language\">Italian</a></li>\n",
      "<li><a href=\"/wiki/List_of_countries_and_territories_where_Malay_is_an_official_language\" title=\"List of countries and territories where Malay is an official language\">Malay</a></li>\n",
      "<li><a href=\"/wiki/List_of_countries_and_territories_where_Persian_is_an_official_language\" title=\"List of countries and territories where Persian is an official language\">Persian</a></li>\n",
      "<li><a href=\"/wiki/List_of_countries_and_territories_where_Portuguese_is_an_official_language\" title=\"List of countries and territories where Portuguese is an official language\">Portuguese</a></li>\n",
      "<li><a href=\"/wiki/List_of_countries_and_territories_where_Romanian_is_an_official_language\" title=\"List of countries and territories where Romanian is an official language\">Romanian</a></li>\n",
      "<li><a href=\"/wiki/List_of_countries_and_territories_where_Russian_is_an_official_language\" title=\"List of countries and territories where Russian is an official language\">Russian</a></li>\n",
      "<li><a class=\"mw-redirect\" href=\"/wiki/List_of_countries_where_Spanish_is_an_official_language\" title=\"List of countries where Spanish is an official language\">Spanish</a></li>\n",
      "<li><a href=\"/wiki/List_of_countries_and_territories_where_Tamil_is_an_official_language\" title=\"List of countries and territories where Tamil is an official language\">Tamil</a></li></ul>\n",
      "</div></td></tr></tbody>, <tbody><tr><th class=\"navbox-title\" colspan=\"2\" scope=\"col\"><div id=\"Languages\" style=\"font-size:114%;margin:0 4em\">Languages</div></th></tr><tr><td class=\"navbox-list navbox-odd\" colspan=\"2\" style=\"width:100%;padding:0\"><div style=\"padding:0 0.25em\"></div><table class=\"nowraplinks navbox-subgroup\" style=\"border-spacing:0\"><tbody><tr><th class=\"navbox-group\" scope=\"row\" style=\"width:1%\">By continent</th><td class=\"navbox-list-with-group navbox-list navbox-odd\" style=\"width:100%;padding:0\"><div style=\"padding:0 0.25em\">\n",
      "<ul><li><a href=\"/wiki/Languages_of_Africa\" title=\"Languages of Africa\">Africa</a></li>\n",
      "<li><a href=\"/wiki/Indigenous_languages_of_the_Americas\" title=\"Indigenous languages of the Americas\">Americas</a>\n",
      "<ul><li><a href=\"/wiki/Languages_of_North_America\" title=\"Languages of North America\">North</a></li>\n",
      "<li><a href=\"/wiki/Languages_of_South_America\" title=\"Languages of South America\">South</a></li></ul></li>\n",
      "<li><a href=\"/wiki/Languages_of_Asia\" title=\"Languages of Asia\">Asia</a>\n",
      "<ul><li><a href=\"/wiki/Languages_of_East_Asia\" title=\"Languages of East Asia\">East</a></li>\n",
      "<li><a href=\"/wiki/Languages_of_South_Asia\" title=\"Languages of South Asia\">South</a></li></ul></li>\n",
      "<li><a href=\"/wiki/Languages_of_Europe\" title=\"Languages of Europe\">Europe</a></li>\n",
      "<li><a href=\"/wiki/Languages_of_Oceania\" title=\"Languages of Oceania\">Oceania</a></li></ul>\n",
      "</div></td></tr><tr><th class=\"navbox-group\" scope=\"row\" style=\"width:1%\">By country</th><td class=\"navbox-list-with-group navbox-list navbox-even\" style=\"width:100%;padding:0\"><div style=\"padding:0 0.25em\">\n",
      "<ul><li><a href=\"/wiki/List_of_official_languages\" title=\"List of official languages\">Official languages</a>\n",
      "<ul><li><a href=\"/wiki/List_of_official_languages_by_country_and_territory\" title=\"List of official languages by country and territory\">by country and territory</a></li></ul></li>\n",
      "<li><a class=\"new\" href=\"/w/index.php?title=List_of_languages_without_official_status&amp;action=edit&amp;redlink=1\" title=\"List of languages without official status (page does not exist)\">List of languages without official status</a></li>\n",
      "<li><a href=\"/wiki/List_of_countries_by_the_number_of_recognized_official_languages\" title=\"List of countries by the number of recognized official languages\">Countries by the number of recognized official languages</a></li>\n",
      "<li><a href=\"/wiki/List_of_languages_by_the_number_of_countries_in_which_they_are_recognized_as_an_official_language\" title=\"List of languages by the number of countries in which they are recognized as an official language\">Languages by the number of countries in which they are recognized as an official language</a></li>\n",
      "<li><a href=\"/wiki/Number_of_languages_by_country\" title=\"Number of languages by country\">Number of languages</a></li></ul>\n",
      "</div></td></tr><tr><th class=\"navbox-group\" scope=\"row\" style=\"width:1%\">By population</th><td class=\"navbox-list-with-group navbox-list navbox-odd\" style=\"width:100%;padding:0\"><div style=\"padding:0 0.25em\">\n",
      "<ul><li><a class=\"mw-selflink selflink\">By number of native speakers</a>\n",
      "<ul><li><a class=\"mw-redirect\" href=\"/wiki/List_of_European_languages_by_number_of_speakers\" title=\"List of European languages by number of speakers\">Europe</a></li></ul></li>\n",
      "<li><a href=\"/wiki/List_of_languages_by_total_number_of_speakers\" title=\"List of languages by total number of speakers\">By number of total speakers</a></li>\n",
      "<li><a href=\"/wiki/Languages_in_censuses\" title=\"Languages in censuses\">Languages in censuses</a></li></ul>\n",
      "</div></td></tr><tr><th class=\"navbox-group\" scope=\"row\" style=\"width:1%\">By <a href=\"/wiki/Language_family\" title=\"Language family\">family</a></th><td class=\"navbox-list-with-group navbox-list navbox-even\" style=\"width:100%;padding:0\"><div style=\"padding:0 0.25em\">\n",
      "<ul><li><a href=\"/wiki/List_of_language_families\" title=\"List of language families\">Language families</a>\n",
      "<ul><li><a class=\"mw-redirect\" href=\"/wiki/List_of_Afro-Asiatic_languages\" title=\"List of Afro-Asiatic languages\">List of Afro-Asiatic languages</a></li>\n",
      "<li><a class=\"mw-redirect\" href=\"/wiki/List_of_Austronesian_languages\" title=\"List of Austronesian languages\">List of Austronesian languages</a></li>\n",
      "<li><a href=\"/wiki/List_of_Indo-European_languages\" title=\"List of Indo-European languages\">List of Indo-European languages</a></li>\n",
      "<li><a href=\"/wiki/List_of_Mongolic_languages\" title=\"List of Mongolic languages\">List of Mongolic languages</a></li>\n",
      "<li><a class=\"mw-redirect\" href=\"/wiki/List_of_Tungusic_languages\" title=\"List of Tungusic languages\">List of Tungusic languages</a></li>\n",
      "<li><a href=\"/wiki/List_of_Turkic_languages\" title=\"List of Turkic languages\">List of Turkic languages</a></li>\n",
      "<li><a href=\"/wiki/List_of_Uralic_languages\" title=\"List of Uralic languages\">List of Uralic languages</a></li></ul></li></ul>\n",
      "</div></td></tr><tr><th class=\"navbox-group\" scope=\"row\" style=\"width:1%\"><div style=\"display: inline-block; line-height: 1.2em; padding: .1em 0;\">Language-based<br/><a href=\"/wiki/Geopolitics\" title=\"Geopolitics\">geopolitical</a><br/>organizations</div></th><td class=\"navbox-list-with-group navbox-list navbox-odd\" style=\"width:100%;padding:0\"><div style=\"padding:0 0.25em\">\n",
      "<ul><li><a href=\"/wiki/Arab_League\" title=\"Arab League\">Arab League <span style=\"font-size:85%;\">(Arabic)</span></a></li>\n",
      "<li><a href=\"/wiki/Dutch_Language_Union\" title=\"Dutch Language Union\">Dutch Language Union <span style=\"font-size:85%;\">(Dutch)</span></a></li>\n",
      "<li><a href=\"/wiki/Commonwealth_of_Nations\" title=\"Commonwealth of Nations\">Commonwealth of Nations <span style=\"font-size:85%;\">(English)</span></a></li>\n",
      "<li><a href=\"/wiki/Latin_Union\" title=\"Latin Union\">Latin Union</a> <span style=\"font-size:85%;\">(<a href=\"/wiki/Romance_languages\" title=\"Romance languages\">Romance</a>)</span></li>\n",
      "<li><a href=\"/wiki/Three_Linguistic_Spaces\" title=\"Three Linguistic Spaces\">Three Linguistic Spaces</a>\n",
      "<ul><li><a href=\"/wiki/Organisation_internationale_de_la_Francophonie\" title=\"Organisation internationale de la Francophonie\">Francophonie <span style=\"font-size:85%;\">(French)</span></a></li>\n",
      "<li><a href=\"/wiki/Community_of_Portuguese_Language_Countries\" title=\"Community of Portuguese Language Countries\">Community of Portuguese Language Countries</a>\n",
      "<ul><li><a href=\"/wiki/Portuguese-speaking_African_countries\" title=\"Portuguese-speaking African countries\"><i>Países Africanos de Língua Oficial Portuguesa</i> <span style=\"font-size:85%;\">(Portuguese)</span></a></li></ul></li>\n",
      "<li><a href=\"/wiki/Hispanidad\" title=\"Hispanidad\">Hispanidad <span style=\"font-size:85%;\">(Spanish)</span></a></li></ul></li>\n",
      "<li><a href=\"/wiki/Organization_of_Turkic_States\" title=\"Organization of Turkic States\">Organization of Turkic States</a> <span style=\"font-size:85%;\">(<a href=\"/wiki/Turkic_languages\" title=\"Turkic languages\">Turkic</a>)</span></li>\n",
      "<li><a href=\"/wiki/International_Organization_of_Turkic_Culture\" title=\"International Organization of Turkic Culture\">International Organization of Turkic Culture</a> <span style=\"font-size:85%;\">(<a href=\"/wiki/Turkic_languages\" title=\"Turkic languages\">Turkic</a>)</span></li></ul>\n",
      "</div></td></tr><tr><th class=\"navbox-group\" scope=\"row\" style=\"width:1%\">See also</th><td class=\"navbox-list-with-group navbox-list navbox-even\" style=\"width:100%;padding:0\"><div style=\"padding:0 0.25em\">\n",
      "<ul><li><a href=\"/wiki/Category:Lists_of_languages\" title=\"Category:Lists of languages\">Lists of languages</a></li>\n",
      "<li><a href=\"/wiki/Category:Languages\" title=\"Category:Languages\">Category:Languages</a></li></ul>\n",
      "</div></td></tr></tbody></table><div></div></td></tr></tbody>, <tbody><tr><th class=\"navbox-group\" scope=\"row\" style=\"width:1%\">By continent</th><td class=\"navbox-list-with-group navbox-list navbox-odd\" style=\"width:100%;padding:0\"><div style=\"padding:0 0.25em\">\n",
      "<ul><li><a href=\"/wiki/Languages_of_Africa\" title=\"Languages of Africa\">Africa</a></li>\n",
      "<li><a href=\"/wiki/Indigenous_languages_of_the_Americas\" title=\"Indigenous languages of the Americas\">Americas</a>\n",
      "<ul><li><a href=\"/wiki/Languages_of_North_America\" title=\"Languages of North America\">North</a></li>\n",
      "<li><a href=\"/wiki/Languages_of_South_America\" title=\"Languages of South America\">South</a></li></ul></li>\n",
      "<li><a href=\"/wiki/Languages_of_Asia\" title=\"Languages of Asia\">Asia</a>\n",
      "<ul><li><a href=\"/wiki/Languages_of_East_Asia\" title=\"Languages of East Asia\">East</a></li>\n",
      "<li><a href=\"/wiki/Languages_of_South_Asia\" title=\"Languages of South Asia\">South</a></li></ul></li>\n",
      "<li><a href=\"/wiki/Languages_of_Europe\" title=\"Languages of Europe\">Europe</a></li>\n",
      "<li><a href=\"/wiki/Languages_of_Oceania\" title=\"Languages of Oceania\">Oceania</a></li></ul>\n",
      "</div></td></tr><tr><th class=\"navbox-group\" scope=\"row\" style=\"width:1%\">By country</th><td class=\"navbox-list-with-group navbox-list navbox-even\" style=\"width:100%;padding:0\"><div style=\"padding:0 0.25em\">\n",
      "<ul><li><a href=\"/wiki/List_of_official_languages\" title=\"List of official languages\">Official languages</a>\n",
      "<ul><li><a href=\"/wiki/List_of_official_languages_by_country_and_territory\" title=\"List of official languages by country and territory\">by country and territory</a></li></ul></li>\n",
      "<li><a class=\"new\" href=\"/w/index.php?title=List_of_languages_without_official_status&amp;action=edit&amp;redlink=1\" title=\"List of languages without official status (page does not exist)\">List of languages without official status</a></li>\n",
      "<li><a href=\"/wiki/List_of_countries_by_the_number_of_recognized_official_languages\" title=\"List of countries by the number of recognized official languages\">Countries by the number of recognized official languages</a></li>\n",
      "<li><a href=\"/wiki/List_of_languages_by_the_number_of_countries_in_which_they_are_recognized_as_an_official_language\" title=\"List of languages by the number of countries in which they are recognized as an official language\">Languages by the number of countries in which they are recognized as an official language</a></li>\n",
      "<li><a href=\"/wiki/Number_of_languages_by_country\" title=\"Number of languages by country\">Number of languages</a></li></ul>\n",
      "</div></td></tr><tr><th class=\"navbox-group\" scope=\"row\" style=\"width:1%\">By population</th><td class=\"navbox-list-with-group navbox-list navbox-odd\" style=\"width:100%;padding:0\"><div style=\"padding:0 0.25em\">\n",
      "<ul><li><a class=\"mw-selflink selflink\">By number of native speakers</a>\n",
      "<ul><li><a class=\"mw-redirect\" href=\"/wiki/List_of_European_languages_by_number_of_speakers\" title=\"List of European languages by number of speakers\">Europe</a></li></ul></li>\n",
      "<li><a href=\"/wiki/List_of_languages_by_total_number_of_speakers\" title=\"List of languages by total number of speakers\">By number of total speakers</a></li>\n",
      "<li><a href=\"/wiki/Languages_in_censuses\" title=\"Languages in censuses\">Languages in censuses</a></li></ul>\n",
      "</div></td></tr><tr><th class=\"navbox-group\" scope=\"row\" style=\"width:1%\">By <a href=\"/wiki/Language_family\" title=\"Language family\">family</a></th><td class=\"navbox-list-with-group navbox-list navbox-even\" style=\"width:100%;padding:0\"><div style=\"padding:0 0.25em\">\n",
      "<ul><li><a href=\"/wiki/List_of_language_families\" title=\"List of language families\">Language families</a>\n",
      "<ul><li><a class=\"mw-redirect\" href=\"/wiki/List_of_Afro-Asiatic_languages\" title=\"List of Afro-Asiatic languages\">List of Afro-Asiatic languages</a></li>\n",
      "<li><a class=\"mw-redirect\" href=\"/wiki/List_of_Austronesian_languages\" title=\"List of Austronesian languages\">List of Austronesian languages</a></li>\n",
      "<li><a href=\"/wiki/List_of_Indo-European_languages\" title=\"List of Indo-European languages\">List of Indo-European languages</a></li>\n",
      "<li><a href=\"/wiki/List_of_Mongolic_languages\" title=\"List of Mongolic languages\">List of Mongolic languages</a></li>\n",
      "<li><a class=\"mw-redirect\" href=\"/wiki/List_of_Tungusic_languages\" title=\"List of Tungusic languages\">List of Tungusic languages</a></li>\n",
      "<li><a href=\"/wiki/List_of_Turkic_languages\" title=\"List of Turkic languages\">List of Turkic languages</a></li>\n",
      "<li><a href=\"/wiki/List_of_Uralic_languages\" title=\"List of Uralic languages\">List of Uralic languages</a></li></ul></li></ul>\n",
      "</div></td></tr><tr><th class=\"navbox-group\" scope=\"row\" style=\"width:1%\"><div style=\"display: inline-block; line-height: 1.2em; padding: .1em 0;\">Language-based<br/><a href=\"/wiki/Geopolitics\" title=\"Geopolitics\">geopolitical</a><br/>organizations</div></th><td class=\"navbox-list-with-group navbox-list navbox-odd\" style=\"width:100%;padding:0\"><div style=\"padding:0 0.25em\">\n",
      "<ul><li><a href=\"/wiki/Arab_League\" title=\"Arab League\">Arab League <span style=\"font-size:85%;\">(Arabic)</span></a></li>\n",
      "<li><a href=\"/wiki/Dutch_Language_Union\" title=\"Dutch Language Union\">Dutch Language Union <span style=\"font-size:85%;\">(Dutch)</span></a></li>\n",
      "<li><a href=\"/wiki/Commonwealth_of_Nations\" title=\"Commonwealth of Nations\">Commonwealth of Nations <span style=\"font-size:85%;\">(English)</span></a></li>\n",
      "<li><a href=\"/wiki/Latin_Union\" title=\"Latin Union\">Latin Union</a> <span style=\"font-size:85%;\">(<a href=\"/wiki/Romance_languages\" title=\"Romance languages\">Romance</a>)</span></li>\n",
      "<li><a href=\"/wiki/Three_Linguistic_Spaces\" title=\"Three Linguistic Spaces\">Three Linguistic Spaces</a>\n",
      "<ul><li><a href=\"/wiki/Organisation_internationale_de_la_Francophonie\" title=\"Organisation internationale de la Francophonie\">Francophonie <span style=\"font-size:85%;\">(French)</span></a></li>\n",
      "<li><a href=\"/wiki/Community_of_Portuguese_Language_Countries\" title=\"Community of Portuguese Language Countries\">Community of Portuguese Language Countries</a>\n",
      "<ul><li><a href=\"/wiki/Portuguese-speaking_African_countries\" title=\"Portuguese-speaking African countries\"><i>Países Africanos de Língua Oficial Portuguesa</i> <span style=\"font-size:85%;\">(Portuguese)</span></a></li></ul></li>\n",
      "<li><a href=\"/wiki/Hispanidad\" title=\"Hispanidad\">Hispanidad <span style=\"font-size:85%;\">(Spanish)</span></a></li></ul></li>\n",
      "<li><a href=\"/wiki/Organization_of_Turkic_States\" title=\"Organization of Turkic States\">Organization of Turkic States</a> <span style=\"font-size:85%;\">(<a href=\"/wiki/Turkic_languages\" title=\"Turkic languages\">Turkic</a>)</span></li>\n",
      "<li><a href=\"/wiki/International_Organization_of_Turkic_Culture\" title=\"International Organization of Turkic Culture\">International Organization of Turkic Culture</a> <span style=\"font-size:85%;\">(<a href=\"/wiki/Turkic_languages\" title=\"Turkic languages\">Turkic</a>)</span></li></ul>\n",
      "</div></td></tr><tr><th class=\"navbox-group\" scope=\"row\" style=\"width:1%\">See also</th><td class=\"navbox-list-with-group navbox-list navbox-even\" style=\"width:100%;padding:0\"><div style=\"padding:0 0.25em\">\n",
      "<ul><li><a href=\"/wiki/Category:Lists_of_languages\" title=\"Category:Lists of languages\">Lists of languages</a></li>\n",
      "<li><a href=\"/wiki/Category:Languages\" title=\"Category:Languages\">Category:Languages</a></li></ul>\n",
      "</div></td></tr></tbody>]\n",
      "[<tbody><tr><th class=\"navbox-title\" colspan=\"2\" scope=\"col\"><div id=\"Countries\" style=\"font-size:114%;margin:0 4em\">Countries</div></th></tr><tr><td class=\"navbox-list navbox-odd\" colspan=\"2\" style=\"width:100%;padding:0\"><div style=\"padding:0 0.25em\"></div><table class=\"nowraplinks navbox-subgroup\" style=\"border-spacing:0\"><tbody><tr><th class=\"navbox-group\" scope=\"row\" style=\"width:1%\">By languages</th><td class=\"navbox-list-with-group navbox-list navbox-odd\" style=\"width:100%;padding:0\"><div style=\"padding:0 0.25em\"></div><table class=\"nowraplinks navbox-subgroup\" style=\"border-spacing:0\"><tbody><tr><th class=\"navbox-group\" scope=\"row\" style=\"width:1%;font-weight:normal;\"><a href=\"/wiki/Official_language\" title=\"Official language\">Official</a></th><td class=\"navbox-list-with-group navbox-list navbox-odd\" style=\"width:100%;padding:0\"><div style=\"padding:0 0.25em\">\n",
      "<ul><li><a href=\"/wiki/List_of_countries_by_the_number_of_recognized_official_languages\" title=\"List of countries by the number of recognized official languages\">Countries by the number of recognized official languages</a></li>\n",
      "<li><a class=\"mw-redirect\" href=\"/wiki/List_of_countries_where_Arabic_is_an_official_language\" title=\"List of countries where Arabic is an official language\">Arabic</a></li>\n",
      "<li><a href=\"/wiki/List_of_countries_and_territories_where_Chinese_is_an_official_language\" title=\"List of countries and territories where Chinese is an official language\">Chinese</a></li>\n",
      "<li><a href=\"/wiki/List_of_countries_and_territories_where_Afrikaans_or_Dutch_are_official_languages\" title=\"List of countries and territories where Afrikaans or Dutch are official languages\">Dutch/Afrikaans</a></li>\n",
      "<li><a href=\"/wiki/List_of_countries_and_territories_where_English_is_an_official_language\" title=\"List of countries and territories where English is an official language\">English</a></li>\n",
      "<li><a href=\"/wiki/List_of_countries_and_territories_where_French_is_an_official_language\" title=\"List of countries and territories where French is an official language\">French</a></li>\n",
      "<li><a href=\"/wiki/List_of_countries_and_territories_where_German_is_an_official_language\" title=\"List of countries and territories where German is an official language\">German</a></li>\n",
      "<li><a href=\"/wiki/List_of_countries_and_territories_where_Hindustani_is_an_official_language\" title=\"List of countries and territories where Hindustani is an official language\">Hindustani</a></li>\n",
      "<li><a href=\"/wiki/List_of_countries_and_territories_where_Italian_is_an_official_language\" title=\"List of countries and territories where Italian is an official language\">Italian</a></li>\n",
      "<li><a href=\"/wiki/List_of_countries_and_territories_where_Malay_is_an_official_language\" title=\"List of countries and territories where Malay is an official language\">Malay</a></li>\n",
      "<li><a href=\"/wiki/List_of_countries_and_territories_where_Persian_is_an_official_language\" title=\"List of countries and territories where Persian is an official language\">Persian</a></li>\n",
      "<li><a href=\"/wiki/List_of_countries_and_territories_where_Portuguese_is_an_official_language\" title=\"List of countries and territories where Portuguese is an official language\">Portuguese</a></li>\n",
      "<li><a href=\"/wiki/List_of_countries_and_territories_where_Romanian_is_an_official_language\" title=\"List of countries and territories where Romanian is an official language\">Romanian</a></li>\n",
      "<li><a href=\"/wiki/List_of_countries_and_territories_where_Russian_is_an_official_language\" title=\"List of countries and territories where Russian is an official language\">Russian</a></li>\n",
      "<li><a class=\"mw-redirect\" href=\"/wiki/List_of_countries_where_Spanish_is_an_official_language\" title=\"List of countries where Spanish is an official language\">Spanish</a></li>\n",
      "<li><a href=\"/wiki/List_of_countries_and_territories_where_Tamil_is_an_official_language\" title=\"List of countries and territories where Tamil is an official language\">Tamil</a></li></ul>\n",
      "</div></td></tr></tbody></table><div></div></td></tr><tr><th class=\"navbox-group\" scope=\"row\" style=\"width:1%\"><a href=\"/wiki/Endonym_and_exonym\" title=\"Endonym and exonym\">Endonyms</a></th><td class=\"navbox-list-with-group navbox-list navbox-even\" style=\"width:100%;padding:0\"><div style=\"padding:0 0.25em\">\n",
      "<ul><li><a href=\"/wiki/List_of_countries_and_dependencies_and_their_capitals_in_native_languages\" title=\"List of countries and dependencies and their capitals in native languages\">Countries and capitals in native languages</a></li></ul>\n",
      "</div></td></tr><tr><th class=\"navbox-group\" scope=\"row\" style=\"width:1%\"><a href=\"/wiki/Endonym_and_exonym\" title=\"Endonym and exonym\">Exonyms</a></th><td class=\"navbox-list-with-group navbox-list navbox-odd\" style=\"width:100%;padding:0\"><div style=\"padding:0 0.25em\">\n",
      "<ul><li><a href=\"/wiki/List_of_country_names_in_various_languages\" title=\"List of country names in various languages\">Country names in various languages</a>\n",
      "<ul><li><a href=\"/wiki/List_of_country_names_in_various_languages_(A%E2%80%93C)\" title=\"List of country names in various languages (A–C)\">A–C</a></li>\n",
      "<li><a href=\"/wiki/List_of_country_names_in_various_languages_(D%E2%80%93I)\" title=\"List of country names in various languages (D–I)\">D–I</a></li>\n",
      "<li><a href=\"/wiki/List_of_country_names_in_various_languages_(J%E2%80%93P)\" title=\"List of country names in various languages (J–P)\">J–P</a></li>\n",
      "<li><a href=\"/wiki/List_of_country_names_in_various_languages_(Q%E2%80%93Z)\" title=\"List of country names in various languages (Q–Z)\">Q–Z</a></li>\n",
      "<li><a href=\"/wiki/Names_of_Cambodia\" title=\"Names of Cambodia\">Cambodia</a></li>\n",
      "<li><a href=\"/wiki/Names_of_China\" title=\"Names of China\">China</a></li>\n",
      "<li><a href=\"/wiki/Names_of_Germany\" title=\"Names of Germany\">Germany</a></li>\n",
      "<li><a href=\"/wiki/Names_of_Iceland\" title=\"Names of Iceland\">Iceland</a></li>\n",
      "<li><a href=\"/wiki/Names_for_India\" title=\"Names for India\">India</a></li>\n",
      "<li><a href=\"/wiki/Names_of_Indonesia\" title=\"Names of Indonesia\">Indonesia</a></li>\n",
      "<li><a href=\"/wiki/Names_of_Japan\" title=\"Names of Japan\">Japan</a></li>\n",
      "<li><a href=\"/wiki/Names_of_Korea\" title=\"Names of Korea\">Korea</a></li>\n",
      "<li><a href=\"/wiki/Names_of_Kosovo\" title=\"Names of Kosovo\">Kosovo</a></li>\n",
      "<li><a href=\"/wiki/Names_of_Myanmar\" title=\"Names of Myanmar\">Myanmar</a></li>\n",
      "<li><a href=\"/wiki/Names_of_Singapore\" title=\"Names of Singapore\">Singapore</a></li>\n",
      "<li><a href=\"/wiki/Names_of_Sri_Lanka\" title=\"Names of Sri Lanka\">Sri Lanka</a></li>\n",
      "<li><a href=\"/wiki/Names_of_Vietnam\" title=\"Names of Vietnam\">Vietnam</a></li></ul></li>\n",
      "<li><a href=\"/wiki/Languages_of_the_European_Union\" title=\"Languages of the European Union\">Languages of the European Union</a></li></ul>\n",
      "</div></td></tr></tbody></table><div></div></td></tr></tbody>, <tbody><tr><th class=\"navbox-group\" scope=\"row\" style=\"width:1%\">By languages</th><td class=\"navbox-list-with-group navbox-list navbox-odd\" style=\"width:100%;padding:0\"><div style=\"padding:0 0.25em\"></div><table class=\"nowraplinks navbox-subgroup\" style=\"border-spacing:0\"><tbody><tr><th class=\"navbox-group\" scope=\"row\" style=\"width:1%;font-weight:normal;\"><a href=\"/wiki/Official_language\" title=\"Official language\">Official</a></th><td class=\"navbox-list-with-group navbox-list navbox-odd\" style=\"width:100%;padding:0\"><div style=\"padding:0 0.25em\">\n",
      "<ul><li><a href=\"/wiki/List_of_countries_by_the_number_of_recognized_official_languages\" title=\"List of countries by the number of recognized official languages\">Countries by the number of recognized official languages</a></li>\n",
      "<li><a class=\"mw-redirect\" href=\"/wiki/List_of_countries_where_Arabic_is_an_official_language\" title=\"List of countries where Arabic is an official language\">Arabic</a></li>\n",
      "<li><a href=\"/wiki/List_of_countries_and_territories_where_Chinese_is_an_official_language\" title=\"List of countries and territories where Chinese is an official language\">Chinese</a></li>\n",
      "<li><a href=\"/wiki/List_of_countries_and_territories_where_Afrikaans_or_Dutch_are_official_languages\" title=\"List of countries and territories where Afrikaans or Dutch are official languages\">Dutch/Afrikaans</a></li>\n",
      "<li><a href=\"/wiki/List_of_countries_and_territories_where_English_is_an_official_language\" title=\"List of countries and territories where English is an official language\">English</a></li>\n",
      "<li><a href=\"/wiki/List_of_countries_and_territories_where_French_is_an_official_language\" title=\"List of countries and territories where French is an official language\">French</a></li>\n",
      "<li><a href=\"/wiki/List_of_countries_and_territories_where_German_is_an_official_language\" title=\"List of countries and territories where German is an official language\">German</a></li>\n",
      "<li><a href=\"/wiki/List_of_countries_and_territories_where_Hindustani_is_an_official_language\" title=\"List of countries and territories where Hindustani is an official language\">Hindustani</a></li>\n",
      "<li><a href=\"/wiki/List_of_countries_and_territories_where_Italian_is_an_official_language\" title=\"List of countries and territories where Italian is an official language\">Italian</a></li>\n",
      "<li><a href=\"/wiki/List_of_countries_and_territories_where_Malay_is_an_official_language\" title=\"List of countries and territories where Malay is an official language\">Malay</a></li>\n",
      "<li><a href=\"/wiki/List_of_countries_and_territories_where_Persian_is_an_official_language\" title=\"List of countries and territories where Persian is an official language\">Persian</a></li>\n",
      "<li><a href=\"/wiki/List_of_countries_and_territories_where_Portuguese_is_an_official_language\" title=\"List of countries and territories where Portuguese is an official language\">Portuguese</a></li>\n",
      "<li><a href=\"/wiki/List_of_countries_and_territories_where_Romanian_is_an_official_language\" title=\"List of countries and territories where Romanian is an official language\">Romanian</a></li>\n",
      "<li><a href=\"/wiki/List_of_countries_and_territories_where_Russian_is_an_official_language\" title=\"List of countries and territories where Russian is an official language\">Russian</a></li>\n",
      "<li><a class=\"mw-redirect\" href=\"/wiki/List_of_countries_where_Spanish_is_an_official_language\" title=\"List of countries where Spanish is an official language\">Spanish</a></li>\n",
      "<li><a href=\"/wiki/List_of_countries_and_territories_where_Tamil_is_an_official_language\" title=\"List of countries and territories where Tamil is an official language\">Tamil</a></li></ul>\n",
      "</div></td></tr></tbody></table><div></div></td></tr><tr><th class=\"navbox-group\" scope=\"row\" style=\"width:1%\"><a href=\"/wiki/Endonym_and_exonym\" title=\"Endonym and exonym\">Endonyms</a></th><td class=\"navbox-list-with-group navbox-list navbox-even\" style=\"width:100%;padding:0\"><div style=\"padding:0 0.25em\">\n",
      "<ul><li><a href=\"/wiki/List_of_countries_and_dependencies_and_their_capitals_in_native_languages\" title=\"List of countries and dependencies and their capitals in native languages\">Countries and capitals in native languages</a></li></ul>\n",
      "</div></td></tr><tr><th class=\"navbox-group\" scope=\"row\" style=\"width:1%\"><a href=\"/wiki/Endonym_and_exonym\" title=\"Endonym and exonym\">Exonyms</a></th><td class=\"navbox-list-with-group navbox-list navbox-odd\" style=\"width:100%;padding:0\"><div style=\"padding:0 0.25em\">\n",
      "<ul><li><a href=\"/wiki/List_of_country_names_in_various_languages\" title=\"List of country names in various languages\">Country names in various languages</a>\n",
      "<ul><li><a href=\"/wiki/List_of_country_names_in_various_languages_(A%E2%80%93C)\" title=\"List of country names in various languages (A–C)\">A–C</a></li>\n",
      "<li><a href=\"/wiki/List_of_country_names_in_various_languages_(D%E2%80%93I)\" title=\"List of country names in various languages (D–I)\">D–I</a></li>\n",
      "<li><a href=\"/wiki/List_of_country_names_in_various_languages_(J%E2%80%93P)\" title=\"List of country names in various languages (J–P)\">J–P</a></li>\n",
      "<li><a href=\"/wiki/List_of_country_names_in_various_languages_(Q%E2%80%93Z)\" title=\"List of country names in various languages (Q–Z)\">Q–Z</a></li>\n",
      "<li><a href=\"/wiki/Names_of_Cambodia\" title=\"Names of Cambodia\">Cambodia</a></li>\n",
      "<li><a href=\"/wiki/Names_of_China\" title=\"Names of China\">China</a></li>\n",
      "<li><a href=\"/wiki/Names_of_Germany\" title=\"Names of Germany\">Germany</a></li>\n",
      "<li><a href=\"/wiki/Names_of_Iceland\" title=\"Names of Iceland\">Iceland</a></li>\n",
      "<li><a href=\"/wiki/Names_for_India\" title=\"Names for India\">India</a></li>\n",
      "<li><a href=\"/wiki/Names_of_Indonesia\" title=\"Names of Indonesia\">Indonesia</a></li>\n",
      "<li><a href=\"/wiki/Names_of_Japan\" title=\"Names of Japan\">Japan</a></li>\n",
      "<li><a href=\"/wiki/Names_of_Korea\" title=\"Names of Korea\">Korea</a></li>\n",
      "<li><a href=\"/wiki/Names_of_Kosovo\" title=\"Names of Kosovo\">Kosovo</a></li>\n",
      "<li><a href=\"/wiki/Names_of_Myanmar\" title=\"Names of Myanmar\">Myanmar</a></li>\n",
      "<li><a href=\"/wiki/Names_of_Singapore\" title=\"Names of Singapore\">Singapore</a></li>\n",
      "<li><a href=\"/wiki/Names_of_Sri_Lanka\" title=\"Names of Sri Lanka\">Sri Lanka</a></li>\n",
      "<li><a href=\"/wiki/Names_of_Vietnam\" title=\"Names of Vietnam\">Vietnam</a></li></ul></li>\n",
      "<li><a href=\"/wiki/Languages_of_the_European_Union\" title=\"Languages of the European Union\">Languages of the European Union</a></li></ul>\n",
      "</div></td></tr></tbody>, <tbody><tr><th class=\"navbox-group\" scope=\"row\" style=\"width:1%;font-weight:normal;\"><a href=\"/wiki/Official_language\" title=\"Official language\">Official</a></th><td class=\"navbox-list-with-group navbox-list navbox-odd\" style=\"width:100%;padding:0\"><div style=\"padding:0 0.25em\">\n",
      "<ul><li><a href=\"/wiki/List_of_countries_by_the_number_of_recognized_official_languages\" title=\"List of countries by the number of recognized official languages\">Countries by the number of recognized official languages</a></li>\n",
      "<li><a class=\"mw-redirect\" href=\"/wiki/List_of_countries_where_Arabic_is_an_official_language\" title=\"List of countries where Arabic is an official language\">Arabic</a></li>\n",
      "<li><a href=\"/wiki/List_of_countries_and_territories_where_Chinese_is_an_official_language\" title=\"List of countries and territories where Chinese is an official language\">Chinese</a></li>\n",
      "<li><a href=\"/wiki/List_of_countries_and_territories_where_Afrikaans_or_Dutch_are_official_languages\" title=\"List of countries and territories where Afrikaans or Dutch are official languages\">Dutch/Afrikaans</a></li>\n",
      "<li><a href=\"/wiki/List_of_countries_and_territories_where_English_is_an_official_language\" title=\"List of countries and territories where English is an official language\">English</a></li>\n",
      "<li><a href=\"/wiki/List_of_countries_and_territories_where_French_is_an_official_language\" title=\"List of countries and territories where French is an official language\">French</a></li>\n",
      "<li><a href=\"/wiki/List_of_countries_and_territories_where_German_is_an_official_language\" title=\"List of countries and territories where German is an official language\">German</a></li>\n",
      "<li><a href=\"/wiki/List_of_countries_and_territories_where_Hindustani_is_an_official_language\" title=\"List of countries and territories where Hindustani is an official language\">Hindustani</a></li>\n",
      "<li><a href=\"/wiki/List_of_countries_and_territories_where_Italian_is_an_official_language\" title=\"List of countries and territories where Italian is an official language\">Italian</a></li>\n",
      "<li><a href=\"/wiki/List_of_countries_and_territories_where_Malay_is_an_official_language\" title=\"List of countries and territories where Malay is an official language\">Malay</a></li>\n",
      "<li><a href=\"/wiki/List_of_countries_and_territories_where_Persian_is_an_official_language\" title=\"List of countries and territories where Persian is an official language\">Persian</a></li>\n",
      "<li><a href=\"/wiki/List_of_countries_and_territories_where_Portuguese_is_an_official_language\" title=\"List of countries and territories where Portuguese is an official language\">Portuguese</a></li>\n",
      "<li><a href=\"/wiki/List_of_countries_and_territories_where_Romanian_is_an_official_language\" title=\"List of countries and territories where Romanian is an official language\">Romanian</a></li>\n",
      "<li><a href=\"/wiki/List_of_countries_and_territories_where_Russian_is_an_official_language\" title=\"List of countries and territories where Russian is an official language\">Russian</a></li>\n",
      "<li><a class=\"mw-redirect\" href=\"/wiki/List_of_countries_where_Spanish_is_an_official_language\" title=\"List of countries where Spanish is an official language\">Spanish</a></li>\n",
      "<li><a href=\"/wiki/List_of_countries_and_territories_where_Tamil_is_an_official_language\" title=\"List of countries and territories where Tamil is an official language\">Tamil</a></li></ul>\n",
      "</div></td></tr></tbody>]\n",
      "[<tbody><tr><th class=\"navbox-group\" scope=\"row\" style=\"width:1%\">By languages</th><td class=\"navbox-list-with-group navbox-list navbox-odd\" style=\"width:100%;padding:0\"><div style=\"padding:0 0.25em\"></div><table class=\"nowraplinks navbox-subgroup\" style=\"border-spacing:0\"><tbody><tr><th class=\"navbox-group\" scope=\"row\" style=\"width:1%;font-weight:normal;\"><a href=\"/wiki/Official_language\" title=\"Official language\">Official</a></th><td class=\"navbox-list-with-group navbox-list navbox-odd\" style=\"width:100%;padding:0\"><div style=\"padding:0 0.25em\">\n",
      "<ul><li><a href=\"/wiki/List_of_countries_by_the_number_of_recognized_official_languages\" title=\"List of countries by the number of recognized official languages\">Countries by the number of recognized official languages</a></li>\n",
      "<li><a class=\"mw-redirect\" href=\"/wiki/List_of_countries_where_Arabic_is_an_official_language\" title=\"List of countries where Arabic is an official language\">Arabic</a></li>\n",
      "<li><a href=\"/wiki/List_of_countries_and_territories_where_Chinese_is_an_official_language\" title=\"List of countries and territories where Chinese is an official language\">Chinese</a></li>\n",
      "<li><a href=\"/wiki/List_of_countries_and_territories_where_Afrikaans_or_Dutch_are_official_languages\" title=\"List of countries and territories where Afrikaans or Dutch are official languages\">Dutch/Afrikaans</a></li>\n",
      "<li><a href=\"/wiki/List_of_countries_and_territories_where_English_is_an_official_language\" title=\"List of countries and territories where English is an official language\">English</a></li>\n",
      "<li><a href=\"/wiki/List_of_countries_and_territories_where_French_is_an_official_language\" title=\"List of countries and territories where French is an official language\">French</a></li>\n",
      "<li><a href=\"/wiki/List_of_countries_and_territories_where_German_is_an_official_language\" title=\"List of countries and territories where German is an official language\">German</a></li>\n",
      "<li><a href=\"/wiki/List_of_countries_and_territories_where_Hindustani_is_an_official_language\" title=\"List of countries and territories where Hindustani is an official language\">Hindustani</a></li>\n",
      "<li><a href=\"/wiki/List_of_countries_and_territories_where_Italian_is_an_official_language\" title=\"List of countries and territories where Italian is an official language\">Italian</a></li>\n",
      "<li><a href=\"/wiki/List_of_countries_and_territories_where_Malay_is_an_official_language\" title=\"List of countries and territories where Malay is an official language\">Malay</a></li>\n",
      "<li><a href=\"/wiki/List_of_countries_and_territories_where_Persian_is_an_official_language\" title=\"List of countries and territories where Persian is an official language\">Persian</a></li>\n",
      "<li><a href=\"/wiki/List_of_countries_and_territories_where_Portuguese_is_an_official_language\" title=\"List of countries and territories where Portuguese is an official language\">Portuguese</a></li>\n",
      "<li><a href=\"/wiki/List_of_countries_and_territories_where_Romanian_is_an_official_language\" title=\"List of countries and territories where Romanian is an official language\">Romanian</a></li>\n",
      "<li><a href=\"/wiki/List_of_countries_and_territories_where_Russian_is_an_official_language\" title=\"List of countries and territories where Russian is an official language\">Russian</a></li>\n",
      "<li><a class=\"mw-redirect\" href=\"/wiki/List_of_countries_where_Spanish_is_an_official_language\" title=\"List of countries where Spanish is an official language\">Spanish</a></li>\n",
      "<li><a href=\"/wiki/List_of_countries_and_territories_where_Tamil_is_an_official_language\" title=\"List of countries and territories where Tamil is an official language\">Tamil</a></li></ul>\n",
      "</div></td></tr></tbody></table><div></div></td></tr><tr><th class=\"navbox-group\" scope=\"row\" style=\"width:1%\"><a href=\"/wiki/Endonym_and_exonym\" title=\"Endonym and exonym\">Endonyms</a></th><td class=\"navbox-list-with-group navbox-list navbox-even\" style=\"width:100%;padding:0\"><div style=\"padding:0 0.25em\">\n",
      "<ul><li><a href=\"/wiki/List_of_countries_and_dependencies_and_their_capitals_in_native_languages\" title=\"List of countries and dependencies and their capitals in native languages\">Countries and capitals in native languages</a></li></ul>\n",
      "</div></td></tr><tr><th class=\"navbox-group\" scope=\"row\" style=\"width:1%\"><a href=\"/wiki/Endonym_and_exonym\" title=\"Endonym and exonym\">Exonyms</a></th><td class=\"navbox-list-with-group navbox-list navbox-odd\" style=\"width:100%;padding:0\"><div style=\"padding:0 0.25em\">\n",
      "<ul><li><a href=\"/wiki/List_of_country_names_in_various_languages\" title=\"List of country names in various languages\">Country names in various languages</a>\n",
      "<ul><li><a href=\"/wiki/List_of_country_names_in_various_languages_(A%E2%80%93C)\" title=\"List of country names in various languages (A–C)\">A–C</a></li>\n",
      "<li><a href=\"/wiki/List_of_country_names_in_various_languages_(D%E2%80%93I)\" title=\"List of country names in various languages (D–I)\">D–I</a></li>\n",
      "<li><a href=\"/wiki/List_of_country_names_in_various_languages_(J%E2%80%93P)\" title=\"List of country names in various languages (J–P)\">J–P</a></li>\n",
      "<li><a href=\"/wiki/List_of_country_names_in_various_languages_(Q%E2%80%93Z)\" title=\"List of country names in various languages (Q–Z)\">Q–Z</a></li>\n",
      "<li><a href=\"/wiki/Names_of_Cambodia\" title=\"Names of Cambodia\">Cambodia</a></li>\n",
      "<li><a href=\"/wiki/Names_of_China\" title=\"Names of China\">China</a></li>\n",
      "<li><a href=\"/wiki/Names_of_Germany\" title=\"Names of Germany\">Germany</a></li>\n",
      "<li><a href=\"/wiki/Names_of_Iceland\" title=\"Names of Iceland\">Iceland</a></li>\n",
      "<li><a href=\"/wiki/Names_for_India\" title=\"Names for India\">India</a></li>\n",
      "<li><a href=\"/wiki/Names_of_Indonesia\" title=\"Names of Indonesia\">Indonesia</a></li>\n",
      "<li><a href=\"/wiki/Names_of_Japan\" title=\"Names of Japan\">Japan</a></li>\n",
      "<li><a href=\"/wiki/Names_of_Korea\" title=\"Names of Korea\">Korea</a></li>\n",
      "<li><a href=\"/wiki/Names_of_Kosovo\" title=\"Names of Kosovo\">Kosovo</a></li>\n",
      "<li><a href=\"/wiki/Names_of_Myanmar\" title=\"Names of Myanmar\">Myanmar</a></li>\n",
      "<li><a href=\"/wiki/Names_of_Singapore\" title=\"Names of Singapore\">Singapore</a></li>\n",
      "<li><a href=\"/wiki/Names_of_Sri_Lanka\" title=\"Names of Sri Lanka\">Sri Lanka</a></li>\n",
      "<li><a href=\"/wiki/Names_of_Vietnam\" title=\"Names of Vietnam\">Vietnam</a></li></ul></li>\n",
      "<li><a href=\"/wiki/Languages_of_the_European_Union\" title=\"Languages of the European Union\">Languages of the European Union</a></li></ul>\n",
      "</div></td></tr></tbody>, <tbody><tr><th class=\"navbox-group\" scope=\"row\" style=\"width:1%;font-weight:normal;\"><a href=\"/wiki/Official_language\" title=\"Official language\">Official</a></th><td class=\"navbox-list-with-group navbox-list navbox-odd\" style=\"width:100%;padding:0\"><div style=\"padding:0 0.25em\">\n",
      "<ul><li><a href=\"/wiki/List_of_countries_by_the_number_of_recognized_official_languages\" title=\"List of countries by the number of recognized official languages\">Countries by the number of recognized official languages</a></li>\n",
      "<li><a class=\"mw-redirect\" href=\"/wiki/List_of_countries_where_Arabic_is_an_official_language\" title=\"List of countries where Arabic is an official language\">Arabic</a></li>\n",
      "<li><a href=\"/wiki/List_of_countries_and_territories_where_Chinese_is_an_official_language\" title=\"List of countries and territories where Chinese is an official language\">Chinese</a></li>\n",
      "<li><a href=\"/wiki/List_of_countries_and_territories_where_Afrikaans_or_Dutch_are_official_languages\" title=\"List of countries and territories where Afrikaans or Dutch are official languages\">Dutch/Afrikaans</a></li>\n",
      "<li><a href=\"/wiki/List_of_countries_and_territories_where_English_is_an_official_language\" title=\"List of countries and territories where English is an official language\">English</a></li>\n",
      "<li><a href=\"/wiki/List_of_countries_and_territories_where_French_is_an_official_language\" title=\"List of countries and territories where French is an official language\">French</a></li>\n",
      "<li><a href=\"/wiki/List_of_countries_and_territories_where_German_is_an_official_language\" title=\"List of countries and territories where German is an official language\">German</a></li>\n",
      "<li><a href=\"/wiki/List_of_countries_and_territories_where_Hindustani_is_an_official_language\" title=\"List of countries and territories where Hindustani is an official language\">Hindustani</a></li>\n",
      "<li><a href=\"/wiki/List_of_countries_and_territories_where_Italian_is_an_official_language\" title=\"List of countries and territories where Italian is an official language\">Italian</a></li>\n",
      "<li><a href=\"/wiki/List_of_countries_and_territories_where_Malay_is_an_official_language\" title=\"List of countries and territories where Malay is an official language\">Malay</a></li>\n",
      "<li><a href=\"/wiki/List_of_countries_and_territories_where_Persian_is_an_official_language\" title=\"List of countries and territories where Persian is an official language\">Persian</a></li>\n",
      "<li><a href=\"/wiki/List_of_countries_and_territories_where_Portuguese_is_an_official_language\" title=\"List of countries and territories where Portuguese is an official language\">Portuguese</a></li>\n",
      "<li><a href=\"/wiki/List_of_countries_and_territories_where_Romanian_is_an_official_language\" title=\"List of countries and territories where Romanian is an official language\">Romanian</a></li>\n",
      "<li><a href=\"/wiki/List_of_countries_and_territories_where_Russian_is_an_official_language\" title=\"List of countries and territories where Russian is an official language\">Russian</a></li>\n",
      "<li><a class=\"mw-redirect\" href=\"/wiki/List_of_countries_where_Spanish_is_an_official_language\" title=\"List of countries where Spanish is an official language\">Spanish</a></li>\n",
      "<li><a href=\"/wiki/List_of_countries_and_territories_where_Tamil_is_an_official_language\" title=\"List of countries and territories where Tamil is an official language\">Tamil</a></li></ul>\n",
      "</div></td></tr></tbody>]\n",
      "[<tbody><tr><th class=\"navbox-group\" scope=\"row\" style=\"width:1%;font-weight:normal;\"><a href=\"/wiki/Official_language\" title=\"Official language\">Official</a></th><td class=\"navbox-list-with-group navbox-list navbox-odd\" style=\"width:100%;padding:0\"><div style=\"padding:0 0.25em\">\n",
      "<ul><li><a href=\"/wiki/List_of_countries_by_the_number_of_recognized_official_languages\" title=\"List of countries by the number of recognized official languages\">Countries by the number of recognized official languages</a></li>\n",
      "<li><a class=\"mw-redirect\" href=\"/wiki/List_of_countries_where_Arabic_is_an_official_language\" title=\"List of countries where Arabic is an official language\">Arabic</a></li>\n",
      "<li><a href=\"/wiki/List_of_countries_and_territories_where_Chinese_is_an_official_language\" title=\"List of countries and territories where Chinese is an official language\">Chinese</a></li>\n",
      "<li><a href=\"/wiki/List_of_countries_and_territories_where_Afrikaans_or_Dutch_are_official_languages\" title=\"List of countries and territories where Afrikaans or Dutch are official languages\">Dutch/Afrikaans</a></li>\n",
      "<li><a href=\"/wiki/List_of_countries_and_territories_where_English_is_an_official_language\" title=\"List of countries and territories where English is an official language\">English</a></li>\n",
      "<li><a href=\"/wiki/List_of_countries_and_territories_where_French_is_an_official_language\" title=\"List of countries and territories where French is an official language\">French</a></li>\n",
      "<li><a href=\"/wiki/List_of_countries_and_territories_where_German_is_an_official_language\" title=\"List of countries and territories where German is an official language\">German</a></li>\n",
      "<li><a href=\"/wiki/List_of_countries_and_territories_where_Hindustani_is_an_official_language\" title=\"List of countries and territories where Hindustani is an official language\">Hindustani</a></li>\n",
      "<li><a href=\"/wiki/List_of_countries_and_territories_where_Italian_is_an_official_language\" title=\"List of countries and territories where Italian is an official language\">Italian</a></li>\n",
      "<li><a href=\"/wiki/List_of_countries_and_territories_where_Malay_is_an_official_language\" title=\"List of countries and territories where Malay is an official language\">Malay</a></li>\n",
      "<li><a href=\"/wiki/List_of_countries_and_territories_where_Persian_is_an_official_language\" title=\"List of countries and territories where Persian is an official language\">Persian</a></li>\n",
      "<li><a href=\"/wiki/List_of_countries_and_territories_where_Portuguese_is_an_official_language\" title=\"List of countries and territories where Portuguese is an official language\">Portuguese</a></li>\n",
      "<li><a href=\"/wiki/List_of_countries_and_territories_where_Romanian_is_an_official_language\" title=\"List of countries and territories where Romanian is an official language\">Romanian</a></li>\n",
      "<li><a href=\"/wiki/List_of_countries_and_territories_where_Russian_is_an_official_language\" title=\"List of countries and territories where Russian is an official language\">Russian</a></li>\n",
      "<li><a class=\"mw-redirect\" href=\"/wiki/List_of_countries_where_Spanish_is_an_official_language\" title=\"List of countries where Spanish is an official language\">Spanish</a></li>\n",
      "<li><a href=\"/wiki/List_of_countries_and_territories_where_Tamil_is_an_official_language\" title=\"List of countries and territories where Tamil is an official language\">Tamil</a></li></ul>\n",
      "</div></td></tr></tbody>]\n",
      "[<tbody><tr><th class=\"navbox-title\" colspan=\"2\" scope=\"col\"><div id=\"Languages\" style=\"font-size:114%;margin:0 4em\">Languages</div></th></tr><tr><td class=\"navbox-list navbox-odd\" colspan=\"2\" style=\"width:100%;padding:0\"><div style=\"padding:0 0.25em\"></div><table class=\"nowraplinks navbox-subgroup\" style=\"border-spacing:0\"><tbody><tr><th class=\"navbox-group\" scope=\"row\" style=\"width:1%\">By continent</th><td class=\"navbox-list-with-group navbox-list navbox-odd\" style=\"width:100%;padding:0\"><div style=\"padding:0 0.25em\">\n",
      "<ul><li><a href=\"/wiki/Languages_of_Africa\" title=\"Languages of Africa\">Africa</a></li>\n",
      "<li><a href=\"/wiki/Indigenous_languages_of_the_Americas\" title=\"Indigenous languages of the Americas\">Americas</a>\n",
      "<ul><li><a href=\"/wiki/Languages_of_North_America\" title=\"Languages of North America\">North</a></li>\n",
      "<li><a href=\"/wiki/Languages_of_South_America\" title=\"Languages of South America\">South</a></li></ul></li>\n",
      "<li><a href=\"/wiki/Languages_of_Asia\" title=\"Languages of Asia\">Asia</a>\n",
      "<ul><li><a href=\"/wiki/Languages_of_East_Asia\" title=\"Languages of East Asia\">East</a></li>\n",
      "<li><a href=\"/wiki/Languages_of_South_Asia\" title=\"Languages of South Asia\">South</a></li></ul></li>\n",
      "<li><a href=\"/wiki/Languages_of_Europe\" title=\"Languages of Europe\">Europe</a></li>\n",
      "<li><a href=\"/wiki/Languages_of_Oceania\" title=\"Languages of Oceania\">Oceania</a></li></ul>\n",
      "</div></td></tr><tr><th class=\"navbox-group\" scope=\"row\" style=\"width:1%\">By country</th><td class=\"navbox-list-with-group navbox-list navbox-even\" style=\"width:100%;padding:0\"><div style=\"padding:0 0.25em\">\n",
      "<ul><li><a href=\"/wiki/List_of_official_languages\" title=\"List of official languages\">Official languages</a>\n",
      "<ul><li><a href=\"/wiki/List_of_official_languages_by_country_and_territory\" title=\"List of official languages by country and territory\">by country and territory</a></li></ul></li>\n",
      "<li><a class=\"new\" href=\"/w/index.php?title=List_of_languages_without_official_status&amp;action=edit&amp;redlink=1\" title=\"List of languages without official status (page does not exist)\">List of languages without official status</a></li>\n",
      "<li><a href=\"/wiki/List_of_countries_by_the_number_of_recognized_official_languages\" title=\"List of countries by the number of recognized official languages\">Countries by the number of recognized official languages</a></li>\n",
      "<li><a href=\"/wiki/List_of_languages_by_the_number_of_countries_in_which_they_are_recognized_as_an_official_language\" title=\"List of languages by the number of countries in which they are recognized as an official language\">Languages by the number of countries in which they are recognized as an official language</a></li>\n",
      "<li><a href=\"/wiki/Number_of_languages_by_country\" title=\"Number of languages by country\">Number of languages</a></li></ul>\n",
      "</div></td></tr><tr><th class=\"navbox-group\" scope=\"row\" style=\"width:1%\">By population</th><td class=\"navbox-list-with-group navbox-list navbox-odd\" style=\"width:100%;padding:0\"><div style=\"padding:0 0.25em\">\n",
      "<ul><li><a class=\"mw-selflink selflink\">By number of native speakers</a>\n",
      "<ul><li><a class=\"mw-redirect\" href=\"/wiki/List_of_European_languages_by_number_of_speakers\" title=\"List of European languages by number of speakers\">Europe</a></li></ul></li>\n",
      "<li><a href=\"/wiki/List_of_languages_by_total_number_of_speakers\" title=\"List of languages by total number of speakers\">By number of total speakers</a></li>\n",
      "<li><a href=\"/wiki/Languages_in_censuses\" title=\"Languages in censuses\">Languages in censuses</a></li></ul>\n",
      "</div></td></tr><tr><th class=\"navbox-group\" scope=\"row\" style=\"width:1%\">By <a href=\"/wiki/Language_family\" title=\"Language family\">family</a></th><td class=\"navbox-list-with-group navbox-list navbox-even\" style=\"width:100%;padding:0\"><div style=\"padding:0 0.25em\">\n",
      "<ul><li><a href=\"/wiki/List_of_language_families\" title=\"List of language families\">Language families</a>\n",
      "<ul><li><a class=\"mw-redirect\" href=\"/wiki/List_of_Afro-Asiatic_languages\" title=\"List of Afro-Asiatic languages\">List of Afro-Asiatic languages</a></li>\n",
      "<li><a class=\"mw-redirect\" href=\"/wiki/List_of_Austronesian_languages\" title=\"List of Austronesian languages\">List of Austronesian languages</a></li>\n",
      "<li><a href=\"/wiki/List_of_Indo-European_languages\" title=\"List of Indo-European languages\">List of Indo-European languages</a></li>\n",
      "<li><a href=\"/wiki/List_of_Mongolic_languages\" title=\"List of Mongolic languages\">List of Mongolic languages</a></li>\n",
      "<li><a class=\"mw-redirect\" href=\"/wiki/List_of_Tungusic_languages\" title=\"List of Tungusic languages\">List of Tungusic languages</a></li>\n",
      "<li><a href=\"/wiki/List_of_Turkic_languages\" title=\"List of Turkic languages\">List of Turkic languages</a></li>\n",
      "<li><a href=\"/wiki/List_of_Uralic_languages\" title=\"List of Uralic languages\">List of Uralic languages</a></li></ul></li></ul>\n",
      "</div></td></tr><tr><th class=\"navbox-group\" scope=\"row\" style=\"width:1%\"><div style=\"display: inline-block; line-height: 1.2em; padding: .1em 0;\">Language-based<br/><a href=\"/wiki/Geopolitics\" title=\"Geopolitics\">geopolitical</a><br/>organizations</div></th><td class=\"navbox-list-with-group navbox-list navbox-odd\" style=\"width:100%;padding:0\"><div style=\"padding:0 0.25em\">\n",
      "<ul><li><a href=\"/wiki/Arab_League\" title=\"Arab League\">Arab League <span style=\"font-size:85%;\">(Arabic)</span></a></li>\n",
      "<li><a href=\"/wiki/Dutch_Language_Union\" title=\"Dutch Language Union\">Dutch Language Union <span style=\"font-size:85%;\">(Dutch)</span></a></li>\n",
      "<li><a href=\"/wiki/Commonwealth_of_Nations\" title=\"Commonwealth of Nations\">Commonwealth of Nations <span style=\"font-size:85%;\">(English)</span></a></li>\n",
      "<li><a href=\"/wiki/Latin_Union\" title=\"Latin Union\">Latin Union</a> <span style=\"font-size:85%;\">(<a href=\"/wiki/Romance_languages\" title=\"Romance languages\">Romance</a>)</span></li>\n",
      "<li><a href=\"/wiki/Three_Linguistic_Spaces\" title=\"Three Linguistic Spaces\">Three Linguistic Spaces</a>\n",
      "<ul><li><a href=\"/wiki/Organisation_internationale_de_la_Francophonie\" title=\"Organisation internationale de la Francophonie\">Francophonie <span style=\"font-size:85%;\">(French)</span></a></li>\n",
      "<li><a href=\"/wiki/Community_of_Portuguese_Language_Countries\" title=\"Community of Portuguese Language Countries\">Community of Portuguese Language Countries</a>\n",
      "<ul><li><a href=\"/wiki/Portuguese-speaking_African_countries\" title=\"Portuguese-speaking African countries\"><i>Países Africanos de Língua Oficial Portuguesa</i> <span style=\"font-size:85%;\">(Portuguese)</span></a></li></ul></li>\n",
      "<li><a href=\"/wiki/Hispanidad\" title=\"Hispanidad\">Hispanidad <span style=\"font-size:85%;\">(Spanish)</span></a></li></ul></li>\n",
      "<li><a href=\"/wiki/Organization_of_Turkic_States\" title=\"Organization of Turkic States\">Organization of Turkic States</a> <span style=\"font-size:85%;\">(<a href=\"/wiki/Turkic_languages\" title=\"Turkic languages\">Turkic</a>)</span></li>\n",
      "<li><a href=\"/wiki/International_Organization_of_Turkic_Culture\" title=\"International Organization of Turkic Culture\">International Organization of Turkic Culture</a> <span style=\"font-size:85%;\">(<a href=\"/wiki/Turkic_languages\" title=\"Turkic languages\">Turkic</a>)</span></li></ul>\n",
      "</div></td></tr><tr><th class=\"navbox-group\" scope=\"row\" style=\"width:1%\">See also</th><td class=\"navbox-list-with-group navbox-list navbox-even\" style=\"width:100%;padding:0\"><div style=\"padding:0 0.25em\">\n",
      "<ul><li><a href=\"/wiki/Category:Lists_of_languages\" title=\"Category:Lists of languages\">Lists of languages</a></li>\n",
      "<li><a href=\"/wiki/Category:Languages\" title=\"Category:Languages\">Category:Languages</a></li></ul>\n",
      "</div></td></tr></tbody></table><div></div></td></tr></tbody>, <tbody><tr><th class=\"navbox-group\" scope=\"row\" style=\"width:1%\">By continent</th><td class=\"navbox-list-with-group navbox-list navbox-odd\" style=\"width:100%;padding:0\"><div style=\"padding:0 0.25em\">\n",
      "<ul><li><a href=\"/wiki/Languages_of_Africa\" title=\"Languages of Africa\">Africa</a></li>\n",
      "<li><a href=\"/wiki/Indigenous_languages_of_the_Americas\" title=\"Indigenous languages of the Americas\">Americas</a>\n",
      "<ul><li><a href=\"/wiki/Languages_of_North_America\" title=\"Languages of North America\">North</a></li>\n",
      "<li><a href=\"/wiki/Languages_of_South_America\" title=\"Languages of South America\">South</a></li></ul></li>\n",
      "<li><a href=\"/wiki/Languages_of_Asia\" title=\"Languages of Asia\">Asia</a>\n",
      "<ul><li><a href=\"/wiki/Languages_of_East_Asia\" title=\"Languages of East Asia\">East</a></li>\n",
      "<li><a href=\"/wiki/Languages_of_South_Asia\" title=\"Languages of South Asia\">South</a></li></ul></li>\n",
      "<li><a href=\"/wiki/Languages_of_Europe\" title=\"Languages of Europe\">Europe</a></li>\n",
      "<li><a href=\"/wiki/Languages_of_Oceania\" title=\"Languages of Oceania\">Oceania</a></li></ul>\n",
      "</div></td></tr><tr><th class=\"navbox-group\" scope=\"row\" style=\"width:1%\">By country</th><td class=\"navbox-list-with-group navbox-list navbox-even\" style=\"width:100%;padding:0\"><div style=\"padding:0 0.25em\">\n",
      "<ul><li><a href=\"/wiki/List_of_official_languages\" title=\"List of official languages\">Official languages</a>\n",
      "<ul><li><a href=\"/wiki/List_of_official_languages_by_country_and_territory\" title=\"List of official languages by country and territory\">by country and territory</a></li></ul></li>\n",
      "<li><a class=\"new\" href=\"/w/index.php?title=List_of_languages_without_official_status&amp;action=edit&amp;redlink=1\" title=\"List of languages without official status (page does not exist)\">List of languages without official status</a></li>\n",
      "<li><a href=\"/wiki/List_of_countries_by_the_number_of_recognized_official_languages\" title=\"List of countries by the number of recognized official languages\">Countries by the number of recognized official languages</a></li>\n",
      "<li><a href=\"/wiki/List_of_languages_by_the_number_of_countries_in_which_they_are_recognized_as_an_official_language\" title=\"List of languages by the number of countries in which they are recognized as an official language\">Languages by the number of countries in which they are recognized as an official language</a></li>\n",
      "<li><a href=\"/wiki/Number_of_languages_by_country\" title=\"Number of languages by country\">Number of languages</a></li></ul>\n",
      "</div></td></tr><tr><th class=\"navbox-group\" scope=\"row\" style=\"width:1%\">By population</th><td class=\"navbox-list-with-group navbox-list navbox-odd\" style=\"width:100%;padding:0\"><div style=\"padding:0 0.25em\">\n",
      "<ul><li><a class=\"mw-selflink selflink\">By number of native speakers</a>\n",
      "<ul><li><a class=\"mw-redirect\" href=\"/wiki/List_of_European_languages_by_number_of_speakers\" title=\"List of European languages by number of speakers\">Europe</a></li></ul></li>\n",
      "<li><a href=\"/wiki/List_of_languages_by_total_number_of_speakers\" title=\"List of languages by total number of speakers\">By number of total speakers</a></li>\n",
      "<li><a href=\"/wiki/Languages_in_censuses\" title=\"Languages in censuses\">Languages in censuses</a></li></ul>\n",
      "</div></td></tr><tr><th class=\"navbox-group\" scope=\"row\" style=\"width:1%\">By <a href=\"/wiki/Language_family\" title=\"Language family\">family</a></th><td class=\"navbox-list-with-group navbox-list navbox-even\" style=\"width:100%;padding:0\"><div style=\"padding:0 0.25em\">\n",
      "<ul><li><a href=\"/wiki/List_of_language_families\" title=\"List of language families\">Language families</a>\n",
      "<ul><li><a class=\"mw-redirect\" href=\"/wiki/List_of_Afro-Asiatic_languages\" title=\"List of Afro-Asiatic languages\">List of Afro-Asiatic languages</a></li>\n",
      "<li><a class=\"mw-redirect\" href=\"/wiki/List_of_Austronesian_languages\" title=\"List of Austronesian languages\">List of Austronesian languages</a></li>\n",
      "<li><a href=\"/wiki/List_of_Indo-European_languages\" title=\"List of Indo-European languages\">List of Indo-European languages</a></li>\n",
      "<li><a href=\"/wiki/List_of_Mongolic_languages\" title=\"List of Mongolic languages\">List of Mongolic languages</a></li>\n",
      "<li><a class=\"mw-redirect\" href=\"/wiki/List_of_Tungusic_languages\" title=\"List of Tungusic languages\">List of Tungusic languages</a></li>\n",
      "<li><a href=\"/wiki/List_of_Turkic_languages\" title=\"List of Turkic languages\">List of Turkic languages</a></li>\n",
      "<li><a href=\"/wiki/List_of_Uralic_languages\" title=\"List of Uralic languages\">List of Uralic languages</a></li></ul></li></ul>\n",
      "</div></td></tr><tr><th class=\"navbox-group\" scope=\"row\" style=\"width:1%\"><div style=\"display: inline-block; line-height: 1.2em; padding: .1em 0;\">Language-based<br/><a href=\"/wiki/Geopolitics\" title=\"Geopolitics\">geopolitical</a><br/>organizations</div></th><td class=\"navbox-list-with-group navbox-list navbox-odd\" style=\"width:100%;padding:0\"><div style=\"padding:0 0.25em\">\n",
      "<ul><li><a href=\"/wiki/Arab_League\" title=\"Arab League\">Arab League <span style=\"font-size:85%;\">(Arabic)</span></a></li>\n",
      "<li><a href=\"/wiki/Dutch_Language_Union\" title=\"Dutch Language Union\">Dutch Language Union <span style=\"font-size:85%;\">(Dutch)</span></a></li>\n",
      "<li><a href=\"/wiki/Commonwealth_of_Nations\" title=\"Commonwealth of Nations\">Commonwealth of Nations <span style=\"font-size:85%;\">(English)</span></a></li>\n",
      "<li><a href=\"/wiki/Latin_Union\" title=\"Latin Union\">Latin Union</a> <span style=\"font-size:85%;\">(<a href=\"/wiki/Romance_languages\" title=\"Romance languages\">Romance</a>)</span></li>\n",
      "<li><a href=\"/wiki/Three_Linguistic_Spaces\" title=\"Three Linguistic Spaces\">Three Linguistic Spaces</a>\n",
      "<ul><li><a href=\"/wiki/Organisation_internationale_de_la_Francophonie\" title=\"Organisation internationale de la Francophonie\">Francophonie <span style=\"font-size:85%;\">(French)</span></a></li>\n",
      "<li><a href=\"/wiki/Community_of_Portuguese_Language_Countries\" title=\"Community of Portuguese Language Countries\">Community of Portuguese Language Countries</a>\n",
      "<ul><li><a href=\"/wiki/Portuguese-speaking_African_countries\" title=\"Portuguese-speaking African countries\"><i>Países Africanos de Língua Oficial Portuguesa</i> <span style=\"font-size:85%;\">(Portuguese)</span></a></li></ul></li>\n",
      "<li><a href=\"/wiki/Hispanidad\" title=\"Hispanidad\">Hispanidad <span style=\"font-size:85%;\">(Spanish)</span></a></li></ul></li>\n",
      "<li><a href=\"/wiki/Organization_of_Turkic_States\" title=\"Organization of Turkic States\">Organization of Turkic States</a> <span style=\"font-size:85%;\">(<a href=\"/wiki/Turkic_languages\" title=\"Turkic languages\">Turkic</a>)</span></li>\n",
      "<li><a href=\"/wiki/International_Organization_of_Turkic_Culture\" title=\"International Organization of Turkic Culture\">International Organization of Turkic Culture</a> <span style=\"font-size:85%;\">(<a href=\"/wiki/Turkic_languages\" title=\"Turkic languages\">Turkic</a>)</span></li></ul>\n",
      "</div></td></tr><tr><th class=\"navbox-group\" scope=\"row\" style=\"width:1%\">See also</th><td class=\"navbox-list-with-group navbox-list navbox-even\" style=\"width:100%;padding:0\"><div style=\"padding:0 0.25em\">\n",
      "<ul><li><a href=\"/wiki/Category:Lists_of_languages\" title=\"Category:Lists of languages\">Lists of languages</a></li>\n",
      "<li><a href=\"/wiki/Category:Languages\" title=\"Category:Languages\">Category:Languages</a></li></ul>\n",
      "</div></td></tr></tbody>]\n",
      "[<tbody><tr><th class=\"navbox-group\" scope=\"row\" style=\"width:1%\">By continent</th><td class=\"navbox-list-with-group navbox-list navbox-odd\" style=\"width:100%;padding:0\"><div style=\"padding:0 0.25em\">\n",
      "<ul><li><a href=\"/wiki/Languages_of_Africa\" title=\"Languages of Africa\">Africa</a></li>\n",
      "<li><a href=\"/wiki/Indigenous_languages_of_the_Americas\" title=\"Indigenous languages of the Americas\">Americas</a>\n",
      "<ul><li><a href=\"/wiki/Languages_of_North_America\" title=\"Languages of North America\">North</a></li>\n",
      "<li><a href=\"/wiki/Languages_of_South_America\" title=\"Languages of South America\">South</a></li></ul></li>\n",
      "<li><a href=\"/wiki/Languages_of_Asia\" title=\"Languages of Asia\">Asia</a>\n",
      "<ul><li><a href=\"/wiki/Languages_of_East_Asia\" title=\"Languages of East Asia\">East</a></li>\n",
      "<li><a href=\"/wiki/Languages_of_South_Asia\" title=\"Languages of South Asia\">South</a></li></ul></li>\n",
      "<li><a href=\"/wiki/Languages_of_Europe\" title=\"Languages of Europe\">Europe</a></li>\n",
      "<li><a href=\"/wiki/Languages_of_Oceania\" title=\"Languages of Oceania\">Oceania</a></li></ul>\n",
      "</div></td></tr><tr><th class=\"navbox-group\" scope=\"row\" style=\"width:1%\">By country</th><td class=\"navbox-list-with-group navbox-list navbox-even\" style=\"width:100%;padding:0\"><div style=\"padding:0 0.25em\">\n",
      "<ul><li><a href=\"/wiki/List_of_official_languages\" title=\"List of official languages\">Official languages</a>\n",
      "<ul><li><a href=\"/wiki/List_of_official_languages_by_country_and_territory\" title=\"List of official languages by country and territory\">by country and territory</a></li></ul></li>\n",
      "<li><a class=\"new\" href=\"/w/index.php?title=List_of_languages_without_official_status&amp;action=edit&amp;redlink=1\" title=\"List of languages without official status (page does not exist)\">List of languages without official status</a></li>\n",
      "<li><a href=\"/wiki/List_of_countries_by_the_number_of_recognized_official_languages\" title=\"List of countries by the number of recognized official languages\">Countries by the number of recognized official languages</a></li>\n",
      "<li><a href=\"/wiki/List_of_languages_by_the_number_of_countries_in_which_they_are_recognized_as_an_official_language\" title=\"List of languages by the number of countries in which they are recognized as an official language\">Languages by the number of countries in which they are recognized as an official language</a></li>\n",
      "<li><a href=\"/wiki/Number_of_languages_by_country\" title=\"Number of languages by country\">Number of languages</a></li></ul>\n",
      "</div></td></tr><tr><th class=\"navbox-group\" scope=\"row\" style=\"width:1%\">By population</th><td class=\"navbox-list-with-group navbox-list navbox-odd\" style=\"width:100%;padding:0\"><div style=\"padding:0 0.25em\">\n",
      "<ul><li><a class=\"mw-selflink selflink\">By number of native speakers</a>\n",
      "<ul><li><a class=\"mw-redirect\" href=\"/wiki/List_of_European_languages_by_number_of_speakers\" title=\"List of European languages by number of speakers\">Europe</a></li></ul></li>\n",
      "<li><a href=\"/wiki/List_of_languages_by_total_number_of_speakers\" title=\"List of languages by total number of speakers\">By number of total speakers</a></li>\n",
      "<li><a href=\"/wiki/Languages_in_censuses\" title=\"Languages in censuses\">Languages in censuses</a></li></ul>\n",
      "</div></td></tr><tr><th class=\"navbox-group\" scope=\"row\" style=\"width:1%\">By <a href=\"/wiki/Language_family\" title=\"Language family\">family</a></th><td class=\"navbox-list-with-group navbox-list navbox-even\" style=\"width:100%;padding:0\"><div style=\"padding:0 0.25em\">\n",
      "<ul><li><a href=\"/wiki/List_of_language_families\" title=\"List of language families\">Language families</a>\n",
      "<ul><li><a class=\"mw-redirect\" href=\"/wiki/List_of_Afro-Asiatic_languages\" title=\"List of Afro-Asiatic languages\">List of Afro-Asiatic languages</a></li>\n",
      "<li><a class=\"mw-redirect\" href=\"/wiki/List_of_Austronesian_languages\" title=\"List of Austronesian languages\">List of Austronesian languages</a></li>\n",
      "<li><a href=\"/wiki/List_of_Indo-European_languages\" title=\"List of Indo-European languages\">List of Indo-European languages</a></li>\n",
      "<li><a href=\"/wiki/List_of_Mongolic_languages\" title=\"List of Mongolic languages\">List of Mongolic languages</a></li>\n",
      "<li><a class=\"mw-redirect\" href=\"/wiki/List_of_Tungusic_languages\" title=\"List of Tungusic languages\">List of Tungusic languages</a></li>\n",
      "<li><a href=\"/wiki/List_of_Turkic_languages\" title=\"List of Turkic languages\">List of Turkic languages</a></li>\n",
      "<li><a href=\"/wiki/List_of_Uralic_languages\" title=\"List of Uralic languages\">List of Uralic languages</a></li></ul></li></ul>\n",
      "</div></td></tr><tr><th class=\"navbox-group\" scope=\"row\" style=\"width:1%\"><div style=\"display: inline-block; line-height: 1.2em; padding: .1em 0;\">Language-based<br/><a href=\"/wiki/Geopolitics\" title=\"Geopolitics\">geopolitical</a><br/>organizations</div></th><td class=\"navbox-list-with-group navbox-list navbox-odd\" style=\"width:100%;padding:0\"><div style=\"padding:0 0.25em\">\n",
      "<ul><li><a href=\"/wiki/Arab_League\" title=\"Arab League\">Arab League <span style=\"font-size:85%;\">(Arabic)</span></a></li>\n",
      "<li><a href=\"/wiki/Dutch_Language_Union\" title=\"Dutch Language Union\">Dutch Language Union <span style=\"font-size:85%;\">(Dutch)</span></a></li>\n",
      "<li><a href=\"/wiki/Commonwealth_of_Nations\" title=\"Commonwealth of Nations\">Commonwealth of Nations <span style=\"font-size:85%;\">(English)</span></a></li>\n",
      "<li><a href=\"/wiki/Latin_Union\" title=\"Latin Union\">Latin Union</a> <span style=\"font-size:85%;\">(<a href=\"/wiki/Romance_languages\" title=\"Romance languages\">Romance</a>)</span></li>\n",
      "<li><a href=\"/wiki/Three_Linguistic_Spaces\" title=\"Three Linguistic Spaces\">Three Linguistic Spaces</a>\n",
      "<ul><li><a href=\"/wiki/Organisation_internationale_de_la_Francophonie\" title=\"Organisation internationale de la Francophonie\">Francophonie <span style=\"font-size:85%;\">(French)</span></a></li>\n",
      "<li><a href=\"/wiki/Community_of_Portuguese_Language_Countries\" title=\"Community of Portuguese Language Countries\">Community of Portuguese Language Countries</a>\n",
      "<ul><li><a href=\"/wiki/Portuguese-speaking_African_countries\" title=\"Portuguese-speaking African countries\"><i>Países Africanos de Língua Oficial Portuguesa</i> <span style=\"font-size:85%;\">(Portuguese)</span></a></li></ul></li>\n",
      "<li><a href=\"/wiki/Hispanidad\" title=\"Hispanidad\">Hispanidad <span style=\"font-size:85%;\">(Spanish)</span></a></li></ul></li>\n",
      "<li><a href=\"/wiki/Organization_of_Turkic_States\" title=\"Organization of Turkic States\">Organization of Turkic States</a> <span style=\"font-size:85%;\">(<a href=\"/wiki/Turkic_languages\" title=\"Turkic languages\">Turkic</a>)</span></li>\n",
      "<li><a href=\"/wiki/International_Organization_of_Turkic_Culture\" title=\"International Organization of Turkic Culture\">International Organization of Turkic Culture</a> <span style=\"font-size:85%;\">(<a href=\"/wiki/Turkic_languages\" title=\"Turkic languages\">Turkic</a>)</span></li></ul>\n",
      "</div></td></tr><tr><th class=\"navbox-group\" scope=\"row\" style=\"width:1%\">See also</th><td class=\"navbox-list-with-group navbox-list navbox-even\" style=\"width:100%;padding:0\"><div style=\"padding:0 0.25em\">\n",
      "<ul><li><a href=\"/wiki/Category:Lists_of_languages\" title=\"Category:Lists of languages\">Lists of languages</a></li>\n",
      "<li><a href=\"/wiki/Category:Languages\" title=\"Category:Languages\">Category:Languages</a></li></ul>\n",
      "</div></td></tr></tbody>]\n"
     ]
    }
   ],
   "source": [
    "article_list_top = [] #creo una lista vacia\n",
    "for a in article_top:\n",
    "    a = str(a)\n",
    "    soup_a_top =bs4.BeautifulSoup(a,'html.parser')\n",
    "    list_a_top = soup_a_top.find_all('tbody')\n",
    "    print(list_a_top)\n",
    "#article_list_top"
   ]
  },
  {
   "cell_type": "code",
   "execution_count": null,
   "metadata": {},
   "outputs": [],
   "source": [
    "#me quedo aqui atascada, me faltaria filtrar despues de Dravidian... que es donde empieza la tabla + los 10 primeros"
   ]
  },
  {
   "cell_type": "markdown",
   "metadata": {},
   "source": [
    "## Bonus\n",
    "#### Scrape a certain number of tweets of a given Twitter account."
   ]
  },
  {
   "cell_type": "code",
   "execution_count": null,
   "metadata": {},
   "outputs": [],
   "source": [
    "# This is the url you will scrape in this exercise \n",
    "# You will need to add the account credentials to this url\n",
    "url = 'https://twitter.com/'"
   ]
  },
  {
   "cell_type": "code",
   "execution_count": null,
   "metadata": {},
   "outputs": [],
   "source": [
    "# your code here"
   ]
  },
  {
   "cell_type": "markdown",
   "metadata": {},
   "source": [
    "#### Display IMDB's top 250 data (movie name, initial release, director name and stars) as a pandas dataframe."
   ]
  },
  {
   "cell_type": "code",
   "execution_count": null,
   "metadata": {},
   "outputs": [],
   "source": [
    "# This is the url you will scrape in this exercise \n",
    "url = 'https://www.imdb.com/chart/top'"
   ]
  },
  {
   "cell_type": "code",
   "execution_count": null,
   "metadata": {},
   "outputs": [],
   "source": [
    "# your code here"
   ]
  },
  {
   "cell_type": "markdown",
   "metadata": {},
   "source": [
    "#### Display the movie name, year and a brief summary of the top 10 random movies (IMDB) as a pandas dataframe."
   ]
  },
  {
   "cell_type": "code",
   "execution_count": null,
   "metadata": {},
   "outputs": [],
   "source": [
    "#This is the url you will scrape in this exercise\n",
    "url = 'http://www.imdb.com/chart/top'"
   ]
  },
  {
   "cell_type": "code",
   "execution_count": null,
   "metadata": {},
   "outputs": [],
   "source": [
    "# your code here"
   ]
  },
  {
   "cell_type": "markdown",
   "metadata": {},
   "source": [
    "#### Find the live weather report (temperature, wind speed, description and weather) of a given city."
   ]
  },
  {
   "cell_type": "code",
   "execution_count": null,
   "metadata": {},
   "outputs": [],
   "source": [
    "#https://openweathermap.org/current\n",
    "city = input('Enter the city: ')\n",
    "url = 'http://api.openweathermap.org/data/2.5/weather?'+'q='+city+'&APPID=b35975e18dc93725acb092f7272cc6b8&units=metric'"
   ]
  },
  {
   "cell_type": "code",
   "execution_count": null,
   "metadata": {},
   "outputs": [],
   "source": [
    "# your code here"
   ]
  },
  {
   "cell_type": "markdown",
   "metadata": {},
   "source": [
    "#### Find the book name, price and stock availability as a pandas dataframe."
   ]
  },
  {
   "cell_type": "code",
   "execution_count": null,
   "metadata": {},
   "outputs": [],
   "source": [
    "# This is the url you will scrape in this exercise. \n",
    "# It is a fictional bookstore created to be scraped. \n",
    "url = 'http://books.toscrape.com/'"
   ]
  },
  {
   "cell_type": "code",
   "execution_count": null,
   "metadata": {},
   "outputs": [],
   "source": [
    "# your code here"
   ]
  }
 ],
 "metadata": {
  "kernelspec": {
   "display_name": "Python (m1_env)",
   "language": "python",
   "name": "m1_env"
  },
  "language_info": {
   "codemirror_mode": {
    "name": "ipython",
    "version": 3
   },
   "file_extension": ".py",
   "mimetype": "text/x-python",
   "name": "python",
   "nbconvert_exporter": "python",
   "pygments_lexer": "ipython3",
   "version": "3.10.13"
  }
 },
 "nbformat": 4,
 "nbformat_minor": 2
}
